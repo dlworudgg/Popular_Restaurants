{
 "cells": [
  {
   "cell_type": "code",
   "execution_count": 2,
   "id": "024aa02e",
   "metadata": {
    "scrolled": false
   },
   "outputs": [
    {
     "name": "stderr",
     "output_type": "stream",
     "text": [
      "/Users/jae/.pyenv/versions/3.7.10/lib/python3.7/site-packages/pandas/compat/__init__.py:124: UserWarning: Could not import the lzma module. Your installed Python is incomplete. Attempting to use lzma compression will result in a RuntimeError.\n",
      "  warnings.warn(msg)\n"
     ]
    }
   ],
   "source": [
    "import time\n",
    "import pandas as pd\n",
    "import requests\n",
    "import json\n",
    "from tqdm import tqdm\n",
    "tqdm.pandas()\n",
    "\n",
    "from tenacity import retry, wait_random_exponential, stop_after_attempt\n",
    "\n",
    "import re\n",
    "import ast"
   ]
  },
  {
   "cell_type": "code",
   "execution_count": 61,
   "id": "3d751a37",
   "metadata": {},
   "outputs": [],
   "source": [
    "import openai\n",
    "from openai.embeddings_utils import get_embedding"
   ]
  },
  {
   "cell_type": "code",
   "execution_count": 157,
   "id": "aecbb2db",
   "metadata": {},
   "outputs": [],
   "source": [
    "from sklearn.manifold import TSNE\n",
    "import matplotlib.pyplot as plt"
   ]
  },
  {
   "cell_type": "code",
   "execution_count": 62,
   "id": "b79ace14",
   "metadata": {},
   "outputs": [],
   "source": [
    "openai.api_key = OPENAI_API_KEY"
   ]
  },
  {
   "cell_type": "code",
   "execution_count": 136,
   "id": "02419392",
   "metadata": {},
   "outputs": [],
   "source": [
    "df = pd.read_csv(\"Top Rated Popular Restaurants in New York City.csv\")\n",
    "df = df.drop_duplicates()"
   ]
  },
  {
   "cell_type": "code",
   "execution_count": 138,
   "id": "a86c6b08",
   "metadata": {
    "scrolled": true
   },
   "outputs": [
    {
     "data": {
      "text/html": [
       "<div>\n",
       "<style scoped>\n",
       "    .dataframe tbody tr th:only-of-type {\n",
       "        vertical-align: middle;\n",
       "    }\n",
       "\n",
       "    .dataframe tbody tr th {\n",
       "        vertical-align: top;\n",
       "    }\n",
       "\n",
       "    .dataframe thead th {\n",
       "        text-align: right;\n",
       "    }\n",
       "</style>\n",
       "<table border=\"1\" class=\"dataframe\">\n",
       "  <thead>\n",
       "    <tr style=\"text-align: right;\">\n",
       "      <th></th>\n",
       "      <th>category</th>\n",
       "      <th>Name</th>\n",
       "    </tr>\n",
       "  </thead>\n",
       "  <tbody>\n",
       "    <tr>\n",
       "      <th>18</th>\n",
       "      <td>Italian</td>\n",
       "      <td>39</td>\n",
       "    </tr>\n",
       "    <tr>\n",
       "      <th>0</th>\n",
       "      <td>American</td>\n",
       "      <td>32</td>\n",
       "    </tr>\n",
       "    <tr>\n",
       "      <th>40</th>\n",
       "      <td>Sushi</td>\n",
       "      <td>20</td>\n",
       "    </tr>\n",
       "    <tr>\n",
       "      <th>20</th>\n",
       "      <td>Japanese</td>\n",
       "      <td>16</td>\n",
       "    </tr>\n",
       "    <tr>\n",
       "      <th>12</th>\n",
       "      <td>French</td>\n",
       "      <td>15</td>\n",
       "    </tr>\n",
       "    <tr>\n",
       "      <th>31</th>\n",
       "      <td>New American</td>\n",
       "      <td>10</td>\n",
       "    </tr>\n",
       "    <tr>\n",
       "      <th>22</th>\n",
       "      <td>Korean</td>\n",
       "      <td>9</td>\n",
       "    </tr>\n",
       "    <tr>\n",
       "      <th>35</th>\n",
       "      <td>Seafood</td>\n",
       "      <td>9</td>\n",
       "    </tr>\n",
       "    <tr>\n",
       "      <th>6</th>\n",
       "      <td>Cocktail Bar</td>\n",
       "      <td>6</td>\n",
       "    </tr>\n",
       "    <tr>\n",
       "      <th>25</th>\n",
       "      <td>Mediterranean</td>\n",
       "      <td>6</td>\n",
       "    </tr>\n",
       "    <tr>\n",
       "      <th>7</th>\n",
       "      <td>Contemporary American</td>\n",
       "      <td>4</td>\n",
       "    </tr>\n",
       "    <tr>\n",
       "      <th>33</th>\n",
       "      <td>Pizza</td>\n",
       "      <td>4</td>\n",
       "    </tr>\n",
       "    <tr>\n",
       "      <th>43</th>\n",
       "      <td>Thai</td>\n",
       "      <td>3</td>\n",
       "    </tr>\n",
       "    <tr>\n",
       "      <th>38</th>\n",
       "      <td>Spanish</td>\n",
       "      <td>2</td>\n",
       "    </tr>\n",
       "    <tr>\n",
       "      <th>36</th>\n",
       "      <td>Southeast Asian</td>\n",
       "      <td>2</td>\n",
       "    </tr>\n",
       "    <tr>\n",
       "      <th>27</th>\n",
       "      <td>Middle Eastern</td>\n",
       "      <td>2</td>\n",
       "    </tr>\n",
       "    <tr>\n",
       "      <th>26</th>\n",
       "      <td>Mexican</td>\n",
       "      <td>2</td>\n",
       "    </tr>\n",
       "    <tr>\n",
       "      <th>48</th>\n",
       "      <td>Wine</td>\n",
       "      <td>2</td>\n",
       "    </tr>\n",
       "    <tr>\n",
       "      <th>14</th>\n",
       "      <td>Gastropub</td>\n",
       "      <td>2</td>\n",
       "    </tr>\n",
       "    <tr>\n",
       "      <th>3</th>\n",
       "      <td>Asian American</td>\n",
       "      <td>2</td>\n",
       "    </tr>\n",
       "    <tr>\n",
       "      <th>5</th>\n",
       "      <td>Chinese</td>\n",
       "      <td>2</td>\n",
       "    </tr>\n",
       "    <tr>\n",
       "      <th>17</th>\n",
       "      <td>Israeli</td>\n",
       "      <td>1</td>\n",
       "    </tr>\n",
       "    <tr>\n",
       "      <th>34</th>\n",
       "      <td>Portuguese</td>\n",
       "      <td>1</td>\n",
       "    </tr>\n",
       "    <tr>\n",
       "      <th>47</th>\n",
       "      <td>Vietnamese</td>\n",
       "      <td>1</td>\n",
       "    </tr>\n",
       "    <tr>\n",
       "      <th>46</th>\n",
       "      <td>Vegetarian</td>\n",
       "      <td>1</td>\n",
       "    </tr>\n",
       "    <tr>\n",
       "      <th>45</th>\n",
       "      <td>Vegan &amp; Plant-based</td>\n",
       "      <td>1</td>\n",
       "    </tr>\n",
       "    <tr>\n",
       "      <th>44</th>\n",
       "      <td>Vegan</td>\n",
       "      <td>1</td>\n",
       "    </tr>\n",
       "    <tr>\n",
       "      <th>2</th>\n",
       "      <td>Asian</td>\n",
       "      <td>1</td>\n",
       "    </tr>\n",
       "    <tr>\n",
       "      <th>42</th>\n",
       "      <td>Tapas</td>\n",
       "      <td>1</td>\n",
       "    </tr>\n",
       "    <tr>\n",
       "      <th>41</th>\n",
       "      <td>Szechuan</td>\n",
       "      <td>1</td>\n",
       "    </tr>\n",
       "    <tr>\n",
       "      <th>39</th>\n",
       "      <td>Steakhouse</td>\n",
       "      <td>1</td>\n",
       "    </tr>\n",
       "    <tr>\n",
       "      <th>4</th>\n",
       "      <td>Breakfast</td>\n",
       "      <td>1</td>\n",
       "    </tr>\n",
       "    <tr>\n",
       "      <th>37</th>\n",
       "      <td>Southwest</td>\n",
       "      <td>1</td>\n",
       "    </tr>\n",
       "    <tr>\n",
       "      <th>8</th>\n",
       "      <td>Drinks and Snacks</td>\n",
       "      <td>1</td>\n",
       "    </tr>\n",
       "    <tr>\n",
       "      <th>9</th>\n",
       "      <td>European</td>\n",
       "      <td>1</td>\n",
       "    </tr>\n",
       "    <tr>\n",
       "      <th>19</th>\n",
       "      <td>Italian American</td>\n",
       "      <td>1</td>\n",
       "    </tr>\n",
       "    <tr>\n",
       "      <th>32</th>\n",
       "      <td>Persian</td>\n",
       "      <td>1</td>\n",
       "    </tr>\n",
       "    <tr>\n",
       "      <th>10</th>\n",
       "      <td>Experimental</td>\n",
       "      <td>1</td>\n",
       "    </tr>\n",
       "    <tr>\n",
       "      <th>30</th>\n",
       "      <td>Natural Wine</td>\n",
       "      <td>1</td>\n",
       "    </tr>\n",
       "    <tr>\n",
       "      <th>29</th>\n",
       "      <td>Modern Latin</td>\n",
       "      <td>1</td>\n",
       "    </tr>\n",
       "    <tr>\n",
       "      <th>28</th>\n",
       "      <td>Modern British</td>\n",
       "      <td>1</td>\n",
       "    </tr>\n",
       "    <tr>\n",
       "      <th>11</th>\n",
       "      <td>Farm to Table</td>\n",
       "      <td>1</td>\n",
       "    </tr>\n",
       "    <tr>\n",
       "      <th>13</th>\n",
       "      <td>French-American and Japanese</td>\n",
       "      <td>1</td>\n",
       "    </tr>\n",
       "    <tr>\n",
       "      <th>1</th>\n",
       "      <td>Argentinean</td>\n",
       "      <td>1</td>\n",
       "    </tr>\n",
       "    <tr>\n",
       "      <th>23</th>\n",
       "      <td>Lebanese</td>\n",
       "      <td>1</td>\n",
       "    </tr>\n",
       "    <tr>\n",
       "      <th>15</th>\n",
       "      <td>Georgian</td>\n",
       "      <td>1</td>\n",
       "    </tr>\n",
       "    <tr>\n",
       "      <th>21</th>\n",
       "      <td>Jewish</td>\n",
       "      <td>1</td>\n",
       "    </tr>\n",
       "    <tr>\n",
       "      <th>16</th>\n",
       "      <td>Irish</td>\n",
       "      <td>1</td>\n",
       "    </tr>\n",
       "    <tr>\n",
       "      <th>24</th>\n",
       "      <td>Local</td>\n",
       "      <td>1</td>\n",
       "    </tr>\n",
       "  </tbody>\n",
       "</table>\n",
       "</div>"
      ],
      "text/plain": [
       "                        category  Name\n",
       "18                       Italian    39\n",
       "0                       American    32\n",
       "40                         Sushi    20\n",
       "20                      Japanese    16\n",
       "12                        French    15\n",
       "31                  New American    10\n",
       "22                        Korean     9\n",
       "35                       Seafood     9\n",
       "6                   Cocktail Bar     6\n",
       "25                 Mediterranean     6\n",
       "7          Contemporary American     4\n",
       "33                         Pizza     4\n",
       "43                          Thai     3\n",
       "38                       Spanish     2\n",
       "36               Southeast Asian     2\n",
       "27                Middle Eastern     2\n",
       "26                       Mexican     2\n",
       "48                          Wine     2\n",
       "14                     Gastropub     2\n",
       "3                 Asian American     2\n",
       "5                        Chinese     2\n",
       "17                       Israeli     1\n",
       "34                    Portuguese     1\n",
       "47                    Vietnamese     1\n",
       "46                    Vegetarian     1\n",
       "45           Vegan & Plant-based     1\n",
       "44                         Vegan     1\n",
       "2                          Asian     1\n",
       "42                         Tapas     1\n",
       "41                      Szechuan     1\n",
       "39                    Steakhouse     1\n",
       "4                      Breakfast     1\n",
       "37                     Southwest     1\n",
       "8              Drinks and Snacks     1\n",
       "9                       European     1\n",
       "19              Italian American     1\n",
       "32                       Persian     1\n",
       "10                  Experimental     1\n",
       "30                  Natural Wine     1\n",
       "29                  Modern Latin     1\n",
       "28                Modern British     1\n",
       "11                 Farm to Table     1\n",
       "13  French-American and Japanese     1\n",
       "1                    Argentinean     1\n",
       "23                      Lebanese     1\n",
       "15                      Georgian     1\n",
       "21                        Jewish     1\n",
       "16                         Irish     1\n",
       "24                         Local     1"
      ]
     },
     "execution_count": 138,
     "metadata": {},
     "output_type": "execute_result"
    }
   ],
   "source": [
    "(df.groupby(\"category\")\n",
    " .count()\n",
    " .reset_index()\n",
    " .sort_values(\"Name\", ascending = False)\n",
    ")"
   ]
  },
  {
   "cell_type": "code",
   "execution_count": 75,
   "id": "164e98ab",
   "metadata": {},
   "outputs": [],
   "source": [
    "def return_dict_value(dict_, key ):\n",
    "    if key in dict_.keys():\n",
    "        return dict_[key]\n",
    "    else :\n",
    "        return 'NA'\n",
    "    \n",
    "def return_dict_value_tk(dict_, key, key2 ):\n",
    "    if key in dict_.keys():\n",
    "        if key2 in dict_[key].keys():\n",
    "            return dict_[key][key2]\n",
    "        else : \n",
    "            return 'NA'\n",
    "    else :\n",
    "        return 'NA'"
   ]
  },
  {
   "cell_type": "code",
   "execution_count": 76,
   "id": "cf161850",
   "metadata": {},
   "outputs": [
    {
     "name": "stderr",
     "output_type": "stream",
     "text": [
      "100%|█████████████████████████████████████████| 708/708 [04:27<00:00,  2.65it/s]\n"
     ]
    }
   ],
   "source": [
    "res_dict = {}\n",
    "for place in tqdm(df[\"Name\"]) : \n",
    "    placeId = getPlaceId(place)\n",
    "    result = getPlacedetail(placeId)\n",
    "    res_dict.update({place: {placeId:result} }) "
   ]
  },
  {
   "cell_type": "code",
   "execution_count": 88,
   "id": "637c5f84",
   "metadata": {},
   "outputs": [],
   "source": [
    "df_ls = []\n",
    "df_dict = {}\n",
    "for key in res_dict.keys():\n",
    "    \n",
    "    if list(res_dict[key].keys())[0] == \"No results\":\n",
    "        continue\n",
    "    \n",
    "    placeId  =  list(res_dict[key].keys())[0]\n",
    "    result_r = res_dict[key][placeId ][0]['result']\n",
    "    result_n = res_dict[key][placeId ][1]['result']\n",
    "    \n",
    "    \n",
    "    review_ls = []\n",
    "    if 'reviews' in   result_r.keys():\n",
    "        review_ls = [{'review' : review['text'] , \n",
    "                     'rating' : review['rating'],\n",
    "                      'author_url' : review['author_url'] } \n",
    "                     for review in result_r['reviews'] ]\n",
    "    \n",
    "    if 'reviews' in   result_n.keys():\n",
    "        review_ls.extend([{'review' : review['text'] , \n",
    "                             'rating' : review['rating'],\n",
    "                              'author_url' : review['author_url'] } \n",
    "                            for review in result_n['reviews'] ]\n",
    "                        )\n",
    "    \n",
    "    tmp_dict = {\"Name\" : key, \n",
    "               \"placeId \": placeId ,\n",
    "               'weekday_text' : return_dict_value_tk(result_r,'current_opening_hours','weekday_text'),\n",
    "                'dine_in' :  return_dict_value(result_r,'dine_in'),\n",
    "                'formatted_address' :  return_dict_value(result_r,'formatted_address'),\n",
    "                'geometry': {'lat': result_r['geometry']['location']['lat'],\n",
    "                             'lng' : result_r['geometry']['location']['lng']},\n",
    "                'photos' :  return_dict_value(result_r,'photos'),\n",
    "                'rating' : return_dict_value(result_r,'rating'),\n",
    "                'reservable':  return_dict_value(result_r,'reservable'),\n",
    "                'serves_wine': return_dict_value(result_r,'serves_wine'),\n",
    "                 'takeout': return_dict_value(result_r,'takeout'),\n",
    "                'types': return_dict_value(result_r, 'types'),\n",
    "                'user_ratings_total': return_dict_value(result_r,'user_ratings_total'),\n",
    "                 'website':  return_dict_value(result_r,'website'),\n",
    "                'reviews': review_ls\n",
    "               }\n",
    "    \n",
    "    df_ls.append(tmp_dict)\n",
    "    df_dict.update({key : tmp_dict})\n",
    "    \n",
    "    "
   ]
  },
  {
   "cell_type": "code",
   "execution_count": 91,
   "id": "fe2754f1",
   "metadata": {},
   "outputs": [],
   "source": [
    "df_w_gm = pd.DataFrame(df_ls)"
   ]
  },
  {
   "cell_type": "code",
   "execution_count": 117,
   "id": "045ba3f1",
   "metadata": {
    "scrolled": true
   },
   "outputs": [],
   "source": [
    "GPT_MODEL =\"gpt-3.5-turbo\"\n",
    "\n",
    "@retry(wait=wait_random_exponential(min=1, max=40), stop=stop_after_attempt(3))\n",
    "def chat_completion_request(messages, functions=None, model=GPT_MODEL):\n",
    "    headers = {\n",
    "        \"Content-Type\": \"application/json\",\n",
    "        \"Authorization\": \"Bearer \" + openai.api_key,\n",
    "    }\n",
    "    json_data = {\"model\": model, \"messages\": messages, 'temperature':0}\n",
    "    if functions is not None:\n",
    "        json_data.update({\"functions\": functions})\n",
    "    try:\n",
    "        response = requests.post(\n",
    "            \"https://api.openai.com/v1/chat/completions\",\n",
    "            headers=headers,\n",
    "            json=json_data,\n",
    "        )\n",
    "        return response\n",
    "    except Exception as e:\n",
    "        print(\"Unable to generate ChatCompletion response\")\n",
    "        print(f\"Exception: {e}\")\n",
    "        return e\n",
    "    \n",
    "    \n",
    "class Conversation:\n",
    "    def __init__(self):\n",
    "        self.conversation_history = []\n",
    "\n",
    "    def add_message(self, role, content):\n",
    "        message = {\"role\": role, \"content\": content}\n",
    "        self.conversation_history.append(message)\n",
    "\n",
    "    def display_conversation(self, detailed=False):\n",
    "        role_to_color = {\n",
    "            \"system\": \"red\",\n",
    "            \"user\": \"green\",\n",
    "            \"assistant\": \"blue\",\n",
    "            \"function\": \"magenta\",\n",
    "        }\n",
    "        for message in self.conversation_history:\n",
    "            print(\n",
    "                colored(\n",
    "                    f\"{message['role']}: {message['content']}\\n\\n\",\n",
    "                    role_to_color[message[\"role\"]],\n",
    "                )\n",
    "            )\n",
    "            \n"
   ]
  },
  {
   "cell_type": "code",
   "execution_count": 118,
   "id": "469bd287",
   "metadata": {},
   "outputs": [],
   "source": [
    "def process_chat_response(chat_response):\n",
    "    text = chat_response.json()[\"choices\"][0]['message']['content']\n",
    "    sections = [\"Cuisine Nationality\", \"Restaurant Type\", \"Specialty Dishes\", \"Strengths of the Restaurant\", \"Areas for Improvement\",\"Overall Summary of the Restaurant\"]\n",
    "    data = {}\n",
    "    result_dict = {}\n",
    "    for i in range(len(sections)-1):\n",
    "        pattern = f\"{sections[i]}: (.*?)\\n*{sections[i+1]}:\"\n",
    "        match = re.search(pattern, text, re.DOTALL)\n",
    "        if match:\n",
    "            data[sections[i]] = match.group(1).strip()\n",
    "\n",
    "    # Add the last section separately as it's not followed by another section\n",
    "    pattern = f\"{sections[-1]}: (.*)\"\n",
    "    match = re.search(pattern, text, re.DOTALL)\n",
    "    if match:\n",
    "        data[sections[-1]] = match.group(1).strip()\n",
    "\n",
    "    for key, value in data.items():\n",
    "        result_dict.update({key: value})\n",
    "        \n",
    "    return result_dict"
   ]
  },
  {
   "cell_type": "code",
   "execution_count": null,
   "id": "29a6db1c",
   "metadata": {},
   "outputs": [],
   "source": [
    "df_ls = []\n",
    "\n",
    "\n",
    "for row_num , reviews  in enumerate(df_w_gm[\"reviews\"]): \n",
    "    list_of_dicts = ast.literal_eval(reviews)\n",
    "    review_ls = [dict_[\"review\"] for dict_ in list_of_dicts if len(dict_[\"review\"])> 1]\n",
    "    \n",
    "    text = 'These are the reviews \\n '\n",
    "    for r, n in enumerate(review_ls):\n",
    "        text = text + f\"Review {str(r+1)}: {n} \\n \"\n",
    "    \n",
    "    conversation.add_message(\"user\",text )\n",
    "    \n",
    "    conversation = Conversation()\n",
    "    conversation.add_message(\"system\", \n",
    "    \"\"\"You are making the summary of the reviews of one restrauant.  \n",
    "    This JSON file contains information about a specific restaurant. From the information provided, could you infer the cuisine nationality and the type of dishes the restaurant specializes in? If it's not possible to make an informed guess, kindly indicate with \"N/A\". Please be as accurate as possible when identifying the 'Cuisine Nationality' and 'Specialty Dishes'.\n",
    "    Moreover, we'd appreciate a comprehensive summary that describes the ambiance of the restaurant, its strengths, and its weaknesses. Please avoid repeating information already mentioned in the previous sections.\n",
    "\n",
    "    Your summary should enrich our understanding of the place. If the details provided are insufficient, feel free to augment them with plausible extrapolations while maintaining the integrity of the information.\n",
    "\n",
    "\n",
    "    Please adhere to the following format for your response:\n",
    "\n",
    "    Cuisine Nationality:\n",
    "    Restaurant Type:\n",
    "    Specialty Dishes:\n",
    "    Strengths of the Restaurant:\n",
    "    Areas for Improvement:\n",
    "    Overall Summary of the Restaurant:\n",
    "    \"\"\")\n",
    "    \n",
    "    conversation.add_message(\"user\",text )\n",
    "\n",
    "    chat_response = chat_completion_request(\n",
    "        conversation.conversation_history )\n",
    "    \n",
    "    \n",
    "    result_dict= process_chat_response(chat_response)\n",
    "    \n",
    "    tmp_dict = {\"Name\" : df_w_gm.iloc[row_num][\"Name\"],\n",
    "               \"Cuisine Nationality\" : result_dict[\"Cuisine Nationality\"],\n",
    "               \"Restaurant Type\" :result_dict[\"Restaurant Type\" ],\n",
    "                \"Specialty Dishes\" :result_dict[\"Specialty Dishes\"],\n",
    "                \"Strengths of the Restaurant\" :result_dict[\"Strengths of the Restaurant\"],\n",
    "                \"Areas for Improvement\" :result_dict[\"Areas for Improvement\"],\n",
    "                \"Overall Summary of the Restaurant\" :result_dict[\"Overall Summary of the Restaurant\"]\n",
    "               }\n",
    "    \n",
    "    print(row_num , '/' , len(df_w_gm[\"reviews\"]))\n",
    "    \n",
    "    df_ls.append(tmp_dict)"
   ]
  },
  {
   "cell_type": "code",
   "execution_count": 35,
   "id": "f6b6597c",
   "metadata": {},
   "outputs": [],
   "source": [
    "result_df = pd.DataFrame(df_ls) "
   ]
  },
  {
   "cell_type": "code",
   "execution_count": 144,
   "id": "c8cb7d00",
   "metadata": {},
   "outputs": [],
   "source": [
    "result_df = result_df.fillna(\"Not Available\")"
   ]
  },
  {
   "cell_type": "code",
   "execution_count": 143,
   "id": "ff357dad",
   "metadata": {},
   "outputs": [],
   "source": [
    "embedding_model = \"text-embedding-ada-002\""
   ]
  },
  {
   "cell_type": "code",
   "execution_count": 145,
   "id": "5ac4587a",
   "metadata": {
    "scrolled": false
   },
   "outputs": [
    {
     "name": "stderr",
     "output_type": "stream",
     "text": [
      "100%|█████████████████████████████████████████| 212/212 [24:49<00:00,  7.03s/it]\n",
      "100%|█████████████████████████████████████████| 212/212 [02:25<00:00,  1.45it/s]\n",
      "100%|█████████████████████████████████████████| 212/212 [00:39<00:00,  5.42it/s]\n",
      "100%|█████████████████████████████████████████| 212/212 [00:33<00:00,  6.42it/s]\n"
     ]
    }
   ],
   "source": [
    "result_df[\"OS_embedding\"] = result_df[\"Overall Summary of the Restaurant\"].progress_apply(lambda x: get_embedding(x, engine=embedding_model))\n",
    "result_df[\"ST_embedding\"] = result_df[ \"Strengths of the Restaurant\"].progress_apply(lambda x: get_embedding(x, engine=embedding_model))\n",
    "result_df[\"AI_embedding\"] =result_df[\"Areas for Improvement\"].progress_apply(lambda x: get_embedding(x, engine=embedding_model))\n",
    "result_df[\"SD_embedding\"] =result_df[\"Specialty Dishes\"].progress_apply(lambda x: get_embedding(x, engine=embedding_model))\n"
   ]
  },
  {
   "cell_type": "code",
   "execution_count": 153,
   "id": "371618f3",
   "metadata": {},
   "outputs": [
    {
     "name": "stderr",
     "output_type": "stream",
     "text": [
      "100%|█████████████████████████████████████████| 212/212 [00:56<00:00,  3.78it/s]\n"
     ]
    }
   ],
   "source": [
    "result_df[\"CG_embedding\"] =result_df[\"category\"].progress_apply(lambda x: get_embedding(x, engine=embedding_model))"
   ]
  },
  {
   "cell_type": "code",
   "execution_count": 151,
   "id": "1f041192",
   "metadata": {},
   "outputs": [],
   "source": [
    "result_df = df.merge(result_df, 'right' , on = \"Name\")"
   ]
  },
  {
   "cell_type": "code",
   "execution_count": 154,
   "id": "9f465d90",
   "metadata": {},
   "outputs": [
    {
     "data": {
      "text/html": [
       "<div>\n",
       "<style scoped>\n",
       "    .dataframe tbody tr th:only-of-type {\n",
       "        vertical-align: middle;\n",
       "    }\n",
       "\n",
       "    .dataframe tbody tr th {\n",
       "        vertical-align: top;\n",
       "    }\n",
       "\n",
       "    .dataframe thead th {\n",
       "        text-align: right;\n",
       "    }\n",
       "</style>\n",
       "<table border=\"1\" class=\"dataframe\">\n",
       "  <thead>\n",
       "    <tr style=\"text-align: right;\">\n",
       "      <th></th>\n",
       "      <th>Name</th>\n",
       "      <th>category</th>\n",
       "      <th>Cuisine Nationality</th>\n",
       "      <th>Restaurant Type</th>\n",
       "      <th>Specialty Dishes</th>\n",
       "      <th>Strengths of the Restaurant</th>\n",
       "      <th>Areas for Improvement</th>\n",
       "      <th>Overall Summary of the Restaurant</th>\n",
       "      <th>OS_embedding</th>\n",
       "      <th>ST_embedding</th>\n",
       "      <th>AI_embedding</th>\n",
       "      <th>SD_embedding</th>\n",
       "      <th>CG_embedding</th>\n",
       "    </tr>\n",
       "  </thead>\n",
       "  <tbody>\n",
       "    <tr>\n",
       "      <th>0</th>\n",
       "      <td>Foxface Natural</td>\n",
       "      <td>New American</td>\n",
       "      <td>Mediterranean</td>\n",
       "      <td>Natural Wine Bar</td>\n",
       "      <td>Confit mushroom with romesco, crispy goat with...</td>\n",
       "      <td>The restaurant offers high-quality ingredients...</td>\n",
       "      <td>There is no mention of any areas for improveme...</td>\n",
       "      <td>Foxface is a natural wine bar that specializes...</td>\n",
       "      <td>[0.002864565933123231, -0.013691711239516735, ...</td>\n",
       "      <td>[0.01119155716150999, -0.01560316700488329, 0....</td>\n",
       "      <td>[-0.0049005369655787945, 0.013941068202257156,...</td>\n",
       "      <td>[0.007710179779678583, -0.020429354161024094, ...</td>\n",
       "      <td>[-0.022367175668478012, 0.000900503306183964, ...</td>\n",
       "    </tr>\n",
       "    <tr>\n",
       "      <th>1</th>\n",
       "      <td>The Golden Swan</td>\n",
       "      <td>New American</td>\n",
       "      <td>Not Available</td>\n",
       "      <td>Bar and Restaurant</td>\n",
       "      <td>Carbonara, Mussels in Curry, Steak Tartare</td>\n",
       "      <td>The restaurant has a great atmosphere with a d...</td>\n",
       "      <td>Not Available</td>\n",
       "      <td>This bar and restaurant in the West Village ha...</td>\n",
       "      <td>[0.0009610162815079093, -0.012562875635921955,...</td>\n",
       "      <td>[-0.001732202130369842, -0.020194049924612045,...</td>\n",
       "      <td>[-0.0347219780087471, -0.022027920931577682, -...</td>\n",
       "      <td>[0.020966287702322006, -0.01374486368149519, 0...</td>\n",
       "      <td>[-0.022367175668478012, 0.000900503306183964, ...</td>\n",
       "    </tr>\n",
       "    <tr>\n",
       "      <th>2</th>\n",
       "      <td>Barbalu - Brooklyn</td>\n",
       "      <td>Italian</td>\n",
       "      <td>Italian</td>\n",
       "      <td>Casual Dining</td>\n",
       "      <td>Pasta, Pizza</td>\n",
       "      <td>The restaurant has a chic and comfortable ambi...</td>\n",
       "      <td>The salads are small, and the wait time for pa...</td>\n",
       "      <td>Barbalu is a casual Italian restaurant with a ...</td>\n",
       "      <td>[0.01667778193950653, -0.005042120348662138, 0...</td>\n",
       "      <td>[0.025215119123458862, -0.008857416920363903, ...</td>\n",
       "      <td>[0.014397511258721352, -0.009359041228890419, ...</td>\n",
       "      <td>[0.03397730365395546, -0.01391463540494442, 0....</td>\n",
       "      <td>[0.006943366024643183, -0.014459662139415741, ...</td>\n",
       "    </tr>\n",
       "    <tr>\n",
       "      <th>3</th>\n",
       "      <td>Number One Caviar Boutique</td>\n",
       "      <td>American</td>\n",
       "      <td>Chinese</td>\n",
       "      <td>Takeout</td>\n",
       "      <td>Not Available</td>\n",
       "      <td>The restaurant has excellent customer service ...</td>\n",
       "      <td>Some customers have reported receiving incorre...</td>\n",
       "      <td>#1 Chinese is a Chinese takeout restaurant tha...</td>\n",
       "      <td>[0.01804758608341217, -0.00662959273904562, -0...</td>\n",
       "      <td>[0.010712466202676296, -0.016458716243505478, ...</td>\n",
       "      <td>[-0.005449856631457806, -0.015512403100728989,...</td>\n",
       "      <td>[-0.034706875681877136, -0.022115295752882957,...</td>\n",
       "      <td>[0.00395430251955986, -0.0016499588964506984, ...</td>\n",
       "    </tr>\n",
       "    <tr>\n",
       "      <th>4</th>\n",
       "      <td>Don Angie</td>\n",
       "      <td>Italian</td>\n",
       "      <td>Italian</td>\n",
       "      <td>Fine Dining</td>\n",
       "      <td>Lasagna, Japanese Sweet Potatoes, Chrysanthemu...</td>\n",
       "      <td>Don Angie is a highly rated Italian restaurant...</td>\n",
       "      <td>Some reviewers mentioned that the dessert was ...</td>\n",
       "      <td>Don Angie is a must-try Italian restaurant tha...</td>\n",
       "      <td>[0.011163631454110146, -0.024161096662282944, ...</td>\n",
       "      <td>[0.010233421809971333, -0.022172413766384125, ...</td>\n",
       "      <td>[0.0022201393730938435, -0.02435995265841484, ...</td>\n",
       "      <td>[0.019406402483582497, -0.004327734466642141, ...</td>\n",
       "      <td>[0.006943366024643183, -0.014459662139415741, ...</td>\n",
       "    </tr>\n",
       "  </tbody>\n",
       "</table>\n",
       "</div>"
      ],
      "text/plain": [
       "                         Name      category Cuisine Nationality  \\\n",
       "0             Foxface Natural  New American       Mediterranean   \n",
       "1             The Golden Swan  New American       Not Available   \n",
       "2          Barbalu - Brooklyn       Italian             Italian   \n",
       "3  Number One Caviar Boutique      American             Chinese   \n",
       "4                   Don Angie       Italian             Italian   \n",
       "\n",
       "      Restaurant Type                                   Specialty Dishes  \\\n",
       "0    Natural Wine Bar  Confit mushroom with romesco, crispy goat with...   \n",
       "1  Bar and Restaurant         Carbonara, Mussels in Curry, Steak Tartare   \n",
       "2       Casual Dining                                       Pasta, Pizza   \n",
       "3             Takeout                                      Not Available   \n",
       "4         Fine Dining  Lasagna, Japanese Sweet Potatoes, Chrysanthemu...   \n",
       "\n",
       "                         Strengths of the Restaurant  \\\n",
       "0  The restaurant offers high-quality ingredients...   \n",
       "1  The restaurant has a great atmosphere with a d...   \n",
       "2  The restaurant has a chic and comfortable ambi...   \n",
       "3  The restaurant has excellent customer service ...   \n",
       "4  Don Angie is a highly rated Italian restaurant...   \n",
       "\n",
       "                               Areas for Improvement  \\\n",
       "0  There is no mention of any areas for improveme...   \n",
       "1                                      Not Available   \n",
       "2  The salads are small, and the wait time for pa...   \n",
       "3  Some customers have reported receiving incorre...   \n",
       "4  Some reviewers mentioned that the dessert was ...   \n",
       "\n",
       "                   Overall Summary of the Restaurant  \\\n",
       "0  Foxface is a natural wine bar that specializes...   \n",
       "1  This bar and restaurant in the West Village ha...   \n",
       "2  Barbalu is a casual Italian restaurant with a ...   \n",
       "3  #1 Chinese is a Chinese takeout restaurant tha...   \n",
       "4  Don Angie is a must-try Italian restaurant tha...   \n",
       "\n",
       "                                        OS_embedding  \\\n",
       "0  [0.002864565933123231, -0.013691711239516735, ...   \n",
       "1  [0.0009610162815079093, -0.012562875635921955,...   \n",
       "2  [0.01667778193950653, -0.005042120348662138, 0...   \n",
       "3  [0.01804758608341217, -0.00662959273904562, -0...   \n",
       "4  [0.011163631454110146, -0.024161096662282944, ...   \n",
       "\n",
       "                                        ST_embedding  \\\n",
       "0  [0.01119155716150999, -0.01560316700488329, 0....   \n",
       "1  [-0.001732202130369842, -0.020194049924612045,...   \n",
       "2  [0.025215119123458862, -0.008857416920363903, ...   \n",
       "3  [0.010712466202676296, -0.016458716243505478, ...   \n",
       "4  [0.010233421809971333, -0.022172413766384125, ...   \n",
       "\n",
       "                                        AI_embedding  \\\n",
       "0  [-0.0049005369655787945, 0.013941068202257156,...   \n",
       "1  [-0.0347219780087471, -0.022027920931577682, -...   \n",
       "2  [0.014397511258721352, -0.009359041228890419, ...   \n",
       "3  [-0.005449856631457806, -0.015512403100728989,...   \n",
       "4  [0.0022201393730938435, -0.02435995265841484, ...   \n",
       "\n",
       "                                        SD_embedding  \\\n",
       "0  [0.007710179779678583, -0.020429354161024094, ...   \n",
       "1  [0.020966287702322006, -0.01374486368149519, 0...   \n",
       "2  [0.03397730365395546, -0.01391463540494442, 0....   \n",
       "3  [-0.034706875681877136, -0.022115295752882957,...   \n",
       "4  [0.019406402483582497, -0.004327734466642141, ...   \n",
       "\n",
       "                                        CG_embedding  \n",
       "0  [-0.022367175668478012, 0.000900503306183964, ...  \n",
       "1  [-0.022367175668478012, 0.000900503306183964, ...  \n",
       "2  [0.006943366024643183, -0.014459662139415741, ...  \n",
       "3  [0.00395430251955986, -0.0016499588964506984, ...  \n",
       "4  [0.006943366024643183, -0.014459662139415741, ...  "
      ]
     },
     "execution_count": 154,
     "metadata": {},
     "output_type": "execute_result"
    }
   ],
   "source": [
    "result_df.head()"
   ]
  },
  {
   "cell_type": "markdown",
   "id": "cc22a5a4",
   "metadata": {},
   "source": [
    "# Clustering Area for Improvement"
   ]
  },
  {
   "cell_type": "code",
   "execution_count": 7,
   "id": "2e3451e6",
   "metadata": {},
   "outputs": [],
   "source": [
    "import numpy as np\n",
    "from sklearn.cluster import KMeans"
   ]
  },
  {
   "cell_type": "code",
   "execution_count": 158,
   "id": "2de42141",
   "metadata": {},
   "outputs": [],
   "source": [
    "matrix = np.vstack(result_df.AI_embedding.values)\n",
    "n_clusters = 10\n",
    "\n",
    "kmeans = KMeans(n_clusters = n_clusters, init='k-means++', random_state=10)\n",
    "kmeans.fit(matrix)\n",
    "result_df['AI_Cluster'] = kmeans.labels_"
   ]
  },
  {
   "cell_type": "code",
   "execution_count": 159,
   "id": "08d732fd",
   "metadata": {},
   "outputs": [
    {
     "data": {
      "text/html": [
       "<div>\n",
       "<style scoped>\n",
       "    .dataframe tbody tr th:only-of-type {\n",
       "        vertical-align: middle;\n",
       "    }\n",
       "\n",
       "    .dataframe tbody tr th {\n",
       "        vertical-align: top;\n",
       "    }\n",
       "\n",
       "    .dataframe thead th {\n",
       "        text-align: right;\n",
       "    }\n",
       "</style>\n",
       "<table border=\"1\" class=\"dataframe\">\n",
       "  <thead>\n",
       "    <tr style=\"text-align: right;\">\n",
       "      <th></th>\n",
       "      <th>index</th>\n",
       "      <th>AI_Cluster</th>\n",
       "    </tr>\n",
       "  </thead>\n",
       "  <tbody>\n",
       "    <tr>\n",
       "      <th>0</th>\n",
       "      <td>3</td>\n",
       "      <td>39</td>\n",
       "    </tr>\n",
       "    <tr>\n",
       "      <th>1</th>\n",
       "      <td>7</td>\n",
       "      <td>35</td>\n",
       "    </tr>\n",
       "    <tr>\n",
       "      <th>2</th>\n",
       "      <td>2</td>\n",
       "      <td>27</td>\n",
       "    </tr>\n",
       "    <tr>\n",
       "      <th>3</th>\n",
       "      <td>5</td>\n",
       "      <td>24</td>\n",
       "    </tr>\n",
       "    <tr>\n",
       "      <th>4</th>\n",
       "      <td>1</td>\n",
       "      <td>22</td>\n",
       "    </tr>\n",
       "    <tr>\n",
       "      <th>5</th>\n",
       "      <td>4</td>\n",
       "      <td>21</td>\n",
       "    </tr>\n",
       "    <tr>\n",
       "      <th>6</th>\n",
       "      <td>6</td>\n",
       "      <td>17</td>\n",
       "    </tr>\n",
       "    <tr>\n",
       "      <th>7</th>\n",
       "      <td>9</td>\n",
       "      <td>11</td>\n",
       "    </tr>\n",
       "    <tr>\n",
       "      <th>8</th>\n",
       "      <td>0</td>\n",
       "      <td>11</td>\n",
       "    </tr>\n",
       "    <tr>\n",
       "      <th>9</th>\n",
       "      <td>8</td>\n",
       "      <td>5</td>\n",
       "    </tr>\n",
       "  </tbody>\n",
       "</table>\n",
       "</div>"
      ],
      "text/plain": [
       "   index  AI_Cluster\n",
       "0      3          39\n",
       "1      7          35\n",
       "2      2          27\n",
       "3      5          24\n",
       "4      1          22\n",
       "5      4          21\n",
       "6      6          17\n",
       "7      9          11\n",
       "8      0          11\n",
       "9      8           5"
      ]
     },
     "execution_count": 159,
     "metadata": {},
     "output_type": "execute_result"
    }
   ],
   "source": [
    "result_df['AI_Cluster'].value_counts().reset_index()"
   ]
  },
  {
   "cell_type": "markdown",
   "id": "d02a53c5",
   "metadata": {},
   "source": [
    "# Ask Chat-GPT for Cluster Summary"
   ]
  },
  {
   "cell_type": "code",
   "execution_count": 177,
   "id": "b1a5a981",
   "metadata": {},
   "outputs": [],
   "source": [
    "cluster_set = set(result_df[\"AI_Cluster\"] )\n",
    "cluster_st_dict = {}\n",
    "\n",
    "for row_num , cluster in enumerate(cluster_set): \n",
    "    tmp_df = result_df[result_df[\"AI_Cluster\"] == cluster]\n",
    "    \n",
    "    text = 'These are the strengths of several restaurant \\n '\n",
    "    for r, n in enumerate(tmp_df[\"Areas for Improvement\"]):\n",
    "        text = text + f\"Restaurant {str(r+1)}: {n} \\n \"\n",
    "    \n",
    "    \n",
    "    conversation = Conversation()\n",
    "    conversation.add_message(\"system\", \n",
    "    \"\"\"Review the highlighted area for imporovement across multiple restaurants. Give me two keywords that are common in these problems. Make it less than 10 words. Just answer the keywords.\"\"\")\n",
    "    \n",
    "    conversation.add_message(\"user\",text )\n",
    "\n",
    "    chat_response = chat_completion_request(\n",
    "        conversation.conversation_history )\n",
    "    result = chat_response.json()[\"choices\"][0]['message']['content']\n",
    "        \n",
    "    cluster_st_dict.update({cluster :  result})\n",
    "    \n",
    "    "
   ]
  },
  {
   "cell_type": "code",
   "execution_count": 178,
   "id": "2dc7ddf9",
   "metadata": {
    "scrolled": false
   },
   "outputs": [
    {
     "name": "stdout",
     "output_type": "stream",
     "text": [
      "Cluster 0\n",
      "Limited selection. Quality of food.\n",
      " \n",
      "Cluster 1\n",
      "Portions and space.\n",
      " \n",
      "Cluster 2\n",
      "High prices, small portions\n",
      " \n",
      "Cluster 3\n",
      "Keywords: lacking flavor, slow service\n",
      " \n",
      "Cluster 4\n",
      "Consistency, Service\n",
      " \n",
      "Cluster 5\n",
      "Long wait times, inconsistent food\n",
      " \n",
      "Cluster 6\n",
      "Keywords: Cocktails, Dessert.\n",
      " \n",
      "Cluster 7\n",
      "Service and Food Quality.\n",
      " \n",
      "Cluster 8\n",
      "No keywords can be identified as there is no information provided about the strengths of the restaurants.\n",
      " \n",
      "Cluster 9\n",
      "No areas for improvement mentioned.\n",
      " \n"
     ]
    }
   ],
   "source": [
    "for n , x in enumerate(cluster_st_dict.keys()):\n",
    "    print(\"Cluster\",x )\n",
    "    print(cluster_st_dict[x])\n",
    "    print(\" \")"
   ]
  },
  {
   "cell_type": "code",
   "execution_count": 181,
   "id": "0c4fcd6b",
   "metadata": {},
   "outputs": [],
   "source": [
    "def adjust_AI_Cluser(cluster):\n",
    "    if cluster in (4,7) : \n",
    "        return 4\n",
    "    elif cluster in (8,9) : \n",
    "        return 9 \n",
    "    else :\n",
    "        return cluster\n",
    "\n",
    "def adjust_AI_keywords(cluster):\n",
    "    keywords = cluster_st_dict[cluster]\n",
    "    return keywords.replace(\"Keywords: \",\"\").strip()\n",
    "    "
   ]
  },
  {
   "cell_type": "code",
   "execution_count": 182,
   "id": "d5ec29a7",
   "metadata": {},
   "outputs": [],
   "source": [
    "result_df[\"adjusted_AI_Cluster\"] = result_df[\"AI_Cluster\"].apply(lambda x : adjust_AI_Cluser(x)) \n",
    "result_df[\"Area_for_Improvement_Keywords\"] = result_df[\"adjusted_AI_Cluster\"].apply(lambda x : adjust_AI_keywords(x)) "
   ]
  },
  {
   "cell_type": "code",
   "execution_count": 195,
   "id": "9df13057",
   "metadata": {},
   "outputs": [
    {
     "data": {
      "text/plain": [
       "Text(0.5, 1.0, 'Visualized Area of Improvement for Popular Restaurants in New York City using t-SNE')"
      ]
     },
     "execution_count": 195,
     "metadata": {},
     "output_type": "execute_result"
    },
    {
     "data": {
      "image/png": "[encoded data removed]",
      "text/plain": [
       "<Figure size 640x480 with 1 Axes>"
      ]
     },
     "metadata": {},
     "output_type": "display_data"
    }
   ],
   "source": [
    "# matrix = ST_df.ST_embedding.apply(eval).to_list()\n",
    "\n",
    "matrix = np.array([list(x) for x in result_df.AI_embedding])\n",
    "# Create a t-SNE model and transform the data\n",
    "tsne = TSNE(n_components=2, perplexity=30, random_state=30, init='random', learning_rate=200)\n",
    "vis_dims = tsne.fit_transform(matrix)\n",
    "\n",
    "colors = [\"red\", \"blue\", \"green\", \"yellow\", \"orange\", \"purple\", \"pink\", \"brown\", \"gray\", \"cyan\"]\n",
    "x = [x for x,y in vis_dims]\n",
    "y = [y for x,y in vis_dims]\n",
    "color_indices = result_df.adjusted_AI_Cluster.values \n",
    "\n",
    "colormap = matplotlib.colors.ListedColormap(colors)\n",
    "plt.scatter(x, y, c=color_indices, cmap=colormap, alpha=0.5)\n",
    "plt.title(\"Visualized Area of Improvement for Popular Restaurants in New York City using t-SNE\")"
   ]
  },
  {
   "cell_type": "code",
   "execution_count": 197,
   "id": "d4e7488a",
   "metadata": {},
   "outputs": [
    {
     "data": {
      "application/vnd.plotly.v1+json": {
       "config": {
        "plotlyServerURL": "https://plot.ly"
       },
       "data": [
        {
         "hoverinfo": "text",
         "marker": {
          "color": [
           9,
           9,
           1,
           4,
           5,
           4,
           6,
           2,
           5,
           0,
           1,
           0,
           0,
           5,
           0,
           3,
           9,
           1,
           2,
           4,
           5,
           4,
           1,
           4,
           4,
           9,
           2,
           5,
           2,
           2,
           4,
           1,
           6,
           1,
           4,
           3,
           3,
           4,
           2,
           3,
           6,
           2,
           4,
           4,
           4,
           3,
           9,
           1,
           3,
           5,
           4,
           4,
           4,
           2,
           3,
           5,
           3,
           1,
           4,
           0,
           6,
           2,
           2,
           3,
           1,
           4,
           5,
           4,
           6,
           4,
           3,
           4,
           3,
           9,
           2,
           4,
           4,
           6,
           9,
           3,
           4,
           3,
           4,
           9,
           4,
           3,
           3,
           6,
           9,
           3,
           6,
           3,
           3,
           6,
           4,
           2,
           4,
           4,
           5,
           4,
           2,
           4,
           6,
           5,
           2,
           1,
           4,
           1,
           0,
           4,
           4,
           4,
           2,
           4,
           3,
           6,
           3,
           4,
           9,
           5,
           3,
           5,
           2,
           3,
           3,
           9,
           4,
           9,
           6,
           1,
           9,
           4,
           5,
           2,
           6,
           3,
           2,
           4,
           4,
           4,
           2,
           4,
           3,
           5,
           3,
           5,
           2,
           2,
           4,
           5,
           3,
           4,
           6,
           5,
           3,
           0,
           1,
           1,
           4,
           5,
           4,
           3,
           4,
           1,
           5,
           9,
           4,
           4,
           3,
           4,
           3,
           1,
           2,
           2,
           4,
           5,
           3,
           4,
           4,
           9,
           3,
           5,
           2,
           9,
           0,
           1,
           4,
           5,
           2,
           3,
           3,
           2,
           0,
           4,
           0,
           1,
           6,
           3,
           3,
           1,
           1,
           5,
           3,
           1,
           3,
           5,
           1,
           2,
           0,
           6,
           4,
           6
          ],
          "colorscale": [
           [
            0,
            "red"
           ],
           [
            0.1111111111111111,
            "blue"
           ],
           [
            0.2222222222222222,
            "green"
           ],
           [
            0.3333333333333333,
            "yellow"
           ],
           [
            0.4444444444444444,
            "orange"
           ],
           [
            0.5555555555555556,
            "purple"
           ],
           [
            0.6666666666666666,
            "pink"
           ],
           [
            0.7777777777777778,
            "brown"
           ],
           [
            0.8888888888888888,
            "gray"
           ],
           [
            1,
            "cyan"
           ]
          ],
          "opacity": 0.8,
          "size": 6
         },
         "mode": "markers",
         "text": [
          "Foxface Natural : No areas for improvement mentioned.",
          "The Golden Swan : No areas for improvement mentioned.",
          "Barbalu - Brooklyn : Portions and space.",
          "Number One Caviar Boutique : Consistency, Service",
          "Don Angie : Long wait times, inconsistent food",
          "Mollusca : Consistency, Service",
          "Sixty Three Clinton : Cocktails, Dessert.",
          "NAKAJI : High prices, small portions",
          "The Sunken Harbor Club : Long wait times, inconsistent food",
          "Rosella : Limited selection. Quality of food.",
          "Kono : Portions and space.",
          "Sushi Ikumi : Limited selection. Quality of food.",
          "Shinzo Omakase : Limited selection. Quality of food.",
          "Ito : Long wait times, inconsistent food",
          "Taikun Sushi NYC : Limited selection. Quality of food.",
          "Stafili Wine Cafe : lacking flavor, slow service",
          "HAGS : No areas for improvement mentioned.",
          "Accidental Bar : Portions and space.",
          "Sushi Lin Soho : High prices, small portions",
          "Russ & Daughters Cafe : Consistency, Service",
          "The Coop at Double Chicken Please : Long wait times, inconsistent food",
          "Malaparte : Consistency, Service",
          "Oiji Mi : Portions and space.",
          "Golden Diner : Consistency, Service",
          "La Compagnie des Vins Surnaturels : Consistency, Service",
          "Kings Co Imperial - Lower East Side : No areas for improvement mentioned.",
          "Overstory : High prices, small portions",
          "The Up & Up : Long wait times, inconsistent food",
          "Claud : High prices, small portions",
          "Torrisi Bar & Restaurant : High prices, small portions",
          "Shinn East : Consistency, Service",
          "Houseman : Portions and space.",
          "The Chef’s Counter at Manhatta : Cocktails, Dessert.",
          "Lord's : Portions and space.",
          "l'abeille : Consistency, Service",
          "SAGA : lacking flavor, slow service",
          "Bar Six : lacking flavor, slow service",
          "C as in Charlie : Consistency, Service",
          "Farra : High prices, small portions",
          "L'Appart : lacking flavor, slow service",
          "Potluck Club : Cocktails, Dessert.",
          "Balvanera : High prices, small portions",
          "Sant Ambroeus - Brookfield Place : Consistency, Service",
          "L'accolade : Consistency, Service",
          "Shabu Tatsu : Consistency, Service",
          "Luthun : lacking flavor, slow service",
          "The Little Shop : No areas for improvement mentioned.",
          "8282 : Portions and space.",
          "Torien : lacking flavor, slow service",
          "Matsunori : Long wait times, inconsistent food",
          "Chito Gvrito : Consistency, Service",
          "Thirteen Water : Consistency, Service",
          "CICCIO Bar & Alimentari : Consistency, Service",
          "Saint Julivert Fisherie : High prices, small portions",
          "ARIARI : lacking flavor, slow service",
          "Martiny's : Long wait times, inconsistent food",
          "Ama Raw Bar - East Village : lacking flavor, slow service",
          "Omakase Room by Mitsu : Portions and space.",
          "Ama Raw Bar - West Village : Consistency, Service",
          "HIBINO - Brooklyn : Limited selection. Quality of food.",
          "Via Della Pace : Cocktails, Dessert.",
          "Terroir : High prices, small portions",
          "St. Jardim : High prices, small portions",
          "Felice on Hudson : lacking flavor, slow service",
          "Leitao : Portions and space.",
          "Parcelle : Consistency, Service",
          "Holywater : Long wait times, inconsistent food",
          "Wicked Jane : Consistency, Service",
          "TLK - by Tigerlily Kitchen : Cocktails, Dessert.",
          "Sushi Lab - East Village : Consistency, Service",
          "Marylou : lacking flavor, slow service",
          "Bar Lula : Consistency, Service",
          "The Wesley : lacking flavor, slow service",
          "Pips : No areas for improvement mentioned.",
          "Nabila's : High prices, small portions",
          "Sushi Teru Omakase : Consistency, Service",
          "al Badawi : Consistency, Service",
          "The Wayland : Cocktails, Dessert.",
          "Essex Pearl : No areas for improvement mentioned.",
          "Motorino : lacking flavor, slow service",
          "Almar : Consistency, Service",
          "Inatteso Pizzabar : lacking flavor, slow service",
          "Sushi by M - 4th St : Consistency, Service",
          "Brindle Room : No areas for improvement mentioned.",
          "Marc Forgione : Consistency, Service",
          "Manero's Bar & Restaurant : lacking flavor, slow service",
          "Omakase Sushi Fan : lacking flavor, slow service",
          "Rabbit : Cocktails, Dessert.",
          "Osteria Carlina Tribeca : No areas for improvement mentioned.",
          "SPUNTO NYCThinCrust Pizza : lacking flavor, slow service",
          "Bisou : Cocktails, Dessert.",
          "Ella Funt : lacking flavor, slow service",
          "BRADO NYCThinCrust Pizza : lacking flavor, slow service",
          "Bandone : Cocktails, Dessert.",
          "Rai Rai Ken / Ban Rai : Consistency, Service",
          "Jōji : High prices, small portions",
          "Legacy Records Special Events : Consistency, Service",
          "Glin Thai Bistro : Consistency, Service",
          "Wanpaku/ Hidden Pearl : Long wait times, inconsistent food",
          "Keg and Lantern Brewery - Red Hook : Consistency, Service",
          "The Four Horsemen : High prices, small portions",
          "Otis : Consistency, Service",
          "Ras Plant Based : Cocktails, Dessert.",
          "The Polo Bar : Long wait times, inconsistent food",
          "Sushi Lin : High prices, small portions",
          "Pomp & Circumstance : Portions and space.",
          "Runner Up : Consistency, Service",
          "Omakase by korami : Portions and space.",
          "OKONOMI/YUJI Ramen : Limited selection. Quality of food.",
          "Sundays Well : Consistency, Service",
          "Santa Fe BK : Consistency, Service",
          "Panchitas Place : Consistency, Service",
          "Aromi : High prices, small portions",
          "Salinas : Consistency, Service",
          "Public Display of Affection (PDA) : lacking flavor, slow service",
          "HOUSE Brooklyn : Cocktails, Dessert.",
          "Ace's Pizza : lacking flavor, slow service",
          "Lulu & Po : Consistency, Service",
          "Sucker Punch : No areas for improvement mentioned.",
          "390 Social : Long wait times, inconsistent food",
          "Bangkok Degree : lacking flavor, slow service",
          "The Moore/Moore Wine : Long wait times, inconsistent food",
          "Ploo : High prices, small portions",
          "Lilia : lacking flavor, slow service",
          "Le Bernardin : lacking flavor, slow service",
          "Keens Steakhouse : No areas for improvement mentioned.",
          "Miss Ada : Consistency, Service",
          "Sushi Seki Chelsea : No areas for improvement mentioned.",
          "Shukette : Cocktails, Dessert.",
          "Le Crocodile : Portions and space.",
          "Kings Co Imperial - Williamsburg : No areas for improvement mentioned.",
          "Red Hook Tavern : Consistency, Service",
          "Evelina : Long wait times, inconsistent food",
          "Roman's : High prices, small portions",
          "Kochi : Cocktails, Dessert.",
          "Oxalis : lacking flavor, slow service",
          "Laser Wolf Brooklyn : High prices, small portions",
          "LaRina Pastificio & Vino : Consistency, Service",
          "Trattoria Trecolori : Consistency, Service",
          "Traif : Consistency, Service",
          "Haenyeo : High prices, small portions",
          "Sofreh : Consistency, Service",
          "Pasta Louise : lacking flavor, slow service",
          "JUA : Long wait times, inconsistent food",
          "The Modern : lacking flavor, slow service",
          "Tonchin New York : Long wait times, inconsistent food",
          "ViceVersa : High prices, small portions",
          "Monkey Bar : High prices, small portions",
          "Francie : Consistency, Service",
          "Buttermilk Channel : Long wait times, inconsistent food",
          "Roberta's : lacking flavor, slow service",
          "Hart’s : Consistency, Service",
          "Colonia Verde : Cocktails, Dessert.",
          "Nura : Long wait times, inconsistent food",
          "LaLou : lacking flavor, slow service",
          "Hatsuhana Sushi Restaurant : Limited selection. Quality of food.",
          "Nami Nori Williamsburg : Portions and space.",
          "Leland Eating and Drinking House : Portions and space.",
          "MONTESACRO : Consistency, Service",
          "West Bank Cafe : Long wait times, inconsistent food",
          "Place des Fêtes : Consistency, Service",
          "Etcetera Etcetera : lacking flavor, slow service",
          "Bar Bête : Consistency, Service",
          "Mari : Portions and space.",
          "Sweetwater Restaurant : Long wait times, inconsistent food",
          "Maison Premiere : No areas for improvement mentioned.",
          "Nonna Dora's : Consistency, Service",
          "Yakitori Torishin : Consistency, Service",
          "Madre : lacking flavor, slow service",
          "Leo : Consistency, Service",
          "Olea : lacking flavor, slow service",
          "The Marshal : Portions and space.",
          "Michael's Restaurant : High prices, small portions",
          "Taverna Di Bacco : High prices, small portions",
          "Blue Haven-West Village : Consistency, Service",
          "Della's : Long wait times, inconsistent food",
          "Esora Omakase : lacking flavor, slow service",
          "Sushi Mumi : Consistency, Service",
          "Arthur's Tavern : Consistency, Service",
          "Seppe Pizza Bar : No areas for improvement mentioned.",
          "Han Dynasty - East Village : lacking flavor, slow service",
          "Morgenstern's Finest Ice Cream : Long wait times, inconsistent food",
          "Top Thai Vintage : High prices, small portions",
          "Junsui : No areas for improvement mentioned.",
          "Kintsugi Omakase : Limited selection. Quality of food.",
          "Pastis : Portions and space.",
          "Loring Place : Consistency, Service",
          "Rubirosa : Long wait times, inconsistent food",
          "Carbone : High prices, small portions",
          "I Sodi : lacking flavor, slow service",
          "L'Artusi : lacking flavor, slow service",
          "Raoul's : High prices, small portions",
          "Sushi Nakazawa NY : Limited selection. Quality of food.",
          "Minetta Tavern : Consistency, Service",
          "Raku Soho : Limited selection. Quality of food.",
          "Cervo’s : Portions and space.",
          "Jeffrey's Grocery : Cocktails, Dessert.",
          "Dirt Candy : lacking flavor, slow service",
          "Hanoi House : lacking flavor, slow service",
          "Colonie : Portions and space.",
          "Fairfax : Portions and space.",
          "The Dead Rabbit Pub : Long wait times, inconsistent food",
          "Dame : lacking flavor, slow service",
          "Dear Irving Gramercy : Portions and space.",
          "Popina NYC : lacking flavor, slow service",
          "The Nines : Long wait times, inconsistent food",
          "MOKYO : Portions and space.",
          "La Vara : High prices, small portions",
          "Noreetuh : Limited selection. Quality of food.",
          "Flex Mussels- WV : Cocktails, Dessert.",
          "Cafe Spaghetti : Consistency, Service",
          "da Toscano : Cocktails, Dessert."
         ],
         "type": "scatter3d",
         "x": [
          -38.74127197265625,
          75.2291488647461,
          -126.48615264892578,
          21.71377182006836,
          -72.30326843261719,
          169.18603515625,
          75.77437591552734,
          72.23462677001953,
          14.88558578491211,
          -180.78665161132812,
          -21.57634925842285,
          -105.08665466308594,
          14.14863109588623,
          3.9714882373809814,
          -147.5399169921875,
          15.606581687927246,
          49.283206939697266,
          80.8130874633789,
          54.66107177734375,
          142.07763671875,
          -27.60036277770996,
          171.139404296875,
          60.31765365600586,
          14.14529800415039,
          -1.260464072227478,
          66.43534088134766,
          -86.76287841796875,
          -89.7648696899414,
          -5.861693382263184,
          51.05093765258789,
          -116.6055908203125,
          97.92972564697266,
          113.62889099121094,
          -42.776206970214844,
          -109.11705780029297,
          -57.65354537963867,
          -4.048128604888916,
          -103.75614929199219,
          51.646034240722656,
          -84.38658905029297,
          102.5274658203125,
          34.30266571044922,
          77.72176361083984,
          145.20130920410156,
          -129.72352600097656,
          -164.7123260498047,
          11.629246711730957,
          -142.57180786132812,
          11.9869384765625,
          33.31332778930664,
          -78.76373291015625,
          47.934669494628906,
          68.40460205078125,
          121.70933532714844,
          64.6971206665039,
          64.19927215576172,
          13.674711227416992,
          44.07891082763672,
          5.8201375007629395,
          -137.58128356933594,
          -39.21588897705078,
          103.02367401123047,
          124.24665069580078,
          101.87875366210938,
          -36.21376037597656,
          -47.3278694152832,
          75.79756164550781,
          90.2707748413086,
          142.1240692138672,
          86.88652038574219,
          -2.566307306289673,
          8.705784797668457,
          2.490320920944214,
          95.274169921875,
          151.36146545410156,
          140.39004516601562,
          -129.75990295410156,
          112.69042205810547,
          1.7506372928619385,
          7.535656452178955,
          -58.02024841308594,
          -44.38200378417969,
          -142.24354553222656,
          -67.90009307861328,
          45.89046859741211,
          -17.59572982788086,
          -165.41778564453125,
          100.6676025390625,
          14.913317680358887,
          -62.090328216552734,
          62.7492561340332,
          31.998666763305664,
          -29.740985870361328,
          -20.14503288269043,
          7.582351207733154,
          -11.555926322937012,
          29.328022003173828,
          -51.40660095214844,
          -89.20745849609375,
          -44.55165100097656,
          159.24795532226562,
          64.09506225585938,
          -36.080963134765625,
          95.59136962890625,
          111.33336639404297,
          86.26578521728516,
          350.21826171875,
          87.72013854980469,
          -156.79237365722656,
          168.7805938720703,
          -82.61163330078125,
          74.54051208496094,
          166.2103729248047,
          139.6128692626953,
          -100.52665710449219,
          -110.19639587402344,
          -6.793252944946289,
          165.1136474609375,
          -17.739322662353516,
          63.67952346801758,
          -65.78739929199219,
          50.73140335083008,
          70.66641998291016,
          -80.1678237915039,
          -65.5361099243164,
          -54.094703674316406,
          31.24611473083496,
          -7.378897666931152,
          -66.30121612548828,
          -183.92283630371094,
          -53.776485443115234,
          -68.04703521728516,
          140.82870483398438,
          113.23709106445312,
          134.44058227539062,
          -49.733673095703125,
          -8.745962142944336,
          107.98805236816406,
          -49.83171463012695,
          -4.278689384460449,
          27.553415298461914,
          -144.31640625,
          37.564796447753906,
          -52.036346435546875,
          94.18897247314453,
          -102.12749481201172,
          -6.845843315124512,
          -21.1042423248291,
          -102.89596557617188,
          26.690935134887695,
          -78.37681579589844,
          -95.59678649902344,
          -21.28380584716797,
          -115.66034698486328,
          -72.5572280883789,
          -97.59699249267578,
          -82.93799591064453,
          -69.22152709960938,
          117.18412780761719,
          28.9514102935791,
          162.2589569091797,
          91.5997314453125,
          23.180282592773438,
          -67.31755065917969,
          3.9526255130767822,
          18.317319869995117,
          -73.25463104248047,
          135.33738708496094,
          57.39797592163086,
          -0.36345404386520386,
          39.307861328125,
          2.415156602859497,
          47.039981842041016,
          4.353613376617432,
          49.70331954956055,
          -11.414475440979004,
          52.840938568115234,
          -4.0974650382995605,
          148.81201171875,
          -33.10420608520508,
          104.37230682373047,
          -132.03907775878906,
          -33.14480972290039,
          -18.74214744567871,
          -64.36453247070312,
          -26.700157165527344,
          83.08305358886719,
          -67.25763702392578,
          -55.40821838378906,
          -44.871070861816406,
          -42.776939392089844,
          -82.01750946044922,
          61.24749755859375,
          87.62458801269531,
          -119.92704010009766,
          -7.632826328277588,
          46.367584228515625,
          48.757171630859375,
          -22.535741806030273,
          -87.43634796142578,
          -46.55390548706055,
          -147.54563903808594,
          -30.709400177001953,
          -129.37142944335938,
          36.29157257080078,
          -72.64788818359375,
          -88.91559600830078,
          13.29382610321045,
          -108.13130950927734,
          15.72005844116211,
          -120.16570281982422,
          113.63472747802734
         ],
         "y": [
          33.49612808227539,
          50.48520278930664,
          -18.472469329833984,
          -120.1243667602539,
          -13.241704940795898,
          61.30186080932617,
          173.4276885986328,
          55.25429153442383,
          -166.61032104492188,
          -23.75821304321289,
          40.062110900878906,
          -67.81736755371094,
          -33.09307098388672,
          9.813342094421387,
          38.96512222290039,
          56.3226432800293,
          60.77120590209961,
          -51.88447189331055,
          31.33681869506836,
          -82.18175506591797,
          -36.19533157348633,
          -15.010298728942871,
          -92.17501831054688,
          -50.84583282470703,
          128.06910705566406,
          -33.87730026245117,
          91.15464782714844,
          -59.135009765625,
          158.01222229003906,
          135.95370483398438,
          -131.6083221435547,
          -77.04203033447266,
          35.19645690917969,
          89.67557525634766,
          -11.335031509399414,
          163.42718505859375,
          -132.012939453125,
          73.55931854248047,
          -92.76512908935547,
          -164.1871795654297,
          -66.6356201171875,
          -102.65479278564453,
          -122.39400482177734,
          133.3836669921875,
          129.4121856689453,
          -36.10540771484375,
          -8.870612144470215,
          56.645851135253906,
          -83.84149169921875,
          34.228553771972656,
          148.61997985839844,
          128.94039916992188,
          91.16510009765625,
          -33.789756774902344,
          -6.909945011138916,
          -165.10386657714844,
          -1.0107992887496948,
          -54.06019592285156,
          -134.65696716308594,
          96.95297241210938,
          -135.3348846435547,
          -16.79928207397461,
          21.794591903686523,
          -122.86994934082031,
          11.690396308898926,
          -187.30906677246094,
          -14.833847045898438,
          99.41177368164062,
          -2.9138689041137695,
          137.3582000732422,
          -36.01124954223633,
          33.41165542602539,
          -88.50436401367188,
          -13.660696029663086,
          -89.1135482788086,
          85.7518310546875,
          -92.36074829101562,
          87.5682601928711,
          60.135746002197266,
          -176.2451629638672,
          -80.36638641357422,
          8.161630630493164,
          60.79450988769531,
          18.258291244506836,
          37.13090896606445,
          -80.04711151123047,
          9.424854278564453,
          -73.70072937011719,
          78.4011459350586,
          -138.52554321289062,
          178.9900360107422,
          6.130344867706299,
          -55.73552322387695,
          91.53721618652344,
          164.3153533935547,
          129.69808959960938,
          119.14079284667969,
          161.2713623046875,
          77.4749755859375,
          104.5239028930664,
          43.368492126464844,
          -28.40958023071289,
          54.47486114501953,
          58.199974060058594,
          26.567138671875,
          -99.52335357666016,
          -188.1335906982422,
          -66.58873748779297,
          -61.7097282409668,
          0.27624642848968506,
          -78.11090087890625,
          96.70347595214844,
          -61.95426559448242,
          95.38552856445312,
          -92.56121826171875,
          -32.14432907104492,
          203.11294555664062,
          98.43116760253906,
          -32.59001541137695,
          14.860913276672363,
          9.072169303894043,
          69.67854309082031,
          -134.66162109375,
          -73.26289367675781,
          71.0085220336914,
          -132.76455688476562,
          5.686938762664795,
          48.99439239501953,
          -44.909942626953125,
          57.97538757324219,
          50.08378982543945,
          -3.885964870452881,
          12.69180965423584,
          66.42256927490234,
          -1.2900960445404053,
          -86.33712768554688,
          -4.367841720581055,
          54.67914581298828,
          127.4171142578125,
          80.17910766601562,
          -46.6030387878418,
          -47.09141159057617,
          21.844717025756836,
          15.226642608642578,
          46.83304214477539,
          101.33087158203125,
          -87.51004791259766,
          38.05813980102539,
          130.9456787109375,
          -44.55696105957031,
          -70.77742767333984,
          -24.35222625732422,
          -83.44379425048828,
          17.419313430786133,
          17.061992645263672,
          -110.36226654052734,
          -18.22344398498535,
          65.61194610595703,
          -19.718372344970703,
          -30.619693756103516,
          9.341292381286621,
          5.041130065917969,
          94.95018768310547,
          57.222190856933594,
          33.88854217529297,
          -44.042381286621094,
          115.68170166015625,
          -131.11505126953125,
          -0.8926272392272949,
          -78.82400512695312,
          -46.922855377197266,
          123.78414154052734,
          -79.23139190673828,
          -121.33056640625,
          81.46350860595703,
          -17.2648983001709,
          -124.2507095336914,
          98.28370666503906,
          -57.61460876464844,
          11.419769287109375,
          -65.53453063964844,
          -72.10612487792969,
          -80.0143051147461,
          85.4340591430664,
          -172.66879272460938,
          -14.062153816223145,
          9.143309593200684,
          -28.47622299194336,
          -33.81937789916992,
          -77.7950668334961,
          -44.12022399902344,
          51.336151123046875,
          -142.00445556640625,
          135.655517578125,
          51.771934509277344,
          49.881099700927734,
          -101.20983123779297,
          -2.1391589641571045,
          -127.67181396484375,
          22.444419860839844,
          83.55762481689453,
          5.64451265335083,
          -104.40198516845703,
          61.42599868774414,
          94.78531646728516,
          -120.74478149414062,
          101.35115814208984,
          64.69625091552734,
          28.361202239990234,
          -138.83335876464844,
          5.664713382720947,
          146.80247497558594
         ],
         "z": [
          -92.42855834960938,
          23.676380157470703,
          57.28349685668945,
          147.70785522460938,
          53.57883834838867,
          -44.6110954284668,
          -51.611106872558594,
          -44.487632751464844,
          -5.402222156524658,
          43.85432815551758,
          62.485084533691406,
          90.78369140625,
          -181.51950073242188,
          -4.762790679931641,
          45.83231735229492,
          -171.7256622314453,
          49.57771682739258,
          -7.153095722198486,
          108.11680603027344,
          89.08413696289062,
          72.10798645019531,
          27.828184127807617,
          -55.43088150024414,
          67.8268814086914,
          -15.147392272949219,
          -92.5488052368164,
          -159.65879821777344,
          37.88882827758789,
          30.034149169921875,
          41.416419982910156,
          13.28516960144043,
          27.371652603149414,
          96.3756103515625,
          50.591148376464844,
          -41.813194274902344,
          -85.39440155029297,
          -129.7631072998047,
          -66.89019012451172,
          102.40082550048828,
          -51.13282775878906,
          133.49208068847656,
          -5.979897975921631,
          142.72528076171875,
          0.22513297200202942,
          -47.85525131225586,
          -16.622045516967773,
          -95.08897399902344,
          -30.805543899536133,
          -30.650123596191406,
          -9.781843185424805,
          9.534140586853027,
          -40.92121887207031,
          -3.793055534362793,
          -28.681467056274414,
          -15.888774871826172,
          -17.76752471923828,
          74.36607360839844,
          168.74200439453125,
          24.679550170898438,
          14.422049522399902,
          119.24455261230469,
          78.44242095947266,
          -13.846951484680176,
          -37.40483856201172,
          96.74210357666016,
          -0.8290351629257202,
          127.87074279785156,
          -77.55854797363281,
          -66.56702423095703,
          -1.3237558603286743,
          -28.62221336364746,
          -123.29222106933594,
          -94.90924072265625,
          -123.05481719970703,
          -21.63563346862793,
          105.17965698242188,
          -40.226409912109375,
          46.63513946533203,
          -77.6590347290039,
          66.68228912353516,
          119.11458587646484,
          -16.548601150512695,
          -109.72918701171875,
          -74.53839111328125,
          -97.4400405883789,
          172.39404296875,
          -54.77467727661133,
          -137.3126983642578,
          -35.58770751953125,
          -99.47882843017578,
          -19.440567016601562,
          168.3443603515625,
          139.91302490234375,
          -145.7360382080078,
          -59.028602600097656,
          -103.81421661376953,
          119.63195037841797,
          -29.456636428833008,
          35.02540969848633,
          -0.8742436766624451,
          26.478506088256836,
          49.594722747802734,
          10.405821800231934,
          138.98507690429688,
          49.87332534790039,
          0.8773810863494873,
          -283.4521789550781,
          75.29119110107422,
          88.68453216552734,
          82.03643798828125,
          -163.0104217529297,
          91.80168914794922,
          -64.64065551757812,
          -115.7684097290039,
          -100.45503997802734,
          -142.21389770507812,
          -1.0067445039749146,
          23.292861938476562,
          -85.1934585571289,
          66.31591033935547,
          -185.86602783203125,
          159.7608184814453,
          74.71944427490234,
          -6.955540180206299,
          -115.38875579833984,
          28.64599609375,
          -50.97372817993164,
          -42.830665588378906,
          -108.06920623779297,
          18.850788116455078,
          -55.49236297607422,
          160.34320068359375,
          -116.1158447265625,
          -19.730274200439453,
          130.7876434326172,
          52.28443145751953,
          141.16751098632812,
          -85.75662231445312,
          58.281890869140625,
          43.558876037597656,
          12.4397611618042,
          -81.84942626953125,
          -191.79637145996094,
          30.622411727905273,
          -141.01986694335938,
          85.2271728515625,
          36.041648864746094,
          184.74908447265625,
          -96.00346374511719,
          -130.41921997070312,
          -54.04464340209961,
          151.1917724609375,
          -170.60049438476562,
          2.6281745433807373,
          -131.6895294189453,
          73.84992218017578,
          4.7964558601379395,
          138.4828643798828,
          24.627376556396484,
          114.08599090576172,
          -16.681447982788086,
          179.95327758789062,
          16.796253204345703,
          76.3406982421875,
          25.21164321899414,
          -81.90531158447266,
          -83.9477310180664,
          29.099746704101562,
          19.25031089782715,
          106.55976867675781,
          -40.19938659667969,
          75.01920318603516,
          47.53104019165039,
          78.88587188720703,
          -131.4598388671875,
          25.19936752319336,
          34.09344482421875,
          155.25704956054688,
          28.419296264648438,
          -65.24896240234375,
          -66.91685485839844,
          13.719395637512207,
          -14.167769432067871,
          -60.39350509643555,
          68.68852996826172,
          -144.1024627685547,
          -67.3404541015625,
          103.515625,
          -40.030311584472656,
          -114.6068344116211,
          16.68164825439453,
          -5.679347515106201,
          -90.27127075195312,
          87.51795959472656,
          76.90753936767578,
          123.18004608154297,
          -135.9451141357422,
          -147.46263122558594,
          -19.507598876953125,
          108.2580795288086,
          107.16060638427734,
          108.67406463623047,
          -67.82117462158203,
          122.36048889160156,
          -82.19090270996094,
          -25.53458023071289,
          -25.634916305541992,
          89.78562927246094,
          59.501224517822266,
          -56.43088150024414,
          -96.218505859375,
          -51.5859375
         ]
        }
       ],
       "layout": {
        "margin": {
         "b": 0,
         "l": 0,
         "r": 0,
         "t": 80
        },
        "template": {
         "data": {
          "bar": [
           {
            "error_x": {
             "color": "#2a3f5f"
            },
            "error_y": {
             "color": "#2a3f5f"
            },
            "marker": {
             "line": {
              "color": "#E5ECF6",
              "width": 0.5
             },
             "pattern": {
              "fillmode": "overlay",
              "size": 10,
              "solidity": 0.2
             }
            },
            "type": "bar"
           }
          ],
          "barpolar": [
           {
            "marker": {
             "line": {
              "color": "#E5ECF6",
              "width": 0.5
             },
             "pattern": {
              "fillmode": "overlay",
              "size": 10,
              "solidity": 0.2
             }
            },
            "type": "barpolar"
           }
          ],
          "carpet": [
           {
            "aaxis": {
             "endlinecolor": "#2a3f5f",
             "gridcolor": "white",
             "linecolor": "white",
             "minorgridcolor": "white",
             "startlinecolor": "#2a3f5f"
            },
            "baxis": {
             "endlinecolor": "#2a3f5f",
             "gridcolor": "white",
             "linecolor": "white",
             "minorgridcolor": "white",
             "startlinecolor": "#2a3f5f"
            },
            "type": "carpet"
           }
          ],
          "choropleth": [
           {
            "colorbar": {
             "outlinewidth": 0,
             "ticks": ""
            },
            "type": "choropleth"
           }
          ],
          "contour": [
           {
            "colorbar": {
             "outlinewidth": 0,
             "ticks": ""
            },
            "colorscale": [
             [
              0,
              "#0d0887"
             ],
             [
              0.1111111111111111,
              "#46039f"
             ],
             [
              0.2222222222222222,
              "#7201a8"
             ],
             [
              0.3333333333333333,
              "#9c179e"
             ],
             [
              0.4444444444444444,
              "#bd3786"
             ],
             [
              0.5555555555555556,
              "#d8576b"
             ],
             [
              0.6666666666666666,
              "#ed7953"
             ],
             [
              0.7777777777777778,
              "#fb9f3a"
             ],
             [
              0.8888888888888888,
              "#fdca26"
             ],
             [
              1,
              "#f0f921"
             ]
            ],
            "type": "contour"
           }
          ],
          "contourcarpet": [
           {
            "colorbar": {
             "outlinewidth": 0,
             "ticks": ""
            },
            "type": "contourcarpet"
           }
          ],
          "heatmap": [
           {
            "colorbar": {
             "outlinewidth": 0,
             "ticks": ""
            },
            "colorscale": [
             [
              0,
              "#0d0887"
             ],
             [
              0.1111111111111111,
              "#46039f"
             ],
             [
              0.2222222222222222,
              "#7201a8"
             ],
             [
              0.3333333333333333,
              "#9c179e"
             ],
             [
              0.4444444444444444,
              "#bd3786"
             ],
             [
              0.5555555555555556,
              "#d8576b"
             ],
             [
              0.6666666666666666,
              "#ed7953"
             ],
             [
              0.7777777777777778,
              "#fb9f3a"
             ],
             [
              0.8888888888888888,
              "#fdca26"
             ],
             [
              1,
              "#f0f921"
             ]
            ],
            "type": "heatmap"
           }
          ],
          "heatmapgl": [
           {
            "colorbar": {
             "outlinewidth": 0,
             "ticks": ""
            },
            "colorscale": [
             [
              0,
              "#0d0887"
             ],
             [
              0.1111111111111111,
              "#46039f"
             ],
             [
              0.2222222222222222,
              "#7201a8"
             ],
             [
              0.3333333333333333,
              "#9c179e"
             ],
             [
              0.4444444444444444,
              "#bd3786"
             ],
             [
              0.5555555555555556,
              "#d8576b"
             ],
             [
              0.6666666666666666,
              "#ed7953"
             ],
             [
              0.7777777777777778,
              "#fb9f3a"
             ],
             [
              0.8888888888888888,
              "#fdca26"
             ],
             [
              1,
              "#f0f921"
             ]
            ],
            "type": "heatmapgl"
           }
          ],
          "histogram": [
           {
            "marker": {
             "pattern": {
              "fillmode": "overlay",
              "size": 10,
              "solidity": 0.2
             }
            },
            "type": "histogram"
           }
          ],
          "histogram2d": [
           {
            "colorbar": {
             "outlinewidth": 0,
             "ticks": ""
            },
            "colorscale": [
             [
              0,
              "#0d0887"
             ],
             [
              0.1111111111111111,
              "#46039f"
             ],
             [
              0.2222222222222222,
              "#7201a8"
             ],
             [
              0.3333333333333333,
              "#9c179e"
             ],
             [
              0.4444444444444444,
              "#bd3786"
             ],
             [
              0.5555555555555556,
              "#d8576b"
             ],
             [
              0.6666666666666666,
              "#ed7953"
             ],
             [
              0.7777777777777778,
              "#fb9f3a"
             ],
             [
              0.8888888888888888,
              "#fdca26"
             ],
             [
              1,
              "#f0f921"
             ]
            ],
            "type": "histogram2d"
           }
          ],
          "histogram2dcontour": [
           {
            "colorbar": {
             "outlinewidth": 0,
             "ticks": ""
            },
            "colorscale": [
             [
              0,
              "#0d0887"
             ],
             [
              0.1111111111111111,
              "#46039f"
             ],
             [
              0.2222222222222222,
              "#7201a8"
             ],
             [
              0.3333333333333333,
              "#9c179e"
             ],
             [
              0.4444444444444444,
              "#bd3786"
             ],
             [
              0.5555555555555556,
              "#d8576b"
             ],
             [
              0.6666666666666666,
              "#ed7953"
             ],
             [
              0.7777777777777778,
              "#fb9f3a"
             ],
             [
              0.8888888888888888,
              "#fdca26"
             ],
             [
              1,
              "#f0f921"
             ]
            ],
            "type": "histogram2dcontour"
           }
          ],
          "mesh3d": [
           {
            "colorbar": {
             "outlinewidth": 0,
             "ticks": ""
            },
            "type": "mesh3d"
           }
          ],
          "parcoords": [
           {
            "line": {
             "colorbar": {
              "outlinewidth": 0,
              "ticks": ""
             }
            },
            "type": "parcoords"
           }
          ],
          "pie": [
           {
            "automargin": true,
            "type": "pie"
           }
          ],
          "scatter": [
           {
            "fillpattern": {
             "fillmode": "overlay",
             "size": 10,
             "solidity": 0.2
            },
            "type": "scatter"
           }
          ],
          "scatter3d": [
           {
            "line": {
             "colorbar": {
              "outlinewidth": 0,
              "ticks": ""
             }
            },
            "marker": {
             "colorbar": {
              "outlinewidth": 0,
              "ticks": ""
             }
            },
            "type": "scatter3d"
           }
          ],
          "scattercarpet": [
           {
            "marker": {
             "colorbar": {
              "outlinewidth": 0,
              "ticks": ""
             }
            },
            "type": "scattercarpet"
           }
          ],
          "scattergeo": [
           {
            "marker": {
             "colorbar": {
              "outlinewidth": 0,
              "ticks": ""
             }
            },
            "type": "scattergeo"
           }
          ],
          "scattergl": [
           {
            "marker": {
             "colorbar": {
              "outlinewidth": 0,
              "ticks": ""
             }
            },
            "type": "scattergl"
           }
          ],
          "scattermapbox": [
           {
            "marker": {
             "colorbar": {
              "outlinewidth": 0,
              "ticks": ""
             }
            },
            "type": "scattermapbox"
           }
          ],
          "scatterpolar": [
           {
            "marker": {
             "colorbar": {
              "outlinewidth": 0,
              "ticks": ""
             }
            },
            "type": "scatterpolar"
           }
          ],
          "scatterpolargl": [
           {
            "marker": {
             "colorbar": {
              "outlinewidth": 0,
              "ticks": ""
             }
            },
            "type": "scatterpolargl"
           }
          ],
          "scatterternary": [
           {
            "marker": {
             "colorbar": {
              "outlinewidth": 0,
              "ticks": ""
             }
            },
            "type": "scatterternary"
           }
          ],
          "surface": [
           {
            "colorbar": {
             "outlinewidth": 0,
             "ticks": ""
            },
            "colorscale": [
             [
              0,
              "#0d0887"
             ],
             [
              0.1111111111111111,
              "#46039f"
             ],
             [
              0.2222222222222222,
              "#7201a8"
             ],
             [
              0.3333333333333333,
              "#9c179e"
             ],
             [
              0.4444444444444444,
              "#bd3786"
             ],
             [
              0.5555555555555556,
              "#d8576b"
             ],
             [
              0.6666666666666666,
              "#ed7953"
             ],
             [
              0.7777777777777778,
              "#fb9f3a"
             ],
             [
              0.8888888888888888,
              "#fdca26"
             ],
             [
              1,
              "#f0f921"
             ]
            ],
            "type": "surface"
           }
          ],
          "table": [
           {
            "cells": {
             "fill": {
              "color": "#EBF0F8"
             },
             "line": {
              "color": "white"
             }
            },
            "header": {
             "fill": {
              "color": "#C8D4E3"
             },
             "line": {
              "color": "white"
             }
            },
            "type": "table"
           }
          ]
         },
         "layout": {
          "annotationdefaults": {
           "arrowcolor": "#2a3f5f",
           "arrowhead": 0,
           "arrowwidth": 1
          },
          "autotypenumbers": "strict",
          "coloraxis": {
           "colorbar": {
            "outlinewidth": 0,
            "ticks": ""
           }
          },
          "colorscale": {
           "diverging": [
            [
             0,
             "#8e0152"
            ],
            [
             0.1,
             "#c51b7d"
            ],
            [
             0.2,
             "#de77ae"
            ],
            [
             0.3,
             "#f1b6da"
            ],
            [
             0.4,
             "#fde0ef"
            ],
            [
             0.5,
             "#f7f7f7"
            ],
            [
             0.6,
             "#e6f5d0"
            ],
            [
             0.7,
             "#b8e186"
            ],
            [
             0.8,
             "#7fbc41"
            ],
            [
             0.9,
             "#4d9221"
            ],
            [
             1,
             "#276419"
            ]
           ],
           "sequential": [
            [
             0,
             "#0d0887"
            ],
            [
             0.1111111111111111,
             "#46039f"
            ],
            [
             0.2222222222222222,
             "#7201a8"
            ],
            [
             0.3333333333333333,
             "#9c179e"
            ],
            [
             0.4444444444444444,
             "#bd3786"
            ],
            [
             0.5555555555555556,
             "#d8576b"
            ],
            [
             0.6666666666666666,
             "#ed7953"
            ],
            [
             0.7777777777777778,
             "#fb9f3a"
            ],
            [
             0.8888888888888888,
             "#fdca26"
            ],
            [
             1,
             "#f0f921"
            ]
           ],
           "sequentialminus": [
            [
             0,
             "#0d0887"
            ],
            [
             0.1111111111111111,
             "#46039f"
            ],
            [
             0.2222222222222222,
             "#7201a8"
            ],
            [
             0.3333333333333333,
             "#9c179e"
            ],
            [
             0.4444444444444444,
             "#bd3786"
            ],
            [
             0.5555555555555556,
             "#d8576b"
            ],
            [
             0.6666666666666666,
             "#ed7953"
            ],
            [
             0.7777777777777778,
             "#fb9f3a"
            ],
            [
             0.8888888888888888,
             "#fdca26"
            ],
            [
             1,
             "#f0f921"
            ]
           ]
          },
          "colorway": [
           "#636efa",
           "#EF553B",
           "#00cc96",
           "#ab63fa",
           "#FFA15A",
           "#19d3f3",
           "#FF6692",
           "#B6E880",
           "#FF97FF",
           "#FECB52"
          ],
          "font": {
           "color": "#2a3f5f"
          },
          "geo": {
           "bgcolor": "white",
           "lakecolor": "white",
           "landcolor": "#E5ECF6",
           "showlakes": true,
           "showland": true,
           "subunitcolor": "white"
          },
          "hoverlabel": {
           "align": "left"
          },
          "hovermode": "closest",
          "mapbox": {
           "style": "light"
          },
          "paper_bgcolor": "white",
          "plot_bgcolor": "#E5ECF6",
          "polar": {
           "angularaxis": {
            "gridcolor": "white",
            "linecolor": "white",
            "ticks": ""
           },
           "bgcolor": "#E5ECF6",
           "radialaxis": {
            "gridcolor": "white",
            "linecolor": "white",
            "ticks": ""
           }
          },
          "scene": {
           "xaxis": {
            "backgroundcolor": "#E5ECF6",
            "gridcolor": "white",
            "gridwidth": 2,
            "linecolor": "white",
            "showbackground": true,
            "ticks": "",
            "zerolinecolor": "white"
           },
           "yaxis": {
            "backgroundcolor": "#E5ECF6",
            "gridcolor": "white",
            "gridwidth": 2,
            "linecolor": "white",
            "showbackground": true,
            "ticks": "",
            "zerolinecolor": "white"
           },
           "zaxis": {
            "backgroundcolor": "#E5ECF6",
            "gridcolor": "white",
            "gridwidth": 2,
            "linecolor": "white",
            "showbackground": true,
            "ticks": "",
            "zerolinecolor": "white"
           }
          },
          "shapedefaults": {
           "line": {
            "color": "#2a3f5f"
           }
          },
          "ternary": {
           "aaxis": {
            "gridcolor": "white",
            "linecolor": "white",
            "ticks": ""
           },
           "baxis": {
            "gridcolor": "white",
            "linecolor": "white",
            "ticks": ""
           },
           "bgcolor": "#E5ECF6",
           "caxis": {
            "gridcolor": "white",
            "linecolor": "white",
            "ticks": ""
           }
          },
          "title": {
           "x": 0.05
          },
          "xaxis": {
           "automargin": true,
           "gridcolor": "white",
           "linecolor": "white",
           "ticks": "",
           "title": {
            "standoff": 15
           },
           "zerolinecolor": "white",
           "zerolinewidth": 2
          },
          "yaxis": {
           "automargin": true,
           "gridcolor": "white",
           "linecolor": "white",
           "ticks": "",
           "title": {
            "standoff": 15
           },
           "zerolinecolor": "white",
           "zerolinewidth": 2
          }
         }
        },
        "title": {
         "text": "Visualized Area of Improvement for Popular Restaurants in New York City using t-SNE"
        }
       }
      },
      "text/html": [
       "<div>                            <div id=\"0d8a9131-a9e8-4fb5-acb5-bfcc77f81107\" class=\"plotly-graph-div\" style=\"height:525px; width:100%;\"></div>            <script type=\"text/javascript\">                require([\"plotly\"], function(Plotly) {                    window.PLOTLYENV=window.PLOTLYENV || {};                                    if (document.getElementById(\"0d8a9131-a9e8-4fb5-acb5-bfcc77f81107\")) {                    Plotly.newPlot(                        \"0d8a9131-a9e8-4fb5-acb5-bfcc77f81107\",                        [{\"hoverinfo\":\"text\",\"marker\":{\"color\":[9,9,1,4,5,4,6,2,5,0,1,0,0,5,0,3,9,1,2,4,5,4,1,4,4,9,2,5,2,2,4,1,6,1,4,3,3,4,2,3,6,2,4,4,4,3,9,1,3,5,4,4,4,2,3,5,3,1,4,0,6,2,2,3,1,4,5,4,6,4,3,4,3,9,2,4,4,6,9,3,4,3,4,9,4,3,3,6,9,3,6,3,3,6,4,2,4,4,5,4,2,4,6,5,2,1,4,1,0,4,4,4,2,4,3,6,3,4,9,5,3,5,2,3,3,9,4,9,6,1,9,4,5,2,6,3,2,4,4,4,2,4,3,5,3,5,2,2,4,5,3,4,6,5,3,0,1,1,4,5,4,3,4,1,5,9,4,4,3,4,3,1,2,2,4,5,3,4,4,9,3,5,2,9,0,1,4,5,2,3,3,2,0,4,0,1,6,3,3,1,1,5,3,1,3,5,1,2,0,6,4,6],\"colorscale\":[[0.0,\"red\"],[0.1111111111111111,\"blue\"],[0.2222222222222222,\"green\"],[0.3333333333333333,\"yellow\"],[0.4444444444444444,\"orange\"],[0.5555555555555556,\"purple\"],[0.6666666666666666,\"pink\"],[0.7777777777777778,\"brown\"],[0.8888888888888888,\"gray\"],[1.0,\"cyan\"]],\"opacity\":0.8,\"size\":6},\"mode\":\"markers\",\"text\":[\"Foxface Natural : No areas for improvement mentioned.\",\"The Golden Swan : No areas for improvement mentioned.\",\"Barbalu - Brooklyn : Portions and space.\",\"Number One Caviar Boutique : Consistency, Service\",\"Don Angie : Long wait times, inconsistent food\",\"Mollusca : Consistency, Service\",\"Sixty Three Clinton : Cocktails, Dessert.\",\"NAKAJI : High prices, small portions\",\"The Sunken Harbor Club : Long wait times, inconsistent food\",\"Rosella : Limited selection. Quality of food.\",\"Kono : Portions and space.\",\"Sushi Ikumi : Limited selection. Quality of food.\",\"Shinzo Omakase : Limited selection. Quality of food.\",\"Ito : Long wait times, inconsistent food\",\"Taikun Sushi NYC : Limited selection. Quality of food.\",\"Stafili Wine Cafe : lacking flavor, slow service\",\"HAGS : No areas for improvement mentioned.\",\"Accidental Bar : Portions and space.\",\"Sushi Lin Soho : High prices, small portions\",\"Russ & Daughters Cafe : Consistency, Service\",\"The Coop at Double Chicken Please : Long wait times, inconsistent food\",\"Malaparte : Consistency, Service\",\"Oiji Mi : Portions and space.\",\"Golden Diner : Consistency, Service\",\"La Compagnie des Vins Surnaturels : Consistency, Service\",\"Kings Co Imperial - Lower East Side : No areas for improvement mentioned.\",\"Overstory : High prices, small portions\",\"The Up & Up : Long wait times, inconsistent food\",\"Claud : High prices, small portions\",\"Torrisi Bar & Restaurant : High prices, small portions\",\"Shinn East : Consistency, Service\",\"Houseman : Portions and space.\",\"The Chef\\u2019s Counter at Manhatta : Cocktails, Dessert.\",\"Lord's : Portions and space.\",\"l'abeille : Consistency, Service\",\"SAGA : lacking flavor, slow service\",\"Bar Six : lacking flavor, slow service\",\"C as in Charlie : Consistency, Service\",\"Farra : High prices, small portions\",\"L'Appart : lacking flavor, slow service\",\"Potluck Club : Cocktails, Dessert.\",\"Balvanera : High prices, small portions\",\"Sant Ambroeus - Brookfield Place : Consistency, Service\",\"L'accolade : Consistency, Service\",\"Shabu Tatsu : Consistency, Service\",\"Luthun : lacking flavor, slow service\",\"The Little Shop : No areas for improvement mentioned.\",\"8282 : Portions and space.\",\"Torien : lacking flavor, slow service\",\"Matsunori : Long wait times, inconsistent food\",\"Chito Gvrito : Consistency, Service\",\"Thirteen Water : Consistency, Service\",\"CICCIO Bar & Alimentari : Consistency, Service\",\"Saint Julivert Fisherie : High prices, small portions\",\"ARIARI : lacking flavor, slow service\",\"Martiny's : Long wait times, inconsistent food\",\"Ama Raw Bar - East Village : lacking flavor, slow service\",\"Omakase Room by Mitsu : Portions and space.\",\"Ama Raw Bar - West Village : Consistency, Service\",\"HIBINO - Brooklyn : Limited selection. Quality of food.\",\"Via Della Pace : Cocktails, Dessert.\",\"Terroir : High prices, small portions\",\"St. Jardim : High prices, small portions\",\"Felice on Hudson : lacking flavor, slow service\",\"Leitao : Portions and space.\",\"Parcelle : Consistency, Service\",\"Holywater : Long wait times, inconsistent food\",\"Wicked Jane : Consistency, Service\",\"TLK - by Tigerlily Kitchen : Cocktails, Dessert.\",\"Sushi Lab - East Village : Consistency, Service\",\"Marylou : lacking flavor, slow service\",\"Bar Lula : Consistency, Service\",\"The Wesley : lacking flavor, slow service\",\"Pips : No areas for improvement mentioned.\",\"Nabila's : High prices, small portions\",\"Sushi Teru Omakase : Consistency, Service\",\"al Badawi : Consistency, Service\",\"The Wayland : Cocktails, Dessert.\",\"Essex Pearl : No areas for improvement mentioned.\",\"Motorino : lacking flavor, slow service\",\"Almar : Consistency, Service\",\"Inatteso Pizzabar : lacking flavor, slow service\",\"Sushi by M - 4th St : Consistency, Service\",\"Brindle Room : No areas for improvement mentioned.\",\"Marc Forgione : Consistency, Service\",\"Manero's Bar & Restaurant : lacking flavor, slow service\",\"Omakase Sushi Fan : lacking flavor, slow service\",\"Rabbit : Cocktails, Dessert.\",\"Osteria Carlina Tribeca : No areas for improvement mentioned.\",\"SPUNTO NYCThinCrust Pizza : lacking flavor, slow service\",\"Bisou : Cocktails, Dessert.\",\"Ella Funt : lacking flavor, slow service\",\"BRADO NYCThinCrust Pizza : lacking flavor, slow service\",\"Bandone : Cocktails, Dessert.\",\"Rai Rai Ken \\u002f Ban Rai : Consistency, Service\",\"J\\u014dji : High prices, small portions\",\"Legacy Records Special Events : Consistency, Service\",\"Glin Thai Bistro : Consistency, Service\",\"Wanpaku\\u002f Hidden Pearl : Long wait times, inconsistent food\",\"Keg and Lantern Brewery - Red Hook : Consistency, Service\",\"The Four Horsemen : High prices, small portions\",\"Otis : Consistency, Service\",\"Ras Plant Based : Cocktails, Dessert.\",\"The Polo Bar : Long wait times, inconsistent food\",\"Sushi Lin : High prices, small portions\",\"Pomp & Circumstance : Portions and space.\",\"Runner Up : Consistency, Service\",\"Omakase by korami : Portions and space.\",\"OKONOMI\\u002fYUJI Ramen : Limited selection. Quality of food.\",\"Sundays Well : Consistency, Service\",\"Santa Fe BK : Consistency, Service\",\"Panchitas Place : Consistency, Service\",\"Aromi : High prices, small portions\",\"Salinas : Consistency, Service\",\"Public Display of Affection (PDA) : lacking flavor, slow service\",\"HOUSE Brooklyn : Cocktails, Dessert.\",\"Ace's Pizza : lacking flavor, slow service\",\"Lulu & Po : Consistency, Service\",\"Sucker Punch : No areas for improvement mentioned.\",\"390 Social : Long wait times, inconsistent food\",\"Bangkok Degree : lacking flavor, slow service\",\"The Moore\\u002fMoore Wine : Long wait times, inconsistent food\",\"Ploo : High prices, small portions\",\"Lilia : lacking flavor, slow service\",\"Le Bernardin : lacking flavor, slow service\",\"Keens Steakhouse : No areas for improvement mentioned.\",\"Miss Ada : Consistency, Service\",\"Sushi Seki Chelsea : No areas for improvement mentioned.\",\"Shukette : Cocktails, Dessert.\",\"Le Crocodile : Portions and space.\",\"Kings Co Imperial - Williamsburg : No areas for improvement mentioned.\",\"Red Hook Tavern : Consistency, Service\",\"Evelina : Long wait times, inconsistent food\",\"Roman's : High prices, small portions\",\"Kochi : Cocktails, Dessert.\",\"Oxalis : lacking flavor, slow service\",\"Laser Wolf Brooklyn : High prices, small portions\",\"LaRina Pastificio & Vino : Consistency, Service\",\"Trattoria Trecolori : Consistency, Service\",\"Traif : Consistency, Service\",\"Haenyeo : High prices, small portions\",\"Sofreh : Consistency, Service\",\"Pasta Louise : lacking flavor, slow service\",\"JUA : Long wait times, inconsistent food\",\"The Modern : lacking flavor, slow service\",\"Tonchin New York : Long wait times, inconsistent food\",\"ViceVersa : High prices, small portions\",\"Monkey Bar : High prices, small portions\",\"Francie : Consistency, Service\",\"Buttermilk Channel : Long wait times, inconsistent food\",\"Roberta's : lacking flavor, slow service\",\"Hart\\u2019s : Consistency, Service\",\"Colonia Verde : Cocktails, Dessert.\",\"Nura : Long wait times, inconsistent food\",\"LaLou : lacking flavor, slow service\",\"Hatsuhana Sushi Restaurant : Limited selection. Quality of food.\",\"Nami Nori Williamsburg : Portions and space.\",\"Leland Eating and Drinking House : Portions and space.\",\"MONTESACRO : Consistency, Service\",\"West Bank Cafe : Long wait times, inconsistent food\",\"Place des F\\u00eates : Consistency, Service\",\"Etcetera Etcetera : lacking flavor, slow service\",\"Bar B\\u00eate : Consistency, Service\",\"Mari : Portions and space.\",\"Sweetwater Restaurant : Long wait times, inconsistent food\",\"Maison Premiere : No areas for improvement mentioned.\",\"Nonna Dora's : Consistency, Service\",\"Yakitori Torishin : Consistency, Service\",\"Madre : lacking flavor, slow service\",\"Leo : Consistency, Service\",\"Olea : lacking flavor, slow service\",\"The Marshal : Portions and space.\",\"Michael's Restaurant : High prices, small portions\",\"Taverna Di Bacco : High prices, small portions\",\"Blue Haven-West Village : Consistency, Service\",\"Della's : Long wait times, inconsistent food\",\"Esora Omakase : lacking flavor, slow service\",\"Sushi Mumi : Consistency, Service\",\"Arthur's Tavern : Consistency, Service\",\"Seppe Pizza Bar : No areas for improvement mentioned.\",\"Han Dynasty - East Village : lacking flavor, slow service\",\"Morgenstern's Finest Ice Cream : Long wait times, inconsistent food\",\"Top Thai Vintage : High prices, small portions\",\"Junsui : No areas for improvement mentioned.\",\"Kintsugi Omakase : Limited selection. Quality of food.\",\"Pastis : Portions and space.\",\"Loring Place : Consistency, Service\",\"Rubirosa : Long wait times, inconsistent food\",\"Carbone : High prices, small portions\",\"I Sodi : lacking flavor, slow service\",\"L'Artusi : lacking flavor, slow service\",\"Raoul's : High prices, small portions\",\"Sushi Nakazawa NY : Limited selection. Quality of food.\",\"Minetta Tavern : Consistency, Service\",\"Raku Soho : Limited selection. Quality of food.\",\"Cervo\\u2019s : Portions and space.\",\"Jeffrey's Grocery : Cocktails, Dessert.\",\"Dirt Candy : lacking flavor, slow service\",\"Hanoi House : lacking flavor, slow service\",\"Colonie : Portions and space.\",\"Fairfax : Portions and space.\",\"The Dead Rabbit Pub : Long wait times, inconsistent food\",\"Dame : lacking flavor, slow service\",\"Dear Irving Gramercy : Portions and space.\",\"Popina NYC : lacking flavor, slow service\",\"The Nines : Long wait times, inconsistent food\",\"MOKYO : Portions and space.\",\"La Vara : High prices, small portions\",\"Noreetuh : Limited selection. Quality of food.\",\"Flex Mussels- WV : Cocktails, Dessert.\",\"Cafe Spaghetti : Consistency, Service\",\"da Toscano : Cocktails, Dessert.\"],\"x\":[-38.74127197265625,75.2291488647461,-126.48615264892578,21.71377182006836,-72.30326843261719,169.18603515625,75.77437591552734,72.23462677001953,14.88558578491211,-180.78665161132812,-21.57634925842285,-105.08665466308594,14.14863109588623,3.9714882373809814,-147.5399169921875,15.606581687927246,49.283206939697266,80.8130874633789,54.66107177734375,142.07763671875,-27.60036277770996,171.139404296875,60.31765365600586,14.14529800415039,-1.260464072227478,66.43534088134766,-86.76287841796875,-89.7648696899414,-5.861693382263184,51.05093765258789,-116.6055908203125,97.92972564697266,113.62889099121094,-42.776206970214844,-109.11705780029297,-57.65354537963867,-4.048128604888916,-103.75614929199219,51.646034240722656,-84.38658905029297,102.5274658203125,34.30266571044922,77.72176361083984,145.20130920410156,-129.72352600097656,-164.7123260498047,11.629246711730957,-142.57180786132812,11.9869384765625,33.31332778930664,-78.76373291015625,47.934669494628906,68.40460205078125,121.70933532714844,64.6971206665039,64.19927215576172,13.674711227416992,44.07891082763672,5.8201375007629395,-137.58128356933594,-39.21588897705078,103.02367401123047,124.24665069580078,101.87875366210938,-36.21376037597656,-47.3278694152832,75.79756164550781,90.2707748413086,142.1240692138672,86.88652038574219,-2.566307306289673,8.705784797668457,2.490320920944214,95.274169921875,151.36146545410156,140.39004516601562,-129.75990295410156,112.69042205810547,1.7506372928619385,7.535656452178955,-58.02024841308594,-44.38200378417969,-142.24354553222656,-67.90009307861328,45.89046859741211,-17.59572982788086,-165.41778564453125,100.6676025390625,14.913317680358887,-62.090328216552734,62.7492561340332,31.998666763305664,-29.740985870361328,-20.14503288269043,7.582351207733154,-11.555926322937012,29.328022003173828,-51.40660095214844,-89.20745849609375,-44.55165100097656,159.24795532226562,64.09506225585938,-36.080963134765625,95.59136962890625,111.33336639404297,86.26578521728516,350.21826171875,87.72013854980469,-156.79237365722656,168.7805938720703,-82.61163330078125,74.54051208496094,166.2103729248047,139.6128692626953,-100.52665710449219,-110.19639587402344,-6.793252944946289,165.1136474609375,-17.739322662353516,63.67952346801758,-65.78739929199219,50.73140335083008,70.66641998291016,-80.1678237915039,-65.5361099243164,-54.094703674316406,31.24611473083496,-7.378897666931152,-66.30121612548828,-183.92283630371094,-53.776485443115234,-68.04703521728516,140.82870483398438,113.23709106445312,134.44058227539062,-49.733673095703125,-8.745962142944336,107.98805236816406,-49.83171463012695,-4.278689384460449,27.553415298461914,-144.31640625,37.564796447753906,-52.036346435546875,94.18897247314453,-102.12749481201172,-6.845843315124512,-21.1042423248291,-102.89596557617188,26.690935134887695,-78.37681579589844,-95.59678649902344,-21.28380584716797,-115.66034698486328,-72.5572280883789,-97.59699249267578,-82.93799591064453,-69.22152709960938,117.18412780761719,28.9514102935791,162.2589569091797,91.5997314453125,23.180282592773438,-67.31755065917969,3.9526255130767822,18.317319869995117,-73.25463104248047,135.33738708496094,57.39797592163086,-0.36345404386520386,39.307861328125,2.415156602859497,47.039981842041016,4.353613376617432,49.70331954956055,-11.414475440979004,52.840938568115234,-4.0974650382995605,148.81201171875,-33.10420608520508,104.37230682373047,-132.03907775878906,-33.14480972290039,-18.74214744567871,-64.36453247070312,-26.700157165527344,83.08305358886719,-67.25763702392578,-55.40821838378906,-44.871070861816406,-42.776939392089844,-82.01750946044922,61.24749755859375,87.62458801269531,-119.92704010009766,-7.632826328277588,46.367584228515625,48.757171630859375,-22.535741806030273,-87.43634796142578,-46.55390548706055,-147.54563903808594,-30.709400177001953,-129.37142944335938,36.29157257080078,-72.64788818359375,-88.91559600830078,13.29382610321045,-108.13130950927734,15.72005844116211,-120.16570281982422,113.63472747802734],\"y\":[33.49612808227539,50.48520278930664,-18.472469329833984,-120.1243667602539,-13.241704940795898,61.30186080932617,173.4276885986328,55.25429153442383,-166.61032104492188,-23.75821304321289,40.062110900878906,-67.81736755371094,-33.09307098388672,9.813342094421387,38.96512222290039,56.3226432800293,60.77120590209961,-51.88447189331055,31.33681869506836,-82.18175506591797,-36.19533157348633,-15.010298728942871,-92.17501831054688,-50.84583282470703,128.06910705566406,-33.87730026245117,91.15464782714844,-59.135009765625,158.01222229003906,135.95370483398438,-131.6083221435547,-77.04203033447266,35.19645690917969,89.67557525634766,-11.335031509399414,163.42718505859375,-132.012939453125,73.55931854248047,-92.76512908935547,-164.1871795654297,-66.6356201171875,-102.65479278564453,-122.39400482177734,133.3836669921875,129.4121856689453,-36.10540771484375,-8.870612144470215,56.645851135253906,-83.84149169921875,34.228553771972656,148.61997985839844,128.94039916992188,91.16510009765625,-33.789756774902344,-6.909945011138916,-165.10386657714844,-1.0107992887496948,-54.06019592285156,-134.65696716308594,96.95297241210938,-135.3348846435547,-16.79928207397461,21.794591903686523,-122.86994934082031,11.690396308898926,-187.30906677246094,-14.833847045898438,99.41177368164062,-2.9138689041137695,137.3582000732422,-36.01124954223633,33.41165542602539,-88.50436401367188,-13.660696029663086,-89.1135482788086,85.7518310546875,-92.36074829101562,87.5682601928711,60.135746002197266,-176.2451629638672,-80.36638641357422,8.161630630493164,60.79450988769531,18.258291244506836,37.13090896606445,-80.04711151123047,9.424854278564453,-73.70072937011719,78.4011459350586,-138.52554321289062,178.9900360107422,6.130344867706299,-55.73552322387695,91.53721618652344,164.3153533935547,129.69808959960938,119.14079284667969,161.2713623046875,77.4749755859375,104.5239028930664,43.368492126464844,-28.40958023071289,54.47486114501953,58.199974060058594,26.567138671875,-99.52335357666016,-188.1335906982422,-66.58873748779297,-61.7097282409668,0.27624642848968506,-78.11090087890625,96.70347595214844,-61.95426559448242,95.38552856445312,-92.56121826171875,-32.14432907104492,203.11294555664062,98.43116760253906,-32.59001541137695,14.860913276672363,9.072169303894043,69.67854309082031,-134.66162109375,-73.26289367675781,71.0085220336914,-132.76455688476562,5.686938762664795,48.99439239501953,-44.909942626953125,57.97538757324219,50.08378982543945,-3.885964870452881,12.69180965423584,66.42256927490234,-1.2900960445404053,-86.33712768554688,-4.367841720581055,54.67914581298828,127.4171142578125,80.17910766601562,-46.6030387878418,-47.09141159057617,21.844717025756836,15.226642608642578,46.83304214477539,101.33087158203125,-87.51004791259766,38.05813980102539,130.9456787109375,-44.55696105957031,-70.77742767333984,-24.35222625732422,-83.44379425048828,17.419313430786133,17.061992645263672,-110.36226654052734,-18.22344398498535,65.61194610595703,-19.718372344970703,-30.619693756103516,9.341292381286621,5.041130065917969,94.95018768310547,57.222190856933594,33.88854217529297,-44.042381286621094,115.68170166015625,-131.11505126953125,-0.8926272392272949,-78.82400512695312,-46.922855377197266,123.78414154052734,-79.23139190673828,-121.33056640625,81.46350860595703,-17.2648983001709,-124.2507095336914,98.28370666503906,-57.61460876464844,11.419769287109375,-65.53453063964844,-72.10612487792969,-80.0143051147461,85.4340591430664,-172.66879272460938,-14.062153816223145,9.143309593200684,-28.47622299194336,-33.81937789916992,-77.7950668334961,-44.12022399902344,51.336151123046875,-142.00445556640625,135.655517578125,51.771934509277344,49.881099700927734,-101.20983123779297,-2.1391589641571045,-127.67181396484375,22.444419860839844,83.55762481689453,5.64451265335083,-104.40198516845703,61.42599868774414,94.78531646728516,-120.74478149414062,101.35115814208984,64.69625091552734,28.361202239990234,-138.83335876464844,5.664713382720947,146.80247497558594],\"z\":[-92.42855834960938,23.676380157470703,57.28349685668945,147.70785522460938,53.57883834838867,-44.6110954284668,-51.611106872558594,-44.487632751464844,-5.402222156524658,43.85432815551758,62.485084533691406,90.78369140625,-181.51950073242188,-4.762790679931641,45.83231735229492,-171.7256622314453,49.57771682739258,-7.153095722198486,108.11680603027344,89.08413696289062,72.10798645019531,27.828184127807617,-55.43088150024414,67.8268814086914,-15.147392272949219,-92.5488052368164,-159.65879821777344,37.88882827758789,30.034149169921875,41.416419982910156,13.28516960144043,27.371652603149414,96.3756103515625,50.591148376464844,-41.813194274902344,-85.39440155029297,-129.7631072998047,-66.89019012451172,102.40082550048828,-51.13282775878906,133.49208068847656,-5.979897975921631,142.72528076171875,0.22513297200202942,-47.85525131225586,-16.622045516967773,-95.08897399902344,-30.805543899536133,-30.650123596191406,-9.781843185424805,9.534140586853027,-40.92121887207031,-3.793055534362793,-28.681467056274414,-15.888774871826172,-17.76752471923828,74.36607360839844,168.74200439453125,24.679550170898438,14.422049522399902,119.24455261230469,78.44242095947266,-13.846951484680176,-37.40483856201172,96.74210357666016,-0.8290351629257202,127.87074279785156,-77.55854797363281,-66.56702423095703,-1.3237558603286743,-28.62221336364746,-123.29222106933594,-94.90924072265625,-123.05481719970703,-21.63563346862793,105.17965698242188,-40.226409912109375,46.63513946533203,-77.6590347290039,66.68228912353516,119.11458587646484,-16.548601150512695,-109.72918701171875,-74.53839111328125,-97.4400405883789,172.39404296875,-54.77467727661133,-137.3126983642578,-35.58770751953125,-99.47882843017578,-19.440567016601562,168.3443603515625,139.91302490234375,-145.7360382080078,-59.028602600097656,-103.81421661376953,119.63195037841797,-29.456636428833008,35.02540969848633,-0.8742436766624451,26.478506088256836,49.594722747802734,10.405821800231934,138.98507690429688,49.87332534790039,0.8773810863494873,-283.4521789550781,75.29119110107422,88.68453216552734,82.03643798828125,-163.0104217529297,91.80168914794922,-64.64065551757812,-115.7684097290039,-100.45503997802734,-142.21389770507812,-1.0067445039749146,23.292861938476562,-85.1934585571289,66.31591033935547,-185.86602783203125,159.7608184814453,74.71944427490234,-6.955540180206299,-115.38875579833984,28.64599609375,-50.97372817993164,-42.830665588378906,-108.06920623779297,18.850788116455078,-55.49236297607422,160.34320068359375,-116.1158447265625,-19.730274200439453,130.7876434326172,52.28443145751953,141.16751098632812,-85.75662231445312,58.281890869140625,43.558876037597656,12.4397611618042,-81.84942626953125,-191.79637145996094,30.622411727905273,-141.01986694335938,85.2271728515625,36.041648864746094,184.74908447265625,-96.00346374511719,-130.41921997070312,-54.04464340209961,151.1917724609375,-170.60049438476562,2.6281745433807373,-131.6895294189453,73.84992218017578,4.7964558601379395,138.4828643798828,24.627376556396484,114.08599090576172,-16.681447982788086,179.95327758789062,16.796253204345703,76.3406982421875,25.21164321899414,-81.90531158447266,-83.9477310180664,29.099746704101562,19.25031089782715,106.55976867675781,-40.19938659667969,75.01920318603516,47.53104019165039,78.88587188720703,-131.4598388671875,25.19936752319336,34.09344482421875,155.25704956054688,28.419296264648438,-65.24896240234375,-66.91685485839844,13.719395637512207,-14.167769432067871,-60.39350509643555,68.68852996826172,-144.1024627685547,-67.3404541015625,103.515625,-40.030311584472656,-114.6068344116211,16.68164825439453,-5.679347515106201,-90.27127075195312,87.51795959472656,76.90753936767578,123.18004608154297,-135.9451141357422,-147.46263122558594,-19.507598876953125,108.2580795288086,107.16060638427734,108.67406463623047,-67.82117462158203,122.36048889160156,-82.19090270996094,-25.53458023071289,-25.634916305541992,89.78562927246094,59.501224517822266,-56.43088150024414,-96.218505859375,-51.5859375],\"type\":\"scatter3d\"}],                        {\"template\":{\"data\":{\"histogram2dcontour\":[{\"type\":\"histogram2dcontour\",\"colorbar\":{\"outlinewidth\":0,\"ticks\":\"\"},\"colorscale\":[[0.0,\"#0d0887\"],[0.1111111111111111,\"#46039f\"],[0.2222222222222222,\"#7201a8\"],[0.3333333333333333,\"#9c179e\"],[0.4444444444444444,\"#bd3786\"],[0.5555555555555556,\"#d8576b\"],[0.6666666666666666,\"#ed7953\"],[0.7777777777777778,\"#fb9f3a\"],[0.8888888888888888,\"#fdca26\"],[1.0,\"#f0f921\"]]}],\"choropleth\":[{\"type\":\"choropleth\",\"colorbar\":{\"outlinewidth\":0,\"ticks\":\"\"}}],\"histogram2d\":[{\"type\":\"histogram2d\",\"colorbar\":{\"outlinewidth\":0,\"ticks\":\"\"},\"colorscale\":[[0.0,\"#0d0887\"],[0.1111111111111111,\"#46039f\"],[0.2222222222222222,\"#7201a8\"],[0.3333333333333333,\"#9c179e\"],[0.4444444444444444,\"#bd3786\"],[0.5555555555555556,\"#d8576b\"],[0.6666666666666666,\"#ed7953\"],[0.7777777777777778,\"#fb9f3a\"],[0.8888888888888888,\"#fdca26\"],[1.0,\"#f0f921\"]]}],\"heatmap\":[{\"type\":\"heatmap\",\"colorbar\":{\"outlinewidth\":0,\"ticks\":\"\"},\"colorscale\":[[0.0,\"#0d0887\"],[0.1111111111111111,\"#46039f\"],[0.2222222222222222,\"#7201a8\"],[0.3333333333333333,\"#9c179e\"],[0.4444444444444444,\"#bd3786\"],[0.5555555555555556,\"#d8576b\"],[0.6666666666666666,\"#ed7953\"],[0.7777777777777778,\"#fb9f3a\"],[0.8888888888888888,\"#fdca26\"],[1.0,\"#f0f921\"]]}],\"heatmapgl\":[{\"type\":\"heatmapgl\",\"colorbar\":{\"outlinewidth\":0,\"ticks\":\"\"},\"colorscale\":[[0.0,\"#0d0887\"],[0.1111111111111111,\"#46039f\"],[0.2222222222222222,\"#7201a8\"],[0.3333333333333333,\"#9c179e\"],[0.4444444444444444,\"#bd3786\"],[0.5555555555555556,\"#d8576b\"],[0.6666666666666666,\"#ed7953\"],[0.7777777777777778,\"#fb9f3a\"],[0.8888888888888888,\"#fdca26\"],[1.0,\"#f0f921\"]]}],\"contourcarpet\":[{\"type\":\"contourcarpet\",\"colorbar\":{\"outlinewidth\":0,\"ticks\":\"\"}}],\"contour\":[{\"type\":\"contour\",\"colorbar\":{\"outlinewidth\":0,\"ticks\":\"\"},\"colorscale\":[[0.0,\"#0d0887\"],[0.1111111111111111,\"#46039f\"],[0.2222222222222222,\"#7201a8\"],[0.3333333333333333,\"#9c179e\"],[0.4444444444444444,\"#bd3786\"],[0.5555555555555556,\"#d8576b\"],[0.6666666666666666,\"#ed7953\"],[0.7777777777777778,\"#fb9f3a\"],[0.8888888888888888,\"#fdca26\"],[1.0,\"#f0f921\"]]}],\"surface\":[{\"type\":\"surface\",\"colorbar\":{\"outlinewidth\":0,\"ticks\":\"\"},\"colorscale\":[[0.0,\"#0d0887\"],[0.1111111111111111,\"#46039f\"],[0.2222222222222222,\"#7201a8\"],[0.3333333333333333,\"#9c179e\"],[0.4444444444444444,\"#bd3786\"],[0.5555555555555556,\"#d8576b\"],[0.6666666666666666,\"#ed7953\"],[0.7777777777777778,\"#fb9f3a\"],[0.8888888888888888,\"#fdca26\"],[1.0,\"#f0f921\"]]}],\"mesh3d\":[{\"type\":\"mesh3d\",\"colorbar\":{\"outlinewidth\":0,\"ticks\":\"\"}}],\"scatter\":[{\"fillpattern\":{\"fillmode\":\"overlay\",\"size\":10,\"solidity\":0.2},\"type\":\"scatter\"}],\"parcoords\":[{\"type\":\"parcoords\",\"line\":{\"colorbar\":{\"outlinewidth\":0,\"ticks\":\"\"}}}],\"scatterpolargl\":[{\"type\":\"scatterpolargl\",\"marker\":{\"colorbar\":{\"outlinewidth\":0,\"ticks\":\"\"}}}],\"bar\":[{\"error_x\":{\"color\":\"#2a3f5f\"},\"error_y\":{\"color\":\"#2a3f5f\"},\"marker\":{\"line\":{\"color\":\"#E5ECF6\",\"width\":0.5},\"pattern\":{\"fillmode\":\"overlay\",\"size\":10,\"solidity\":0.2}},\"type\":\"bar\"}],\"scattergeo\":[{\"type\":\"scattergeo\",\"marker\":{\"colorbar\":{\"outlinewidth\":0,\"ticks\":\"\"}}}],\"scatterpolar\":[{\"type\":\"scatterpolar\",\"marker\":{\"colorbar\":{\"outlinewidth\":0,\"ticks\":\"\"}}}],\"histogram\":[{\"marker\":{\"pattern\":{\"fillmode\":\"overlay\",\"size\":10,\"solidity\":0.2}},\"type\":\"histogram\"}],\"scattergl\":[{\"type\":\"scattergl\",\"marker\":{\"colorbar\":{\"outlinewidth\":0,\"ticks\":\"\"}}}],\"scatter3d\":[{\"type\":\"scatter3d\",\"line\":{\"colorbar\":{\"outlinewidth\":0,\"ticks\":\"\"}},\"marker\":{\"colorbar\":{\"outlinewidth\":0,\"ticks\":\"\"}}}],\"scattermapbox\":[{\"type\":\"scattermapbox\",\"marker\":{\"colorbar\":{\"outlinewidth\":0,\"ticks\":\"\"}}}],\"scatterternary\":[{\"type\":\"scatterternary\",\"marker\":{\"colorbar\":{\"outlinewidth\":0,\"ticks\":\"\"}}}],\"scattercarpet\":[{\"type\":\"scattercarpet\",\"marker\":{\"colorbar\":{\"outlinewidth\":0,\"ticks\":\"\"}}}],\"carpet\":[{\"aaxis\":{\"endlinecolor\":\"#2a3f5f\",\"gridcolor\":\"white\",\"linecolor\":\"white\",\"minorgridcolor\":\"white\",\"startlinecolor\":\"#2a3f5f\"},\"baxis\":{\"endlinecolor\":\"#2a3f5f\",\"gridcolor\":\"white\",\"linecolor\":\"white\",\"minorgridcolor\":\"white\",\"startlinecolor\":\"#2a3f5f\"},\"type\":\"carpet\"}],\"table\":[{\"cells\":{\"fill\":{\"color\":\"#EBF0F8\"},\"line\":{\"color\":\"white\"}},\"header\":{\"fill\":{\"color\":\"#C8D4E3\"},\"line\":{\"color\":\"white\"}},\"type\":\"table\"}],\"barpolar\":[{\"marker\":{\"line\":{\"color\":\"#E5ECF6\",\"width\":0.5},\"pattern\":{\"fillmode\":\"overlay\",\"size\":10,\"solidity\":0.2}},\"type\":\"barpolar\"}],\"pie\":[{\"automargin\":true,\"type\":\"pie\"}]},\"layout\":{\"autotypenumbers\":\"strict\",\"colorway\":[\"#636efa\",\"#EF553B\",\"#00cc96\",\"#ab63fa\",\"#FFA15A\",\"#19d3f3\",\"#FF6692\",\"#B6E880\",\"#FF97FF\",\"#FECB52\"],\"font\":{\"color\":\"#2a3f5f\"},\"hovermode\":\"closest\",\"hoverlabel\":{\"align\":\"left\"},\"paper_bgcolor\":\"white\",\"plot_bgcolor\":\"#E5ECF6\",\"polar\":{\"bgcolor\":\"#E5ECF6\",\"angularaxis\":{\"gridcolor\":\"white\",\"linecolor\":\"white\",\"ticks\":\"\"},\"radialaxis\":{\"gridcolor\":\"white\",\"linecolor\":\"white\",\"ticks\":\"\"}},\"ternary\":{\"bgcolor\":\"#E5ECF6\",\"aaxis\":{\"gridcolor\":\"white\",\"linecolor\":\"white\",\"ticks\":\"\"},\"baxis\":{\"gridcolor\":\"white\",\"linecolor\":\"white\",\"ticks\":\"\"},\"caxis\":{\"gridcolor\":\"white\",\"linecolor\":\"white\",\"ticks\":\"\"}},\"coloraxis\":{\"colorbar\":{\"outlinewidth\":0,\"ticks\":\"\"}},\"colorscale\":{\"sequential\":[[0.0,\"#0d0887\"],[0.1111111111111111,\"#46039f\"],[0.2222222222222222,\"#7201a8\"],[0.3333333333333333,\"#9c179e\"],[0.4444444444444444,\"#bd3786\"],[0.5555555555555556,\"#d8576b\"],[0.6666666666666666,\"#ed7953\"],[0.7777777777777778,\"#fb9f3a\"],[0.8888888888888888,\"#fdca26\"],[1.0,\"#f0f921\"]],\"sequentialminus\":[[0.0,\"#0d0887\"],[0.1111111111111111,\"#46039f\"],[0.2222222222222222,\"#7201a8\"],[0.3333333333333333,\"#9c179e\"],[0.4444444444444444,\"#bd3786\"],[0.5555555555555556,\"#d8576b\"],[0.6666666666666666,\"#ed7953\"],[0.7777777777777778,\"#fb9f3a\"],[0.8888888888888888,\"#fdca26\"],[1.0,\"#f0f921\"]],\"diverging\":[[0,\"#8e0152\"],[0.1,\"#c51b7d\"],[0.2,\"#de77ae\"],[0.3,\"#f1b6da\"],[0.4,\"#fde0ef\"],[0.5,\"#f7f7f7\"],[0.6,\"#e6f5d0\"],[0.7,\"#b8e186\"],[0.8,\"#7fbc41\"],[0.9,\"#4d9221\"],[1,\"#276419\"]]},\"xaxis\":{\"gridcolor\":\"white\",\"linecolor\":\"white\",\"ticks\":\"\",\"title\":{\"standoff\":15},\"zerolinecolor\":\"white\",\"automargin\":true,\"zerolinewidth\":2},\"yaxis\":{\"gridcolor\":\"white\",\"linecolor\":\"white\",\"ticks\":\"\",\"title\":{\"standoff\":15},\"zerolinecolor\":\"white\",\"automargin\":true,\"zerolinewidth\":2},\"scene\":{\"xaxis\":{\"backgroundcolor\":\"#E5ECF6\",\"gridcolor\":\"white\",\"linecolor\":\"white\",\"showbackground\":true,\"ticks\":\"\",\"zerolinecolor\":\"white\",\"gridwidth\":2},\"yaxis\":{\"backgroundcolor\":\"#E5ECF6\",\"gridcolor\":\"white\",\"linecolor\":\"white\",\"showbackground\":true,\"ticks\":\"\",\"zerolinecolor\":\"white\",\"gridwidth\":2},\"zaxis\":{\"backgroundcolor\":\"#E5ECF6\",\"gridcolor\":\"white\",\"linecolor\":\"white\",\"showbackground\":true,\"ticks\":\"\",\"zerolinecolor\":\"white\",\"gridwidth\":2}},\"shapedefaults\":{\"line\":{\"color\":\"#2a3f5f\"}},\"annotationdefaults\":{\"arrowcolor\":\"#2a3f5f\",\"arrowhead\":0,\"arrowwidth\":1},\"geo\":{\"bgcolor\":\"white\",\"landcolor\":\"#E5ECF6\",\"subunitcolor\":\"white\",\"showland\":true,\"showlakes\":true,\"lakecolor\":\"white\"},\"title\":{\"x\":0.05},\"mapbox\":{\"style\":\"light\"}}},\"margin\":{\"l\":0,\"r\":0,\"b\":0,\"t\":80},\"title\":{\"text\":\"Visualized Area of Improvement for Popular Restaurants in New York City using t-SNE\"}},                        {\"responsive\": true}                    ).then(function(){\n",
       "                            \n",
       "var gd = document.getElementById('0d8a9131-a9e8-4fb5-acb5-bfcc77f81107');\n",
       "var x = new MutationObserver(function (mutations, observer) {{\n",
       "        var display = window.getComputedStyle(gd).display;\n",
       "        if (!display || display === 'none') {{\n",
       "            console.log([gd, 'removed!']);\n",
       "            Plotly.purge(gd);\n",
       "            observer.disconnect();\n",
       "        }}\n",
       "}});\n",
       "\n",
       "// Listen for the removal of the full notebook cells\n",
       "var notebookContainer = gd.closest('#notebook-container');\n",
       "if (notebookContainer) {{\n",
       "    x.observe(notebookContainer, {childList: true});\n",
       "}}\n",
       "\n",
       "// Listen for the clearing of the current output cell\n",
       "var outputEl = gd.closest('.output');\n",
       "if (outputEl) {{\n",
       "    x.observe(outputEl, {childList: true});\n",
       "}}\n",
       "\n",
       "                        })                };                });            </script>        </div>"
      ]
     },
     "metadata": {},
     "output_type": "display_data"
    }
   ],
   "source": [
    "tsne = TSNE(n_components=3, perplexity=30, random_state=32, init='random', learning_rate=200)\n",
    "vis_dims = tsne.fit_transform(matrix)\n",
    "\n",
    "x = [x for x, y, z in vis_dims]\n",
    "y = [y for x, y, z in vis_dims]\n",
    "z = [z for x, y, z in vis_dims]\n",
    "\n",
    "color_indices = result_df.adjusted_AI_Cluster.values\n",
    "colors = [\"red\", \"blue\", \"green\", \"yellow\", \"orange\", \"purple\", \"pink\", \"brown\", \"gray\", \"cyan\"]\n",
    "\n",
    "fig = go.Figure(data=[go.Scatter3d(\n",
    "    x=x,\n",
    "    y=y,\n",
    "    z=z,\n",
    "    mode='markers',\n",
    "    marker=dict(\n",
    "        size=6,\n",
    "        color=color_indices,                # set color to an array/list of desired values\n",
    "        colorscale=colors,   # choose a colorscale\n",
    "        opacity=0.8\n",
    "    ),\n",
    "    text= result_df[\"Name\"] + ' : ' + result_df[\"Area_for_Improvement_Keywords\"],  # this line sets the hover text\n",
    "    hoverinfo='text'  # this line ensures that only the text appears on hover\n",
    ")])\n",
    "\n",
    "fig.update_layout(\n",
    "    title=\"Visualized Area of Improvement for Popular Restaurants in New York City using t-SNE\",\n",
    "    margin=dict(l=0, r=0, b=0, t=80)\n",
    ")\n",
    "\n",
    "fig.show()\n"
   ]
  },
  {
   "cell_type": "code",
   "execution_count": 204,
   "id": "8a728262",
   "metadata": {},
   "outputs": [
    {
     "data": {
      "text/html": [
       "<div>\n",
       "<style scoped>\n",
       "    .dataframe tbody tr th:only-of-type {\n",
       "        vertical-align: middle;\n",
       "    }\n",
       "\n",
       "    .dataframe tbody tr th {\n",
       "        vertical-align: top;\n",
       "    }\n",
       "\n",
       "    .dataframe thead th {\n",
       "        text-align: right;\n",
       "    }\n",
       "</style>\n",
       "<table border=\"1\" class=\"dataframe\">\n",
       "  <thead>\n",
       "    <tr style=\"text-align: right;\">\n",
       "      <th></th>\n",
       "      <th>Area for Imporvment</th>\n",
       "      <th># of Restaurants</th>\n",
       "    </tr>\n",
       "  </thead>\n",
       "  <tbody>\n",
       "    <tr>\n",
       "      <th>0</th>\n",
       "      <td>Consistency, Service</td>\n",
       "      <td>56</td>\n",
       "    </tr>\n",
       "    <tr>\n",
       "      <th>1</th>\n",
       "      <td>lacking flavor, slow service</td>\n",
       "      <td>39</td>\n",
       "    </tr>\n",
       "    <tr>\n",
       "      <th>2</th>\n",
       "      <td>High prices, small portions</td>\n",
       "      <td>27</td>\n",
       "    </tr>\n",
       "    <tr>\n",
       "      <th>3</th>\n",
       "      <td>Long wait times, inconsistent food</td>\n",
       "      <td>24</td>\n",
       "    </tr>\n",
       "    <tr>\n",
       "      <th>4</th>\n",
       "      <td>Portions and space.</td>\n",
       "      <td>22</td>\n",
       "    </tr>\n",
       "    <tr>\n",
       "      <th>5</th>\n",
       "      <td>Cocktails, Dessert.</td>\n",
       "      <td>17</td>\n",
       "    </tr>\n",
       "    <tr>\n",
       "      <th>6</th>\n",
       "      <td>No areas for improvement mentioned.</td>\n",
       "      <td>16</td>\n",
       "    </tr>\n",
       "    <tr>\n",
       "      <th>7</th>\n",
       "      <td>Limited selection. Quality of food.</td>\n",
       "      <td>11</td>\n",
       "    </tr>\n",
       "  </tbody>\n",
       "</table>\n",
       "</div>"
      ],
      "text/plain": [
       "                   Area for Imporvment  # of Restaurants\n",
       "0                 Consistency, Service                56\n",
       "1         lacking flavor, slow service                39\n",
       "2          High prices, small portions                27\n",
       "3   Long wait times, inconsistent food                24\n",
       "4                  Portions and space.                22\n",
       "5                  Cocktails, Dessert.                17\n",
       "6  No areas for improvement mentioned.                16\n",
       "7  Limited selection. Quality of food.                11"
      ]
     },
     "execution_count": 204,
     "metadata": {},
     "output_type": "execute_result"
    }
   ],
   "source": [
    "# cluster_summary = result_df['adjusted_AI_Cluster'].value_counts().reset_index()\n",
    "cluster_summary = (result_df[[\"Area_for_Improvement_Keywords\",\"Name\" ]]\n",
    "                   .groupby([\"Area_for_Improvement_Keywords\" ])\n",
    "                   .count()\n",
    "                   .sort_values(\"Name\", ascending = False)\n",
    "                   .reset_index()\n",
    "                  )\n",
    "\n",
    "cluster_summary.columns = [\"Area for Imporvment\",\"# of Restaurants\"]\n",
    "cluster_summary"
   ]
  },
  {
   "cell_type": "markdown",
   "id": "3b1b03d5",
   "metadata": {},
   "source": [
    "# Find the most Similar  Restaurant"
   ]
  },
  {
   "cell_type": "code",
   "execution_count": 245,
   "id": "4e3b8b4a",
   "metadata": {},
   "outputs": [],
   "source": [
    "def find_closest_restaurant(Name, embedding_type,df):\n",
    "\n",
    "    type_column_dict = {\"Overall\" :\"Overall Summary of the Restaurant\" , \n",
    "                        \"Dish\" : \"Specialty Dishes\", \n",
    "                        \"Strength\" : \"Strengths of the Restaurant\",\n",
    "                        \"Shortcoming\" : \"Areas for Improvement\"}\n",
    "    \n",
    "    embedding_column_dict = {\"Overall\" :\"OS_embedding\" , \n",
    "                        \"Dish\" : \"SD_embedding\", \n",
    "                        \"Strength\" : \"ST_embedding\",\n",
    "                        \"Shortcoming\" : \"AI_embedding\"}\n",
    "    \n",
    "    embeding_column = embedding_column_dict[embedding_type]\n",
    "    text_column = type_column_dict[embedding_type]\n",
    "    \n",
    "\n",
    "    values = df.loc[df['Name'] == Name, embeding_column].values\n",
    "\n",
    "    if values.size == 0:\n",
    "        raise ValueError(f\"No rows found with Name {Name}\")\n",
    "\n",
    "    res_embedding =  values[0]\n",
    "    \n",
    "    tmp_df = df[df[\"Name\"] != Name]\n",
    "    tmp_df = tmp_df[tmp_df[text_column]!= \"Not Available\" ]\n",
    "    \n",
    "    \n",
    "    vec = np.array(res_embedding)\n",
    "    list_vec = np.vstack(tmp_df[embeding_column].values)\n",
    "    \n",
    "    # Calculate the Euclidean distance between vec and each vector in list_vec\n",
    "    distances = np.linalg.norm(list_vec - vec, axis=1)\n",
    "    \n",
    "    # Get the index of the smallest distance\n",
    "    index = np.argmin(distances)\n",
    "    \n",
    "    # Return the closest merchant name with the category and \n",
    "    text = df[\"Name\"].iloc[index] + \"(\" + df[\"category\"].iloc[index] + \")\\n\" + df[text_column].iloc[index]\n",
    "\n",
    "    return text\n",
    "\n"
   ]
  },
  {
   "cell_type": "code",
   "execution_count": 246,
   "id": "9f1ab5ac",
   "metadata": {},
   "outputs": [
    {
     "name": "stdout",
     "output_type": "stream",
     "text": [
      "Salinas(Spanish)\n",
      "Salinas is a Spanish fine dining restaurant with a beautiful ambiance and excellent service. The restaurant specializes in a variety of dishes, including rice paella, squid ink croquets, and steak. The seafood rice, smoked salt cod on toast, bravas with caviar, beetroot with anchovies, and Basque cheesecake are also highly recommended. The restaurant has knowledgeable staff and great bartenders who make amazing cocktails. Some customers have mentioned issues with plating and wobbly tables, but overall, Salinas is a great place for a special occasion or a nice evening out.\n"
     ]
    }
   ],
   "source": [
    "result = find_closest_restaurant('Don Angie', \"Overall\",result_df)\n",
    "print(result)"
   ]
  },
  {
   "cell_type": "code",
   "execution_count": 247,
   "id": "a72b511c",
   "metadata": {},
   "outputs": [
    {
     "name": "stdout",
     "output_type": "stream",
     "text": [
      "Blue Haven-West Village(American)\n",
      "General Tso Cauliflower, wings, and chicken tenders\n"
     ]
    }
   ],
   "source": [
    "result2 = find_closest_restaurant('Don Angie', \"Dish\",result_df)\n",
    "print(result2)"
   ]
  },
  {
   "cell_type": "code",
   "execution_count": 248,
   "id": "967b1c2e",
   "metadata": {},
   "outputs": [
    {
     "name": "stdout",
     "output_type": "stream",
     "text": [
      "Ploo(Mexican)\n",
      "High-quality ingredients, flavorful and inventive dishes, attentive and friendly staff, welcoming and modern atmosphere\n"
     ]
    }
   ],
   "source": [
    "result3 = find_closest_restaurant('Don Angie',\"Strength\",result_df)\n",
    "print(result3)"
   ]
  },
  {
   "cell_type": "code",
   "execution_count": 250,
   "id": "1a3611ec",
   "metadata": {},
   "outputs": [
    {
     "name": "stdout",
     "output_type": "stream",
     "text": [
      "Sushi Seki Chelsea(Sushi)\n",
      "None mentioned in the reviews\n"
     ]
    }
   ],
   "source": [
    "result4 = find_closest_restaurant('Don Angie',\"Shortcoming\" ,result_df)\n",
    "print(result4)"
   ]
  }
 ],
 "metadata": {
  "kernelspec": {
   "display_name": "Python 3 (ipykernel)",
   "language": "python",
   "name": "python3"
  },
  "language_info": {
   "codemirror_mode": {
    "name": "ipython",
    "version": 3
   },
   "file_extension": ".py",
   "mimetype": "text/x-python",
   "name": "python",
   "nbconvert_exporter": "python",
   "pygments_lexer": "ipython3",
   "version": "3.7.10"
  }
 },
 "nbformat": 4,
 "nbformat_minor": 5
}
