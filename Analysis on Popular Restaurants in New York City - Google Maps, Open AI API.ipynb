{
 "cells": [
  {
   "cell_type": "code",
   "execution_count": 1,
   "id": "024aa02e",
   "metadata": {
    "scrolled": true
   },
   "outputs": [
    {
     "name": "stderr",
     "output_type": "stream",
     "text": [
      "/Users/jae/.pyenv/versions/3.7.10/lib/python3.7/site-packages/pandas/compat/__init__.py:124: UserWarning: Could not import the lzma module. Your installed Python is incomplete. Attempting to use lzma compression will result in a RuntimeError.\n",
      "  warnings.warn(msg)\n"
     ]
    }
   ],
   "source": [
    "import time\n",
    "import pandas as pd\n",
    "import requests\n",
    "import json\n",
    "from tqdm import tqdm\n",
    "tqdm.pandas()\n",
    "\n",
    "from tenacity import retry, wait_random_exponential, stop_after_attempt\n",
    "\n",
    "import re\n",
    "import ast"
   ]
  },
  {
   "cell_type": "code",
   "execution_count": 3,
   "id": "02419392",
   "metadata": {},
   "outputs": [],
   "source": [
    "df = pd.read_csv(\"Top Rated Popular Restaurants in New York City.csv\")\n",
    "df = df.drop_duplicates()"
   ]
  },
  {
   "cell_type": "code",
   "execution_count": 5,
   "id": "020ba6ee",
   "metadata": {},
   "outputs": [
    {
     "data": {
      "text/html": [
       "<div>\n",
       "<style scoped>\n",
       "    .dataframe tbody tr th:only-of-type {\n",
       "        vertical-align: middle;\n",
       "    }\n",
       "\n",
       "    .dataframe tbody tr th {\n",
       "        vertical-align: top;\n",
       "    }\n",
       "\n",
       "    .dataframe thead th {\n",
       "        text-align: right;\n",
       "    }\n",
       "</style>\n",
       "<table border=\"1\" class=\"dataframe\">\n",
       "  <thead>\n",
       "    <tr style=\"text-align: right;\">\n",
       "      <th></th>\n",
       "      <th>Name</th>\n",
       "      <th>category</th>\n",
       "    </tr>\n",
       "  </thead>\n",
       "  <tbody>\n",
       "    <tr>\n",
       "      <th>0</th>\n",
       "      <td>Foxface Natural</td>\n",
       "      <td>New American</td>\n",
       "    </tr>\n",
       "    <tr>\n",
       "      <th>1</th>\n",
       "      <td>The Golden Swan</td>\n",
       "      <td>New American</td>\n",
       "    </tr>\n",
       "    <tr>\n",
       "      <th>2</th>\n",
       "      <td>Misipasta x Governors Island</td>\n",
       "      <td>Italian</td>\n",
       "    </tr>\n",
       "    <tr>\n",
       "      <th>3</th>\n",
       "      <td>Barbalu - Brooklyn</td>\n",
       "      <td>Italian</td>\n",
       "    </tr>\n",
       "    <tr>\n",
       "      <th>4</th>\n",
       "      <td>Number One Caviar Boutique</td>\n",
       "      <td>American</td>\n",
       "    </tr>\n",
       "  </tbody>\n",
       "</table>\n",
       "</div>"
      ],
      "text/plain": [
       "                           Name      category\n",
       "0               Foxface Natural  New American\n",
       "1               The Golden Swan  New American\n",
       "2  Misipasta x Governors Island       Italian\n",
       "3            Barbalu - Brooklyn       Italian\n",
       "4    Number One Caviar Boutique      American"
      ]
     },
     "execution_count": 5,
     "metadata": {},
     "output_type": "execute_result"
    }
   ],
   "source": [
    "df.head()"
   ]
  },
  {
   "cell_type": "code",
   "execution_count": 4,
   "id": "a86c6b08",
   "metadata": {
    "scrolled": true
   },
   "outputs": [
    {
     "data": {
      "text/html": [
       "<div>\n",
       "<style scoped>\n",
       "    .dataframe tbody tr th:only-of-type {\n",
       "        vertical-align: middle;\n",
       "    }\n",
       "\n",
       "    .dataframe tbody tr th {\n",
       "        vertical-align: top;\n",
       "    }\n",
       "\n",
       "    .dataframe thead th {\n",
       "        text-align: right;\n",
       "    }\n",
       "</style>\n",
       "<table border=\"1\" class=\"dataframe\">\n",
       "  <thead>\n",
       "    <tr style=\"text-align: right;\">\n",
       "      <th></th>\n",
       "      <th>category</th>\n",
       "      <th>Name</th>\n",
       "    </tr>\n",
       "  </thead>\n",
       "  <tbody>\n",
       "    <tr>\n",
       "      <th>18</th>\n",
       "      <td>Italian</td>\n",
       "      <td>39</td>\n",
       "    </tr>\n",
       "    <tr>\n",
       "      <th>0</th>\n",
       "      <td>American</td>\n",
       "      <td>32</td>\n",
       "    </tr>\n",
       "    <tr>\n",
       "      <th>40</th>\n",
       "      <td>Sushi</td>\n",
       "      <td>20</td>\n",
       "    </tr>\n",
       "    <tr>\n",
       "      <th>20</th>\n",
       "      <td>Japanese</td>\n",
       "      <td>16</td>\n",
       "    </tr>\n",
       "    <tr>\n",
       "      <th>12</th>\n",
       "      <td>French</td>\n",
       "      <td>15</td>\n",
       "    </tr>\n",
       "    <tr>\n",
       "      <th>31</th>\n",
       "      <td>New American</td>\n",
       "      <td>10</td>\n",
       "    </tr>\n",
       "    <tr>\n",
       "      <th>22</th>\n",
       "      <td>Korean</td>\n",
       "      <td>9</td>\n",
       "    </tr>\n",
       "    <tr>\n",
       "      <th>35</th>\n",
       "      <td>Seafood</td>\n",
       "      <td>9</td>\n",
       "    </tr>\n",
       "    <tr>\n",
       "      <th>6</th>\n",
       "      <td>Cocktail Bar</td>\n",
       "      <td>6</td>\n",
       "    </tr>\n",
       "    <tr>\n",
       "      <th>25</th>\n",
       "      <td>Mediterranean</td>\n",
       "      <td>6</td>\n",
       "    </tr>\n",
       "    <tr>\n",
       "      <th>7</th>\n",
       "      <td>Contemporary American</td>\n",
       "      <td>4</td>\n",
       "    </tr>\n",
       "    <tr>\n",
       "      <th>33</th>\n",
       "      <td>Pizza</td>\n",
       "      <td>4</td>\n",
       "    </tr>\n",
       "    <tr>\n",
       "      <th>43</th>\n",
       "      <td>Thai</td>\n",
       "      <td>3</td>\n",
       "    </tr>\n",
       "    <tr>\n",
       "      <th>38</th>\n",
       "      <td>Spanish</td>\n",
       "      <td>2</td>\n",
       "    </tr>\n",
       "    <tr>\n",
       "      <th>36</th>\n",
       "      <td>Southeast Asian</td>\n",
       "      <td>2</td>\n",
       "    </tr>\n",
       "    <tr>\n",
       "      <th>27</th>\n",
       "      <td>Middle Eastern</td>\n",
       "      <td>2</td>\n",
       "    </tr>\n",
       "    <tr>\n",
       "      <th>26</th>\n",
       "      <td>Mexican</td>\n",
       "      <td>2</td>\n",
       "    </tr>\n",
       "    <tr>\n",
       "      <th>48</th>\n",
       "      <td>Wine</td>\n",
       "      <td>2</td>\n",
       "    </tr>\n",
       "    <tr>\n",
       "      <th>14</th>\n",
       "      <td>Gastropub</td>\n",
       "      <td>2</td>\n",
       "    </tr>\n",
       "    <tr>\n",
       "      <th>3</th>\n",
       "      <td>Asian American</td>\n",
       "      <td>2</td>\n",
       "    </tr>\n",
       "    <tr>\n",
       "      <th>5</th>\n",
       "      <td>Chinese</td>\n",
       "      <td>2</td>\n",
       "    </tr>\n",
       "    <tr>\n",
       "      <th>17</th>\n",
       "      <td>Israeli</td>\n",
       "      <td>1</td>\n",
       "    </tr>\n",
       "    <tr>\n",
       "      <th>34</th>\n",
       "      <td>Portuguese</td>\n",
       "      <td>1</td>\n",
       "    </tr>\n",
       "    <tr>\n",
       "      <th>47</th>\n",
       "      <td>Vietnamese</td>\n",
       "      <td>1</td>\n",
       "    </tr>\n",
       "    <tr>\n",
       "      <th>46</th>\n",
       "      <td>Vegetarian</td>\n",
       "      <td>1</td>\n",
       "    </tr>\n",
       "    <tr>\n",
       "      <th>45</th>\n",
       "      <td>Vegan &amp; Plant-based</td>\n",
       "      <td>1</td>\n",
       "    </tr>\n",
       "    <tr>\n",
       "      <th>44</th>\n",
       "      <td>Vegan</td>\n",
       "      <td>1</td>\n",
       "    </tr>\n",
       "    <tr>\n",
       "      <th>2</th>\n",
       "      <td>Asian</td>\n",
       "      <td>1</td>\n",
       "    </tr>\n",
       "    <tr>\n",
       "      <th>42</th>\n",
       "      <td>Tapas</td>\n",
       "      <td>1</td>\n",
       "    </tr>\n",
       "    <tr>\n",
       "      <th>41</th>\n",
       "      <td>Szechuan</td>\n",
       "      <td>1</td>\n",
       "    </tr>\n",
       "    <tr>\n",
       "      <th>39</th>\n",
       "      <td>Steakhouse</td>\n",
       "      <td>1</td>\n",
       "    </tr>\n",
       "    <tr>\n",
       "      <th>4</th>\n",
       "      <td>Breakfast</td>\n",
       "      <td>1</td>\n",
       "    </tr>\n",
       "    <tr>\n",
       "      <th>37</th>\n",
       "      <td>Southwest</td>\n",
       "      <td>1</td>\n",
       "    </tr>\n",
       "    <tr>\n",
       "      <th>8</th>\n",
       "      <td>Drinks and Snacks</td>\n",
       "      <td>1</td>\n",
       "    </tr>\n",
       "    <tr>\n",
       "      <th>9</th>\n",
       "      <td>European</td>\n",
       "      <td>1</td>\n",
       "    </tr>\n",
       "    <tr>\n",
       "      <th>19</th>\n",
       "      <td>Italian American</td>\n",
       "      <td>1</td>\n",
       "    </tr>\n",
       "    <tr>\n",
       "      <th>32</th>\n",
       "      <td>Persian</td>\n",
       "      <td>1</td>\n",
       "    </tr>\n",
       "    <tr>\n",
       "      <th>10</th>\n",
       "      <td>Experimental</td>\n",
       "      <td>1</td>\n",
       "    </tr>\n",
       "    <tr>\n",
       "      <th>30</th>\n",
       "      <td>Natural Wine</td>\n",
       "      <td>1</td>\n",
       "    </tr>\n",
       "    <tr>\n",
       "      <th>29</th>\n",
       "      <td>Modern Latin</td>\n",
       "      <td>1</td>\n",
       "    </tr>\n",
       "    <tr>\n",
       "      <th>28</th>\n",
       "      <td>Modern British</td>\n",
       "      <td>1</td>\n",
       "    </tr>\n",
       "    <tr>\n",
       "      <th>11</th>\n",
       "      <td>Farm to Table</td>\n",
       "      <td>1</td>\n",
       "    </tr>\n",
       "    <tr>\n",
       "      <th>13</th>\n",
       "      <td>French-American and Japanese</td>\n",
       "      <td>1</td>\n",
       "    </tr>\n",
       "    <tr>\n",
       "      <th>1</th>\n",
       "      <td>Argentinean</td>\n",
       "      <td>1</td>\n",
       "    </tr>\n",
       "    <tr>\n",
       "      <th>23</th>\n",
       "      <td>Lebanese</td>\n",
       "      <td>1</td>\n",
       "    </tr>\n",
       "    <tr>\n",
       "      <th>15</th>\n",
       "      <td>Georgian</td>\n",
       "      <td>1</td>\n",
       "    </tr>\n",
       "    <tr>\n",
       "      <th>21</th>\n",
       "      <td>Jewish</td>\n",
       "      <td>1</td>\n",
       "    </tr>\n",
       "    <tr>\n",
       "      <th>16</th>\n",
       "      <td>Irish</td>\n",
       "      <td>1</td>\n",
       "    </tr>\n",
       "    <tr>\n",
       "      <th>24</th>\n",
       "      <td>Local</td>\n",
       "      <td>1</td>\n",
       "    </tr>\n",
       "  </tbody>\n",
       "</table>\n",
       "</div>"
      ],
      "text/plain": [
       "                        category  Name\n",
       "18                       Italian    39\n",
       "0                       American    32\n",
       "40                         Sushi    20\n",
       "20                      Japanese    16\n",
       "12                        French    15\n",
       "31                  New American    10\n",
       "22                        Korean     9\n",
       "35                       Seafood     9\n",
       "6                   Cocktail Bar     6\n",
       "25                 Mediterranean     6\n",
       "7          Contemporary American     4\n",
       "33                         Pizza     4\n",
       "43                          Thai     3\n",
       "38                       Spanish     2\n",
       "36               Southeast Asian     2\n",
       "27                Middle Eastern     2\n",
       "26                       Mexican     2\n",
       "48                          Wine     2\n",
       "14                     Gastropub     2\n",
       "3                 Asian American     2\n",
       "5                        Chinese     2\n",
       "17                       Israeli     1\n",
       "34                    Portuguese     1\n",
       "47                    Vietnamese     1\n",
       "46                    Vegetarian     1\n",
       "45           Vegan & Plant-based     1\n",
       "44                         Vegan     1\n",
       "2                          Asian     1\n",
       "42                         Tapas     1\n",
       "41                      Szechuan     1\n",
       "39                    Steakhouse     1\n",
       "4                      Breakfast     1\n",
       "37                     Southwest     1\n",
       "8              Drinks and Snacks     1\n",
       "9                       European     1\n",
       "19              Italian American     1\n",
       "32                       Persian     1\n",
       "10                  Experimental     1\n",
       "30                  Natural Wine     1\n",
       "29                  Modern Latin     1\n",
       "28                Modern British     1\n",
       "11                 Farm to Table     1\n",
       "13  French-American and Japanese     1\n",
       "1                    Argentinean     1\n",
       "23                      Lebanese     1\n",
       "15                      Georgian     1\n",
       "21                        Jewish     1\n",
       "16                         Irish     1\n",
       "24                         Local     1"
      ]
     },
     "execution_count": 4,
     "metadata": {},
     "output_type": "execute_result"
    }
   ],
   "source": [
    "(df.groupby(\"category\")\n",
    " .count()\n",
    " .reset_index()\n",
    " .sort_values(\"Name\", ascending = False)\n",
    ")"
   ]
  },
  {
   "cell_type": "code",
   "execution_count": 6,
   "id": "bcaee295",
   "metadata": {},
   "outputs": [],
   "source": [
    "def getPlaceId(place):\n",
    "    endpoint_url = \"https://maps.googleapis.com/maps/api/place/autocomplete/json\"\n",
    "    params = {\n",
    "        \"input\": place,\n",
    "        'location': '40.7488%2C-73.9893',\n",
    "        'radius': '5000',\n",
    "        'key': google_maps_api_key\n",
    "    }\n",
    "\n",
    "    res = requests.get(endpoint_url, params=params)\n",
    "    results =  json.loads(res.content)\n",
    "    \n",
    "    related_ls = ['bakery', 'bar', 'cafe', 'meal_delivery', 'meal_takeaway', 'restaurant']\n",
    "    \n",
    "    if len(results['predictions']) > 0:\n",
    "        res_related_result = [x for x in results['predictions'] if any(k in str(x['types']) for k in related_ls)]\n",
    "                  \n",
    "        if len(res_related_result) > 0:\n",
    "            return res_related_result[0][\"place_id\"]\n",
    "        else:\n",
    "            return \"No results\"\n",
    "    else:\n",
    "        return \"No results\"\n",
    "    \n",
    "    \n",
    "def getPlacedetail(placeId):\n",
    "    endpoint_url = \"https://maps.googleapis.com/maps/api/place/details/json\"\n",
    "    params = {\n",
    "        \"placeid\": placeId,\n",
    "        'key': google_maps_api_key\n",
    "    }\n",
    "\n",
    "    res = requests.get(endpoint_url, params=params)\n",
    "    results =  json.loads(res.content)\n",
    "    \n",
    "    params2 = {\n",
    "        \"placeid\": placeId,\n",
    "        'reviews_sort' : 'newest',\n",
    "        'key': google_maps_api_key\n",
    "    }\n",
    "\n",
    "    res2 = requests.get(endpoint_url, params=params2)\n",
    "    results2 =  json.loads(res2.content)\n",
    "        \n",
    "    results_ls = [results, results2]\n",
    "    \n",
    "    return results_ls\n",
    "\n"
   ]
  },
  {
   "cell_type": "code",
   "execution_count": 76,
   "id": "cf161850",
   "metadata": {},
   "outputs": [
    {
     "name": "stderr",
     "output_type": "stream",
     "text": [
      "100%|█████████████████████████████████████████| 708/708 [04:27<00:00,  2.65it/s]\n"
     ]
    }
   ],
   "source": [
    "res_dict = {}\n",
    "for place in tqdm(df[\"Name\"]) : \n",
    "    placeId = getPlaceId(place)\n",
    "    result = getPlacedetail(placeId)\n",
    "    res_dict.update({place: {placeId:result} }) "
   ]
  },
  {
   "cell_type": "code",
   "execution_count": 75,
   "id": "164e98ab",
   "metadata": {},
   "outputs": [],
   "source": [
    "def return_dict_value(dict_, key ):\n",
    "    if key in dict_.keys():\n",
    "        return dict_[key]\n",
    "    else :\n",
    "        return 'NA'\n",
    "    \n",
    "def return_dict_value_tk(dict_, key, key2 ):\n",
    "    if key in dict_.keys():\n",
    "        if key2 in dict_[key].keys():\n",
    "            return dict_[key][key2]\n",
    "        else : \n",
    "            return 'NA'\n",
    "    else :\n",
    "        return 'NA'"
   ]
  },
  {
   "cell_type": "code",
   "execution_count": 88,
   "id": "637c5f84",
   "metadata": {},
   "outputs": [],
   "source": [
    "df_ls = []\n",
    "df_dict = {}\n",
    "for key in res_dict.keys():\n",
    "    \n",
    "    if list(res_dict[key].keys())[0] == \"No results\":\n",
    "        continue\n",
    "    \n",
    "    placeId  =  list(res_dict[key].keys())[0]\n",
    "    result_r = res_dict[key][placeId ][0]['result']\n",
    "    result_n = res_dict[key][placeId ][1]['result']\n",
    "    \n",
    "    \n",
    "    review_ls = []\n",
    "    if 'reviews' in   result_r.keys():\n",
    "        review_ls = [{'review' : review['text'] , \n",
    "                     'rating' : review['rating'],\n",
    "                      'author_url' : review['author_url'] } \n",
    "                     for review in result_r['reviews'] ]\n",
    "    \n",
    "    if 'reviews' in   result_n.keys():\n",
    "        review_ls.extend([{'review' : review['text'] , \n",
    "                             'rating' : review['rating'],\n",
    "                              'author_url' : review['author_url'] } \n",
    "                            for review in result_n['reviews'] ]\n",
    "                        )\n",
    "    \n",
    "    tmp_dict = {\"Name\" : key, \n",
    "               \"placeId \": placeId ,\n",
    "               'weekday_text' : return_dict_value_tk(result_r,'current_opening_hours','weekday_text'),\n",
    "                'dine_in' :  return_dict_value(result_r,'dine_in'),\n",
    "                'formatted_address' :  return_dict_value(result_r,'formatted_address'),\n",
    "                'geometry': {'lat': result_r['geometry']['location']['lat'],\n",
    "                             'lng' : result_r['geometry']['location']['lng']},\n",
    "                'photos' :  return_dict_value(result_r,'photos'),\n",
    "                'rating' : return_dict_value(result_r,'rating'),\n",
    "                'reservable':  return_dict_value(result_r,'reservable'),\n",
    "                'serves_wine': return_dict_value(result_r,'serves_wine'),\n",
    "                 'takeout': return_dict_value(result_r,'takeout'),\n",
    "                'types': return_dict_value(result_r, 'types'),\n",
    "                'user_ratings_total': return_dict_value(result_r,'user_ratings_total'),\n",
    "                 'website':  return_dict_value(result_r,'website'),\n",
    "                'reviews': review_ls\n",
    "               }\n",
    "    \n",
    "    df_ls.append(tmp_dict)\n",
    "    df_dict.update({key : tmp_dict})\n",
    "    \n",
    "    "
   ]
  },
  {
   "cell_type": "code",
   "execution_count": 91,
   "id": "fe2754f1",
   "metadata": {},
   "outputs": [],
   "source": [
    "df_w_gm = pd.DataFrame(df_ls)"
   ]
  },
  {
   "cell_type": "code",
   "execution_count": 11,
   "id": "aa2009cd",
   "metadata": {},
   "outputs": [],
   "source": [
    "import openai\n",
    "from openai.embeddings_utils import get_embedding\n",
    "\n",
    "openai.api_key = OPENAI_API_KEY"
   ]
  },
  {
   "cell_type": "code",
   "execution_count": 20,
   "id": "045ba3f1",
   "metadata": {
    "scrolled": true
   },
   "outputs": [],
   "source": [
    "GPT_MODEL =\"gpt-3.5-turbo\"\n",
    "\n",
    "@retry(wait=wait_random_exponential(min=1, max=40), stop=stop_after_attempt(3))\n",
    "def chat_completion_request(messages, functions=None, model=GPT_MODEL):\n",
    "    headers = {\n",
    "        \"Content-Type\": \"application/json\",\n",
    "        \"Authorization\": \"Bearer \" + openai.api_key,\n",
    "    }\n",
    "    json_data = {\"model\": model, \"messages\": messages, 'temperature':0}\n",
    "    if functions is not None:\n",
    "        json_data.update({\"functions\": functions})\n",
    "    try:\n",
    "        response = requests.post(\n",
    "            \"https://api.openai.com/v1/chat/completions\",\n",
    "            headers=headers,\n",
    "            json=json_data,\n",
    "        )\n",
    "        return response\n",
    "    except Exception as e:\n",
    "        print(\"Unable to generate ChatCompletion response\")\n",
    "        print(f\"Exception: {e}\")\n",
    "        return e\n",
    "    \n",
    "    \n",
    "class Conversation:\n",
    "    def __init__(self):\n",
    "        self.conversation_history = []\n",
    "\n",
    "    def add_message(self, role, content):\n",
    "        message = {\"role\": role, \"content\": content}\n",
    "        self.conversation_history.append(message)\n",
    "\n",
    "    def display_conversation(self, detailed=False):\n",
    "        role_to_color = {\n",
    "            \"system\": \"red\",\n",
    "            \"user\": \"green\",\n",
    "            \"assistant\": \"blue\",\n",
    "            \"function\": \"magenta\",\n",
    "        }\n",
    "        for message in self.conversation_history:\n",
    "            print(\n",
    "                colored(\n",
    "                    f\"{message['role']}: {message['content']}\\n\\n\",\n",
    "                    role_to_color[message[\"role\"]],\n",
    "                )\n",
    "            )\n",
    "            \n"
   ]
  },
  {
   "cell_type": "code",
   "execution_count": 118,
   "id": "469bd287",
   "metadata": {},
   "outputs": [],
   "source": [
    "def process_chat_response(chat_response):\n",
    "    text = chat_response.json()[\"choices\"][0]['message']['content']\n",
    "    sections = [\"Cuisine Nationality\", \"Restaurant Type\", \"Specialty Dishes\", \"Strengths of the Restaurant\", \"Areas for Improvement\",\"Overall Summary of the Restaurant\"]\n",
    "    data = {}\n",
    "    result_dict = {}\n",
    "    for i in range(len(sections)-1):\n",
    "        pattern = f\"{sections[i]}: (.*?)\\n*{sections[i+1]}:\"\n",
    "        match = re.search(pattern, text, re.DOTALL)\n",
    "        if match:\n",
    "            data[sections[i]] = match.group(1).strip()\n",
    "\n",
    "    # Add the last section separately as it's not followed by another section\n",
    "    pattern = f\"{sections[-1]}: (.*)\"\n",
    "    match = re.search(pattern, text, re.DOTALL)\n",
    "    if match:\n",
    "        data[sections[-1]] = match.group(1).strip()\n",
    "\n",
    "    for key, value in data.items():\n",
    "        result_dict.update({key: value})\n",
    "        \n",
    "    return result_dict"
   ]
  },
  {
   "cell_type": "code",
   "execution_count": null,
   "id": "13200a3e",
   "metadata": {},
   "outputs": [],
   "source": [
    "df_ls = []\n",
    "\n",
    "\n",
    "for row_num , reviews  in enumerate(df_w_gm[\"reviews\"]): \n",
    "    list_of_dicts = ast.literal_eval(reviews)\n",
    "    review_ls = [dict_[\"review\"] for dict_ in list_of_dicts if len(dict_[\"review\"])> 1]\n",
    "    \n",
    "    text = 'These are the reviews \\n '\n",
    "    for r, n in enumerate(review_ls):\n",
    "        text = text + f\"Review {str(r+1)}: {n} \\n \"\n",
    "    \n",
    "    conversation.add_message(\"user\",text )\n",
    "    \n",
    "    conversation = Conversation()\n",
    "    conversation.add_message(\"system\", \n",
    "    \"\"\"You are making the summary of the reviews of one restrauant.  \n",
    "    This JSON file contains information about a specific restaurant. From the information provided, could you infer the cuisine nationality and the type of dishes the restaurant specializes in? If it's not possible to make an informed guess, kindly indicate with \"N/A\". Please be as accurate as possible when identifying the 'Cuisine Nationality' and 'Specialty Dishes'.\n",
    "    Moreover, we'd appreciate a comprehensive summary that describes the ambiance of the restaurant, its strengths, and its weaknesses. Please avoid repeating information already mentioned in the previous sections.\n",
    "\n",
    "    Your summary should enrich our understanding of the place. If the details provided are insufficient, feel free to augment them with plausible extrapolations while maintaining the integrity of the information.\n",
    "\n",
    "\n",
    "    Please adhere to the following format for your response:\n",
    "\n",
    "    Cuisine Nationality:\n",
    "    Restaurant Type:\n",
    "    Specialty Dishes:\n",
    "    Strengths of the Restaurant:\n",
    "    Areas for Improvement:\n",
    "    Overall Summary of the Restaurant:\n",
    "    \"\"\")\n",
    "    \n",
    "    conversation.add_message(\"user\",text )\n",
    "\n",
    "    chat_response = chat_completion_request(\n",
    "        conversation.conversation_history )\n",
    "    \n",
    "    \n",
    "    result_dict= process_chat_response(chat_response)\n",
    "    \n",
    "    tmp_dict = {\"Name\" : df_w_gm.iloc[row_num][\"Name\"],\n",
    "               \"Cuisine Nationality\" : result_dict[\"Cuisine Nationality\"],\n",
    "               \"Restaurant Type\" :result_dict[\"Restaurant Type\" ],\n",
    "                \"Specialty Dishes\" :result_dict[\"Specialty Dishes\"],\n",
    "                \"Strengths of the Restaurant\" :result_dict[\"Strengths of the Restaurant\"],\n",
    "                \"Areas for Improvement\" :result_dict[\"Areas for Improvement\"],\n",
    "                \"Overall Summary of the Restaurant\" :result_dict[\"Overall Summary of the Restaurant\"]\n",
    "               }\n",
    "    \n",
    "    print(row_num , '/' , len(df_w_gm[\"reviews\"]))\n",
    "    \n",
    "    df_ls.append(tmp_dict)"
   ]
  },
  {
   "cell_type": "code",
   "execution_count": 35,
   "id": "f6b6597c",
   "metadata": {},
   "outputs": [],
   "source": [
    "result_df = pd.DataFrame(df_ls) "
   ]
  },
  {
   "cell_type": "code",
   "execution_count": 8,
   "id": "c8cb7d00",
   "metadata": {},
   "outputs": [],
   "source": [
    "result_df = result_df.fillna(\"Not Available\")"
   ]
  },
  {
   "cell_type": "code",
   "execution_count": 9,
   "id": "ff357dad",
   "metadata": {},
   "outputs": [],
   "source": [
    "embedding_model = \"text-embedding-ada-002\""
   ]
  },
  {
   "cell_type": "code",
   "execution_count": 13,
   "id": "1f041192",
   "metadata": {},
   "outputs": [],
   "source": [
    "result_df = df.merge(result_df, 'right' , on = \"Name\")"
   ]
  },
  {
   "cell_type": "code",
   "execution_count": 14,
   "id": "5ac4587a",
   "metadata": {
    "scrolled": false
   },
   "outputs": [
    {
     "name": "stderr",
     "output_type": "stream",
     "text": [
      "100%|█████████████████████████████████████████| 212/212 [00:48<00:00,  4.33it/s]\n",
      "100%|█████████████████████████████████████████| 212/212 [00:57<00:00,  3.68it/s]\n",
      "100%|█████████████████████████████████████████| 212/212 [00:50<00:00,  4.23it/s]\n",
      "100%|█████████████████████████████████████████| 212/212 [01:01<00:00,  3.46it/s]\n",
      "100%|█████████████████████████████████████████| 212/212 [00:44<00:00,  4.75it/s]\n"
     ]
    }
   ],
   "source": [
    "result_df[\"OS_embedding\"] = result_df[\"Overall Summary of the Restaurant\"].progress_apply(lambda x: get_embedding(x, engine=embedding_model))\n",
    "result_df[\"ST_embedding\"] = result_df[ \"Strengths of the Restaurant\"].progress_apply(lambda x: get_embedding(x, engine=embedding_model))\n",
    "result_df[\"AI_embedding\"] =result_df[\"Areas for Improvement\"].progress_apply(lambda x: get_embedding(x, engine=embedding_model))\n",
    "result_df[\"SD_embedding\"] =result_df[\"Specialty Dishes\"].progress_apply(lambda x: get_embedding(x, engine=embedding_model))\n",
    "result_df[\"CG_embedding\"] =result_df[\"category\"].progress_apply(lambda x: get_embedding(x, engine=embedding_model))"
   ]
  },
  {
   "cell_type": "code",
   "execution_count": 15,
   "id": "9f465d90",
   "metadata": {},
   "outputs": [
    {
     "data": {
      "text/html": [
       "<div>\n",
       "<style scoped>\n",
       "    .dataframe tbody tr th:only-of-type {\n",
       "        vertical-align: middle;\n",
       "    }\n",
       "\n",
       "    .dataframe tbody tr th {\n",
       "        vertical-align: top;\n",
       "    }\n",
       "\n",
       "    .dataframe thead th {\n",
       "        text-align: right;\n",
       "    }\n",
       "</style>\n",
       "<table border=\"1\" class=\"dataframe\">\n",
       "  <thead>\n",
       "    <tr style=\"text-align: right;\">\n",
       "      <th></th>\n",
       "      <th>Name</th>\n",
       "      <th>category</th>\n",
       "      <th>Cuisine Nationality</th>\n",
       "      <th>Restaurant Type</th>\n",
       "      <th>Specialty Dishes</th>\n",
       "      <th>Strengths of the Restaurant</th>\n",
       "      <th>Areas for Improvement</th>\n",
       "      <th>Overall Summary of the Restaurant</th>\n",
       "      <th>OS_embedding</th>\n",
       "      <th>ST_embedding</th>\n",
       "      <th>AI_embedding</th>\n",
       "      <th>SD_embedding</th>\n",
       "      <th>CG_embedding</th>\n",
       "    </tr>\n",
       "  </thead>\n",
       "  <tbody>\n",
       "    <tr>\n",
       "      <th>0</th>\n",
       "      <td>Foxface Natural</td>\n",
       "      <td>New American</td>\n",
       "      <td>Mediterranean</td>\n",
       "      <td>Natural Wine Bar</td>\n",
       "      <td>Confit mushroom with romesco, crispy goat with...</td>\n",
       "      <td>The restaurant offers high-quality ingredients...</td>\n",
       "      <td>There is no mention of any areas for improveme...</td>\n",
       "      <td>Foxface is a natural wine bar that specializes...</td>\n",
       "      <td>[0.002897911472246051, -0.013649974949657917, ...</td>\n",
       "      <td>[0.011106226593255997, -0.015657523646950722, ...</td>\n",
       "      <td>[-0.0049005369655787945, 0.013941068202257156,...</td>\n",
       "      <td>[0.007710179779678583, -0.020429354161024094, ...</td>\n",
       "      <td>[-0.022367175668478012, 0.000900503306183964, ...</td>\n",
       "    </tr>\n",
       "    <tr>\n",
       "      <th>1</th>\n",
       "      <td>The Golden Swan</td>\n",
       "      <td>New American</td>\n",
       "      <td>Not Available</td>\n",
       "      <td>Bar and Restaurant</td>\n",
       "      <td>Carbonara, Mussels in Curry, Steak Tartare</td>\n",
       "      <td>The restaurant has a great atmosphere with a d...</td>\n",
       "      <td>Not Available</td>\n",
       "      <td>This bar and restaurant in the West Village ha...</td>\n",
       "      <td>[0.0008331807912327349, -0.012693211436271667,...</td>\n",
       "      <td>[-0.0017851117299869657, -0.020163610577583313...</td>\n",
       "      <td>[-0.034706875681877136, -0.022115295752882957,...</td>\n",
       "      <td>[0.020966287702322006, -0.01374486368149519, 0...</td>\n",
       "      <td>[-0.022367175668478012, 0.000900503306183964, ...</td>\n",
       "    </tr>\n",
       "    <tr>\n",
       "      <th>2</th>\n",
       "      <td>Barbalu - Brooklyn</td>\n",
       "      <td>Italian</td>\n",
       "      <td>Italian</td>\n",
       "      <td>Casual Dining</td>\n",
       "      <td>Pasta, Pizza</td>\n",
       "      <td>The restaurant has a chic and comfortable ambi...</td>\n",
       "      <td>The salads are small, and the wait time for pa...</td>\n",
       "      <td>Barbalu is a casual Italian restaurant with a ...</td>\n",
       "      <td>[0.016737889498472214, -0.004692897200584412, ...</td>\n",
       "      <td>[0.02521410770714283, -0.008863617666065693, -...</td>\n",
       "      <td>[0.014397511258721352, -0.009359041228890419, ...</td>\n",
       "      <td>[0.03400210663676262, -0.01388942077755928, 0....</td>\n",
       "      <td>[0.006943366024643183, -0.014459662139415741, ...</td>\n",
       "    </tr>\n",
       "    <tr>\n",
       "      <th>3</th>\n",
       "      <td>Number One Caviar Boutique</td>\n",
       "      <td>American</td>\n",
       "      <td>Chinese</td>\n",
       "      <td>Takeout</td>\n",
       "      <td>Not Available</td>\n",
       "      <td>The restaurant has excellent customer service ...</td>\n",
       "      <td>Some customers have reported receiving incorre...</td>\n",
       "      <td>#1 Chinese is a Chinese takeout restaurant tha...</td>\n",
       "      <td>[0.018111230805516243, -0.006599799729883671, ...</td>\n",
       "      <td>[0.010699339210987091, -0.016497522592544556, ...</td>\n",
       "      <td>[-0.005449856631457806, -0.015512403100728989,...</td>\n",
       "      <td>[-0.034706875681877136, -0.022115295752882957,...</td>\n",
       "      <td>[0.003904648358002305, -0.001633059699088335, ...</td>\n",
       "    </tr>\n",
       "    <tr>\n",
       "      <th>4</th>\n",
       "      <td>Don Angie</td>\n",
       "      <td>Italian</td>\n",
       "      <td>Italian</td>\n",
       "      <td>Fine Dining</td>\n",
       "      <td>Lasagna, Japanese Sweet Potatoes, Chrysanthemu...</td>\n",
       "      <td>Don Angie is a highly rated Italian restaurant...</td>\n",
       "      <td>Some reviewers mentioned that the dessert was ...</td>\n",
       "      <td>Don Angie is a must-try Italian restaurant tha...</td>\n",
       "      <td>[0.01116529293358326, -0.024137916043400764, 0...</td>\n",
       "      <td>[0.010233421809971333, -0.022172413766384125, ...</td>\n",
       "      <td>[0.0022201393730938435, -0.02435995265841484, ...</td>\n",
       "      <td>[0.019406402483582497, -0.004327734466642141, ...</td>\n",
       "      <td>[0.006943366024643183, -0.014459662139415741, ...</td>\n",
       "    </tr>\n",
       "  </tbody>\n",
       "</table>\n",
       "</div>"
      ],
      "text/plain": [
       "                         Name      category Cuisine Nationality  \\\n",
       "0             Foxface Natural  New American       Mediterranean   \n",
       "1             The Golden Swan  New American       Not Available   \n",
       "2          Barbalu - Brooklyn       Italian             Italian   \n",
       "3  Number One Caviar Boutique      American             Chinese   \n",
       "4                   Don Angie       Italian             Italian   \n",
       "\n",
       "      Restaurant Type                                   Specialty Dishes  \\\n",
       "0    Natural Wine Bar  Confit mushroom with romesco, crispy goat with...   \n",
       "1  Bar and Restaurant         Carbonara, Mussels in Curry, Steak Tartare   \n",
       "2       Casual Dining                                       Pasta, Pizza   \n",
       "3             Takeout                                      Not Available   \n",
       "4         Fine Dining  Lasagna, Japanese Sweet Potatoes, Chrysanthemu...   \n",
       "\n",
       "                         Strengths of the Restaurant  \\\n",
       "0  The restaurant offers high-quality ingredients...   \n",
       "1  The restaurant has a great atmosphere with a d...   \n",
       "2  The restaurant has a chic and comfortable ambi...   \n",
       "3  The restaurant has excellent customer service ...   \n",
       "4  Don Angie is a highly rated Italian restaurant...   \n",
       "\n",
       "                               Areas for Improvement  \\\n",
       "0  There is no mention of any areas for improveme...   \n",
       "1                                      Not Available   \n",
       "2  The salads are small, and the wait time for pa...   \n",
       "3  Some customers have reported receiving incorre...   \n",
       "4  Some reviewers mentioned that the dessert was ...   \n",
       "\n",
       "                   Overall Summary of the Restaurant  \\\n",
       "0  Foxface is a natural wine bar that specializes...   \n",
       "1  This bar and restaurant in the West Village ha...   \n",
       "2  Barbalu is a casual Italian restaurant with a ...   \n",
       "3  #1 Chinese is a Chinese takeout restaurant tha...   \n",
       "4  Don Angie is a must-try Italian restaurant tha...   \n",
       "\n",
       "                                        OS_embedding  \\\n",
       "0  [0.002897911472246051, -0.013649974949657917, ...   \n",
       "1  [0.0008331807912327349, -0.012693211436271667,...   \n",
       "2  [0.016737889498472214, -0.004692897200584412, ...   \n",
       "3  [0.018111230805516243, -0.006599799729883671, ...   \n",
       "4  [0.01116529293358326, -0.024137916043400764, 0...   \n",
       "\n",
       "                                        ST_embedding  \\\n",
       "0  [0.011106226593255997, -0.015657523646950722, ...   \n",
       "1  [-0.0017851117299869657, -0.020163610577583313...   \n",
       "2  [0.02521410770714283, -0.008863617666065693, -...   \n",
       "3  [0.010699339210987091, -0.016497522592544556, ...   \n",
       "4  [0.010233421809971333, -0.022172413766384125, ...   \n",
       "\n",
       "                                        AI_embedding  \\\n",
       "0  [-0.0049005369655787945, 0.013941068202257156,...   \n",
       "1  [-0.034706875681877136, -0.022115295752882957,...   \n",
       "2  [0.014397511258721352, -0.009359041228890419, ...   \n",
       "3  [-0.005449856631457806, -0.015512403100728989,...   \n",
       "4  [0.0022201393730938435, -0.02435995265841484, ...   \n",
       "\n",
       "                                        SD_embedding  \\\n",
       "0  [0.007710179779678583, -0.020429354161024094, ...   \n",
       "1  [0.020966287702322006, -0.01374486368149519, 0...   \n",
       "2  [0.03400210663676262, -0.01388942077755928, 0....   \n",
       "3  [-0.034706875681877136, -0.022115295752882957,...   \n",
       "4  [0.019406402483582497, -0.004327734466642141, ...   \n",
       "\n",
       "                                        CG_embedding  \n",
       "0  [-0.022367175668478012, 0.000900503306183964, ...  \n",
       "1  [-0.022367175668478012, 0.000900503306183964, ...  \n",
       "2  [0.006943366024643183, -0.014459662139415741, ...  \n",
       "3  [0.003904648358002305, -0.001633059699088335, ...  \n",
       "4  [0.006943366024643183, -0.014459662139415741, ...  "
      ]
     },
     "execution_count": 15,
     "metadata": {},
     "output_type": "execute_result"
    }
   ],
   "source": [
    "result_df.head()"
   ]
  },
  {
   "cell_type": "markdown",
   "id": "cc22a5a4",
   "metadata": {},
   "source": [
    "# Clustering Area for Improvement"
   ]
  },
  {
   "cell_type": "code",
   "execution_count": 16,
   "id": "2e3451e6",
   "metadata": {},
   "outputs": [],
   "source": [
    "import numpy as np\n",
    "from sklearn.cluster import KMeans"
   ]
  },
  {
   "cell_type": "code",
   "execution_count": 17,
   "id": "2de42141",
   "metadata": {},
   "outputs": [],
   "source": [
    "matrix = np.vstack(result_df.AI_embedding.values)\n",
    "n_clusters = 10\n",
    "\n",
    "kmeans = KMeans(n_clusters = n_clusters, init='k-means++', random_state=10)\n",
    "kmeans.fit(matrix)\n",
    "result_df['AI_Cluster'] = kmeans.labels_"
   ]
  },
  {
   "cell_type": "code",
   "execution_count": 18,
   "id": "08d732fd",
   "metadata": {},
   "outputs": [
    {
     "data": {
      "text/html": [
       "<div>\n",
       "<style scoped>\n",
       "    .dataframe tbody tr th:only-of-type {\n",
       "        vertical-align: middle;\n",
       "    }\n",
       "\n",
       "    .dataframe tbody tr th {\n",
       "        vertical-align: top;\n",
       "    }\n",
       "\n",
       "    .dataframe thead th {\n",
       "        text-align: right;\n",
       "    }\n",
       "</style>\n",
       "<table border=\"1\" class=\"dataframe\">\n",
       "  <thead>\n",
       "    <tr style=\"text-align: right;\">\n",
       "      <th></th>\n",
       "      <th>index</th>\n",
       "      <th>AI_Cluster</th>\n",
       "    </tr>\n",
       "  </thead>\n",
       "  <tbody>\n",
       "    <tr>\n",
       "      <th>0</th>\n",
       "      <td>9</td>\n",
       "      <td>41</td>\n",
       "    </tr>\n",
       "    <tr>\n",
       "      <th>1</th>\n",
       "      <td>8</td>\n",
       "      <td>39</td>\n",
       "    </tr>\n",
       "    <tr>\n",
       "      <th>2</th>\n",
       "      <td>2</td>\n",
       "      <td>36</td>\n",
       "    </tr>\n",
       "    <tr>\n",
       "      <th>3</th>\n",
       "      <td>7</td>\n",
       "      <td>32</td>\n",
       "    </tr>\n",
       "    <tr>\n",
       "      <th>4</th>\n",
       "      <td>3</td>\n",
       "      <td>27</td>\n",
       "    </tr>\n",
       "    <tr>\n",
       "      <th>5</th>\n",
       "      <td>5</td>\n",
       "      <td>10</td>\n",
       "    </tr>\n",
       "    <tr>\n",
       "      <th>6</th>\n",
       "      <td>1</td>\n",
       "      <td>10</td>\n",
       "    </tr>\n",
       "    <tr>\n",
       "      <th>7</th>\n",
       "      <td>6</td>\n",
       "      <td>7</td>\n",
       "    </tr>\n",
       "    <tr>\n",
       "      <th>8</th>\n",
       "      <td>4</td>\n",
       "      <td>5</td>\n",
       "    </tr>\n",
       "    <tr>\n",
       "      <th>9</th>\n",
       "      <td>0</td>\n",
       "      <td>5</td>\n",
       "    </tr>\n",
       "  </tbody>\n",
       "</table>\n",
       "</div>"
      ],
      "text/plain": [
       "   index  AI_Cluster\n",
       "0      9          41\n",
       "1      8          39\n",
       "2      2          36\n",
       "3      7          32\n",
       "4      3          27\n",
       "5      5          10\n",
       "6      1          10\n",
       "7      6           7\n",
       "8      4           5\n",
       "9      0           5"
      ]
     },
     "execution_count": 18,
     "metadata": {},
     "output_type": "execute_result"
    }
   ],
   "source": [
    "result_df['AI_Cluster'].value_counts().reset_index()"
   ]
  },
  {
   "cell_type": "markdown",
   "id": "d02a53c5",
   "metadata": {},
   "source": [
    "# Ask Chat-GPT for Cluster Summary"
   ]
  },
  {
   "cell_type": "code",
   "execution_count": 26,
   "id": "b1a5a981",
   "metadata": {},
   "outputs": [],
   "source": [
    "cluster_set = set(result_df[\"AI_Cluster\"] )\n",
    "cluster_st_dict = {}\n",
    "\n",
    "for row_num , cluster in enumerate(cluster_set): \n",
    "    tmp_df = result_df[result_df[\"AI_Cluster\"] == cluster]\n",
    "    \n",
    "    text = 'These are the strengths of several restaurant \\n '\n",
    "    for r, n in enumerate(tmp_df[\"Areas for Improvement\"]):\n",
    "        text = text + f\"Restaurant {str(r+1)}: {n} \\n \"\n",
    "    \n",
    "    \n",
    "    conversation = Conversation()\n",
    "    conversation.add_message(\"system\", \n",
    "    \"\"\"Review the highlighted area for imporovement across multiple restaurants. Give me two keywords that are common in these problems. Make it less than 10 words. Just answer the keywords.\"\"\")\n",
    "    \n",
    "    conversation.add_message(\"user\",text )\n",
    "\n",
    "    chat_response = chat_completion_request(\n",
    "        conversation.conversation_history )\n",
    "    result = chat_response.json()[\"choices\"][0]['message']['content']\n",
    "        \n",
    "    cluster_st_dict.update({cluster :  result})\n",
    "    \n",
    "    "
   ]
  },
  {
   "cell_type": "code",
   "execution_count": 27,
   "id": "2dc7ddf9",
   "metadata": {
    "scrolled": false
   },
   "outputs": [
    {
     "name": "stdout",
     "output_type": "stream",
     "text": [
      "Cluster 0\n",
      "Salad and consistency.\n",
      " \n",
      "Cluster 1\n",
      "Poor service, rushed service\n",
      " \n",
      "Cluster 2\n",
      "Long wait times and small portions.\n",
      " \n",
      "Cluster 3\n",
      "Service and Ambiance.\n",
      " \n",
      "Cluster 4\n",
      "No keywords provided.\n",
      " \n",
      "Cluster 5\n",
      "No areas for improvement.\n",
      " \n",
      "Cluster 6\n",
      "Portion size and price.\n",
      " \n",
      "Cluster 7\n",
      "High prices, lack of seasoning\n",
      " \n",
      "Cluster 8\n",
      "Service and Flavor\n",
      " \n",
      "Cluster 9\n",
      "Inconsistent service and high prices.\n",
      " \n"
     ]
    }
   ],
   "source": [
    "for n , x in enumerate(cluster_st_dict.keys()):\n",
    "    print(\"Cluster\",x )\n",
    "    print(cluster_st_dict[x])\n",
    "    print(\" \")"
   ]
  },
  {
   "cell_type": "code",
   "execution_count": 40,
   "id": "0c4fcd6b",
   "metadata": {},
   "outputs": [],
   "source": [
    "def adjust_AI_Cluser(cluster):\n",
    "    if cluster in (0,8) : \n",
    "        return 8\n",
    "    elif cluster in (4,5) : \n",
    "        return 5\n",
    "    else :\n",
    "        return cluster\n",
    "\n",
    "def adjust_AI_keywords(cluster):\n",
    "    keywords = cluster_st_dict[cluster]\n",
    "    return keywords.replace(\"Keywords: \",\"\").strip()\n",
    "    "
   ]
  },
  {
   "cell_type": "code",
   "execution_count": 41,
   "id": "d5ec29a7",
   "metadata": {},
   "outputs": [],
   "source": [
    "result_df[\"adjusted_AI_Cluster\"] = result_df[\"AI_Cluster\"].apply(lambda x : adjust_AI_Cluser(x)) \n",
    "result_df[\"Area_for_Improvement_Keywords\"] = result_df[\"adjusted_AI_Cluster\"].apply(lambda x : adjust_AI_keywords(x)) "
   ]
  },
  {
   "cell_type": "code",
   "execution_count": 42,
   "id": "d984002d",
   "metadata": {},
   "outputs": [],
   "source": [
    "from sklearn.manifold import TSNE\n",
    "import matplotlib.pyplot as plt\n",
    "import matplotlib"
   ]
  },
  {
   "cell_type": "code",
   "execution_count": 43,
   "id": "9df13057",
   "metadata": {},
   "outputs": [
    {
     "data": {
      "text/plain": [
       "Text(0.5, 1.0, 'Visualized Area of Improvement for Popular Restaurants in New York City using t-SNE')"
      ]
     },
     "execution_count": 43,
     "metadata": {},
     "output_type": "execute_result"
    },
    {
     "data": {
      "image/png": "[encoded data removed]",
      "text/plain": [
       "<Figure size 640x480 with 1 Axes>"
      ]
     },
     "metadata": {},
     "output_type": "display_data"
    }
   ],
   "source": [
    "# matrix = ST_df.ST_embedding.apply(eval).to_list()\n",
    "\n",
    "matrix = np.array([list(x) for x in result_df.AI_embedding])\n",
    "# Create a t-SNE model and transform the data\n",
    "tsne = TSNE(n_components=2, perplexity=30, random_state=30, init='random', learning_rate=200)\n",
    "vis_dims = tsne.fit_transform(matrix)\n",
    "\n",
    "colors = [\"red\", \"blue\", \"green\", \"yellow\", \"orange\", \"purple\", \"pink\", \"brown\", \"gray\", \"cyan\"]\n",
    "x = [x for x,y in vis_dims]\n",
    "y = [y for x,y in vis_dims]\n",
    "color_indices = result_df.adjusted_AI_Cluster.values \n",
    "\n",
    "colormap = matplotlib.colors.ListedColormap(colors)\n",
    "plt.scatter(x, y, c=color_indices, cmap=colormap, alpha=0.5)\n",
    "plt.title(\"Visualized Area of Improvement for Popular Restaurants in New York City using t-SNE\")"
   ]
  },
  {
   "cell_type": "code",
   "execution_count": 44,
   "id": "c129e431",
   "metadata": {},
   "outputs": [],
   "source": [
    "import plotly.graph_objects as go"
   ]
  },
  {
   "cell_type": "code",
   "execution_count": 45,
   "id": "d4e7488a",
   "metadata": {},
   "outputs": [
    {
     "data": {
      "application/vnd.plotly.v1+json": {
       "config": {
        "plotlyServerURL": "https://plot.ly"
       },
       "data": [
        {
         "hoverinfo": "text",
         "marker": {
          "color": [
           5,
           5,
           8,
           9,
           2,
           3,
           3,
           7,
           2,
           9,
           9,
           8,
           7,
           2,
           9,
           2,
           5,
           7,
           9,
           3,
           2,
           9,
           6,
           7,
           2,
           5,
           8,
           2,
           7,
           6,
           3,
           9,
           3,
           9,
           3,
           8,
           8,
           7,
           9,
           2,
           8,
           8,
           8,
           3,
           1,
           1,
           5,
           9,
           8,
           2,
           8,
           3,
           1,
           6,
           8,
           2,
           8,
           9,
           8,
           7,
           3,
           1,
           7,
           2,
           9,
           7,
           9,
           3,
           7,
           3,
           8,
           9,
           8,
           3,
           6,
           1,
           8,
           1,
           5,
           2,
           8,
           8,
           3,
           5,
           9,
           8,
           2,
           3,
           5,
           8,
           3,
           8,
           8,
           8,
           3,
           7,
           3,
           7,
           2,
           9,
           7,
           1,
           9,
           2,
           9,
           2,
           9,
           9,
           8,
           1,
           7,
           3,
           7,
           3,
           8,
           3,
           8,
           1,
           5,
           2,
           8,
           9,
           2,
           8,
           8,
           5,
           2,
           5,
           7,
           2,
           5,
           3,
           2,
           7,
           7,
           8,
           9,
           7,
           9,
           9,
           6,
           3,
           8,
           2,
           7,
           2,
           8,
           7,
           7,
           2,
           8,
           3,
           7,
           9,
           2,
           9,
           2,
           7,
           8,
           9,
           1,
           8,
           9,
           9,
           2,
           5,
           7,
           3,
           8,
           7,
           8,
           9,
           7,
           6,
           3,
           2,
           8,
           9,
           9,
           5,
           7,
           2,
           8,
           5,
           7,
           9,
           8,
           2,
           9,
           8,
           2,
           9,
           9,
           3,
           9,
           9,
           7,
           8,
           8,
           9,
           2,
           2,
           2,
           9,
           2,
           2,
           7,
           6,
           9,
           7,
           8,
           3
          ],
          "colorscale": [
           [
            0,
            "red"
           ],
           [
            0.1111111111111111,
            "blue"
           ],
           [
            0.2222222222222222,
            "green"
           ],
           [
            0.3333333333333333,
            "yellow"
           ],
           [
            0.4444444444444444,
            "orange"
           ],
           [
            0.5555555555555556,
            "purple"
           ],
           [
            0.6666666666666666,
            "pink"
           ],
           [
            0.7777777777777778,
            "brown"
           ],
           [
            0.8888888888888888,
            "gray"
           ],
           [
            1,
            "cyan"
           ]
          ],
          "opacity": 0.8,
          "size": 6
         },
         "mode": "markers",
         "text": [
          "Foxface Natural : No areas for improvement.",
          "The Golden Swan : No areas for improvement.",
          "Barbalu - Brooklyn : Service and Flavor",
          "Number One Caviar Boutique : Inconsistent service and high prices.",
          "Don Angie : Long wait times and small portions.",
          "Mollusca : Service and Ambiance.",
          "Sixty Three Clinton : Service and Ambiance.",
          "NAKAJI : High prices, lack of seasoning",
          "The Sunken Harbor Club : Long wait times and small portions.",
          "Rosella : Inconsistent service and high prices.",
          "Kono : Inconsistent service and high prices.",
          "Sushi Ikumi : Service and Flavor",
          "Shinzo Omakase : High prices, lack of seasoning",
          "Ito : Long wait times and small portions.",
          "Taikun Sushi NYC : Inconsistent service and high prices.",
          "Stafili Wine Cafe : Long wait times and small portions.",
          "HAGS : No areas for improvement.",
          "Accidental Bar : High prices, lack of seasoning",
          "Sushi Lin Soho : Inconsistent service and high prices.",
          "Russ & Daughters Cafe : Service and Ambiance.",
          "The Coop at Double Chicken Please : Long wait times and small portions.",
          "Malaparte : Inconsistent service and high prices.",
          "Oiji Mi : Portion size and price.",
          "Golden Diner : High prices, lack of seasoning",
          "La Compagnie des Vins Surnaturels : Long wait times and small portions.",
          "Kings Co Imperial - Lower East Side : No areas for improvement.",
          "Overstory : Service and Flavor",
          "The Up & Up : Long wait times and small portions.",
          "Claud : High prices, lack of seasoning",
          "Torrisi Bar & Restaurant : Portion size and price.",
          "Shinn East : Service and Ambiance.",
          "Houseman : Inconsistent service and high prices.",
          "The Chef’s Counter at Manhatta : Service and Ambiance.",
          "Lord's : Inconsistent service and high prices.",
          "l'abeille : Service and Ambiance.",
          "SAGA : Service and Flavor",
          "Bar Six : Service and Flavor",
          "C as in Charlie : High prices, lack of seasoning",
          "Farra : Inconsistent service and high prices.",
          "L'Appart : Long wait times and small portions.",
          "Potluck Club : Service and Flavor",
          "Balvanera : Service and Flavor",
          "Sant Ambroeus - Brookfield Place : Service and Flavor",
          "L'accolade : Service and Ambiance.",
          "Shabu Tatsu : Poor service, rushed service",
          "Luthun : Poor service, rushed service",
          "The Little Shop : No areas for improvement.",
          "8282 : Inconsistent service and high prices.",
          "Torien : Service and Flavor",
          "Matsunori : Long wait times and small portions.",
          "Chito Gvrito : Service and Flavor",
          "Thirteen Water : Service and Ambiance.",
          "CICCIO Bar & Alimentari : Poor service, rushed service",
          "Saint Julivert Fisherie : Portion size and price.",
          "ARIARI : Service and Flavor",
          "Martiny's : Long wait times and small portions.",
          "Ama Raw Bar - East Village : Service and Flavor",
          "Omakase Room by Mitsu : Inconsistent service and high prices.",
          "Ama Raw Bar - West Village : Service and Flavor",
          "HIBINO - Brooklyn : High prices, lack of seasoning",
          "Via Della Pace : Service and Ambiance.",
          "Terroir : Poor service, rushed service",
          "St. Jardim : High prices, lack of seasoning",
          "Felice on Hudson : Long wait times and small portions.",
          "Leitao : Inconsistent service and high prices.",
          "Parcelle : High prices, lack of seasoning",
          "Holywater : Inconsistent service and high prices.",
          "Wicked Jane : Service and Ambiance.",
          "TLK - by Tigerlily Kitchen : High prices, lack of seasoning",
          "Sushi Lab - East Village : Service and Ambiance.",
          "Marylou : Service and Flavor",
          "Bar Lula : Inconsistent service and high prices.",
          "The Wesley : Service and Flavor",
          "Pips : Service and Ambiance.",
          "Nabila's : Portion size and price.",
          "Sushi Teru Omakase : Poor service, rushed service",
          "al Badawi : Service and Flavor",
          "The Wayland : Poor service, rushed service",
          "Essex Pearl : No areas for improvement.",
          "Motorino : Long wait times and small portions.",
          "Almar : Service and Flavor",
          "Inatteso Pizzabar : Service and Flavor",
          "Sushi by M - 4th St : Service and Ambiance.",
          "Brindle Room : No areas for improvement.",
          "Marc Forgione : Inconsistent service and high prices.",
          "Manero's Bar & Restaurant : Service and Flavor",
          "Omakase Sushi Fan : Long wait times and small portions.",
          "Rabbit : Service and Ambiance.",
          "Osteria Carlina Tribeca : No areas for improvement.",
          "SPUNTO NYCThinCrust Pizza : Service and Flavor",
          "Bisou : Service and Ambiance.",
          "Ella Funt : Service and Flavor",
          "BRADO NYCThinCrust Pizza : Service and Flavor",
          "Bandone : Service and Flavor",
          "Rai Rai Ken / Ban Rai : Service and Ambiance.",
          "Jōji : High prices, lack of seasoning",
          "Legacy Records Special Events : Service and Ambiance.",
          "Glin Thai Bistro : High prices, lack of seasoning",
          "Wanpaku/ Hidden Pearl : Long wait times and small portions.",
          "Keg and Lantern Brewery - Red Hook : Inconsistent service and high prices.",
          "The Four Horsemen : High prices, lack of seasoning",
          "Otis : Poor service, rushed service",
          "Ras Plant Based : Inconsistent service and high prices.",
          "The Polo Bar : Long wait times and small portions.",
          "Sushi Lin : Inconsistent service and high prices.",
          "Pomp & Circumstance : Long wait times and small portions.",
          "Runner Up : Inconsistent service and high prices.",
          "Omakase by korami : Inconsistent service and high prices.",
          "OKONOMI/YUJI Ramen : Service and Flavor",
          "Sundays Well : Poor service, rushed service",
          "Santa Fe BK : High prices, lack of seasoning",
          "Panchitas Place : Service and Ambiance.",
          "Aromi : High prices, lack of seasoning",
          "Salinas : Service and Ambiance.",
          "Public Display of Affection (PDA) : Service and Flavor",
          "HOUSE Brooklyn : Service and Ambiance.",
          "Ace's Pizza : Service and Flavor",
          "Lulu & Po : Poor service, rushed service",
          "Sucker Punch : No areas for improvement.",
          "390 Social : Long wait times and small portions.",
          "Bangkok Degree : Service and Flavor",
          "The Moore/Moore Wine : Inconsistent service and high prices.",
          "Ploo : Long wait times and small portions.",
          "Lilia : Service and Flavor",
          "Le Bernardin : Service and Flavor",
          "Keens Steakhouse : No areas for improvement.",
          "Miss Ada : Long wait times and small portions.",
          "Sushi Seki Chelsea : No areas for improvement.",
          "Shukette : High prices, lack of seasoning",
          "Le Crocodile : Long wait times and small portions.",
          "Kings Co Imperial - Williamsburg : No areas for improvement.",
          "Red Hook Tavern : Service and Ambiance.",
          "Evelina : Long wait times and small portions.",
          "Roman's : High prices, lack of seasoning",
          "Kochi : High prices, lack of seasoning",
          "Oxalis : Service and Flavor",
          "Laser Wolf Brooklyn : Inconsistent service and high prices.",
          "LaRina Pastificio & Vino : High prices, lack of seasoning",
          "Trattoria Trecolori : Inconsistent service and high prices.",
          "Traif : Inconsistent service and high prices.",
          "Haenyeo : Portion size and price.",
          "Sofreh : Service and Ambiance.",
          "Pasta Louise : Service and Flavor",
          "JUA : Long wait times and small portions.",
          "The Modern : High prices, lack of seasoning",
          "Tonchin New York : Long wait times and small portions.",
          "ViceVersa : Service and Flavor",
          "Monkey Bar : High prices, lack of seasoning",
          "Francie : High prices, lack of seasoning",
          "Buttermilk Channel : Long wait times and small portions.",
          "Roberta's : Service and Flavor",
          "Hart’s : Service and Ambiance.",
          "Colonia Verde : High prices, lack of seasoning",
          "Nura : Inconsistent service and high prices.",
          "LaLou : Long wait times and small portions.",
          "Hatsuhana Sushi Restaurant : Inconsistent service and high prices.",
          "Nami Nori Williamsburg : Long wait times and small portions.",
          "Leland Eating and Drinking House : High prices, lack of seasoning",
          "MONTESACRO : Service and Flavor",
          "West Bank Cafe : Inconsistent service and high prices.",
          "Place des Fêtes : Poor service, rushed service",
          "Etcetera Etcetera : Service and Flavor",
          "Bar Bête : Inconsistent service and high prices.",
          "Mari : Inconsistent service and high prices.",
          "Sweetwater Restaurant : Long wait times and small portions.",
          "Maison Premiere : No areas for improvement.",
          "Nonna Dora's : High prices, lack of seasoning",
          "Yakitori Torishin : Service and Ambiance.",
          "Madre : Service and Flavor",
          "Leo : High prices, lack of seasoning",
          "Olea : Service and Flavor",
          "The Marshal : Inconsistent service and high prices.",
          "Michael's Restaurant : High prices, lack of seasoning",
          "Taverna Di Bacco : Portion size and price.",
          "Blue Haven-West Village : Service and Ambiance.",
          "Della's : Long wait times and small portions.",
          "Esora Omakase : Service and Flavor",
          "Sushi Mumi : Inconsistent service and high prices.",
          "Arthur's Tavern : Inconsistent service and high prices.",
          "Seppe Pizza Bar : No areas for improvement.",
          "Han Dynasty - East Village : High prices, lack of seasoning",
          "Morgenstern's Finest Ice Cream : Long wait times and small portions.",
          "Top Thai Vintage : Service and Flavor",
          "Junsui : No areas for improvement.",
          "Kintsugi Omakase : High prices, lack of seasoning",
          "Pastis : Inconsistent service and high prices.",
          "Loring Place : Service and Flavor",
          "Rubirosa : Long wait times and small portions.",
          "Carbone : Inconsistent service and high prices.",
          "I Sodi : Service and Flavor",
          "L'Artusi : Long wait times and small portions.",
          "Raoul's : Inconsistent service and high prices.",
          "Sushi Nakazawa NY : Inconsistent service and high prices.",
          "Minetta Tavern : Service and Ambiance.",
          "Raku Soho : Inconsistent service and high prices.",
          "Cervo’s : Inconsistent service and high prices.",
          "Jeffrey's Grocery : High prices, lack of seasoning",
          "Dirt Candy : Service and Flavor",
          "Hanoi House : Service and Flavor",
          "Colonie : Inconsistent service and high prices.",
          "Fairfax : Long wait times and small portions.",
          "The Dead Rabbit Pub : Long wait times and small portions.",
          "Dame : Long wait times and small portions.",
          "Dear Irving Gramercy : Inconsistent service and high prices.",
          "Popina NYC : Long wait times and small portions.",
          "The Nines : Long wait times and small portions.",
          "MOKYO : High prices, lack of seasoning",
          "La Vara : Portion size and price.",
          "Noreetuh : Inconsistent service and high prices.",
          "Flex Mussels- WV : High prices, lack of seasoning",
          "Cafe Spaghetti : Service and Flavor",
          "da Toscano : Service and Ambiance."
         ],
         "type": "scatter3d",
         "x": [
          -11.942015647888184,
          -10.991048812866211,
          29.861509323120117,
          -41.22684097290039,
          50.2684326171875,
          -67.92604064941406,
          -86.84332275390625,
          -1.7725619077682495,
          66.14574432373047,
          117.80941009521484,
          -57.58475875854492,
          87.99357604980469,
          -135.13230895996094,
          -19.98444366455078,
          -40.768524169921875,
          44.89794158935547,
          0.5193734765052795,
          -53.70383071899414,
          -94.83306121826172,
          136.05459594726562,
          33.042869567871094,
          -107.4654312133789,
          -2.499178171157837,
          -54.96214294433594,
          54.826778411865234,
          152.91539001464844,
          50.48329162597656,
          43.97393035888672,
          -62.20404052734375,
          28.25335121154785,
          1.8783665895462036,
          -9.81523323059082,
          -122.46131896972656,
          -143.87106323242188,
          -70.93496704101562,
          15.441107749938965,
          64.36021423339844,
          -26.723337173461914,
          25.890478134155273,
          135.1559600830078,
          -73.78270721435547,
          88.71658325195312,
          -118.3174819946289,
          -167.99087524414062,
          139.46017456054688,
          -52.716217041015625,
          -21.79470443725586,
          10.409467697143555,
          50.48259353637695,
          71.65813446044922,
          176.2153778076172,
          -123.47679138183594,
          -95.95763397216797,
          -25.6320858001709,
          132.93626403808594,
          -11.200366020202637,
          -15.864269256591797,
          -13.294998168945312,
          -64.57131958007812,
          -97.99762725830078,
          -7.093298435211182,
          -103.10340118408203,
          -58.00459671020508,
          94.23920440673828,
          36.25712585449219,
          171.6451873779297,
          5.251598358154297,
          -93.28482055664062,
          -91.35475158691406,
          -126.59628295898438,
          19.12674903869629,
          -74.65996551513672,
          -15.440919876098633,
          139.71621704101562,
          13.693948745727539,
          -75.4513931274414,
          115.98594665527344,
          -116.34245300292969,
          -16.562543869018555,
          132.4735870361328,
          -64.76719665527344,
          136.59716796875,
          -55.859214782714844,
          149.08096313476562,
          -19.291921615600586,
          -150.6366729736328,
          81.4212875366211,
          24.29991340637207,
          -45.836788177490234,
          84.78316497802734,
          -20.96139907836914,
          -145.17575073242188,
          -19.82732391357422,
          103.15729522705078,
          -135.8646240234375,
          -149.85287475585938,
          -44.52199935913086,
          -170.20191955566406,
          -84.69664001464844,
          -157.0685577392578,
          104.05928802490234,
          17.83346176147461,
          3.4114255905151367,
          -7.977046966552734,
          -97.81050872802734,
          -110.06189727783203,
          -123.8962631225586,
          21.41461181640625,
          61.75353240966797,
          -56.13170623779297,
          160.3918914794922,
          -82.72378540039062,
          -1.116165041923523,
          -64.07768249511719,
          91.64411926269531,
          16.077730178833008,
          -229.73040771484375,
          -130.07261657714844,
          14.613747596740723,
          -27.774473190307617,
          158.82476806640625,
          -10.965324401855469,
          37.69264221191406,
          -180.9009246826172,
          93.61663055419922,
          134.81240844726562,
          74.06143951416016,
          -18.510892868041992,
          82.25944519042969,
          99.50985717773438,
          -52.85759353637695,
          -85.40139770507812,
          70.36577606201172,
          -83.1214370727539,
          -101.71792602539062,
          101.47003173828125,
          8.821585655212402,
          -28.412729263305664,
          -87.41112518310547,
          -108.58447265625,
          59.58513259887695,
          51.13827896118164,
          -44.86629104614258,
          61.59978485107422,
          -36.43079376220703,
          1.4341188669204712,
          -163.10336303710938,
          73.97805786132812,
          28.435728073120117,
          71.10446166992188,
          85.06171417236328,
          159.705810546875,
          -11.648119926452637,
          77.96599578857422,
          106.88276672363281,
          47.823974609375,
          60.694820404052734,
          -19.281925201416016,
          6.774651050567627,
          72.20755767822266,
          -79.38541412353516,
          -30.097274780273438,
          -76.2306137084961,
          -54.365867614746094,
          -33.83796310424805,
          -41.80355453491211,
          -63.144309997558594,
          -43.35491943359375,
          24.192668914794922,
          -102.5002212524414,
          0.9098770618438721,
          -139.60714721679688,
          -62.423362731933594,
          75.49422454833984,
          -38.76361846923828,
          59.712345123291016,
          33.47212219238281,
          -108.82093048095703,
          101.84071350097656,
          119.8380355834961,
          73.96746063232422,
          34.247955322265625,
          38.47482681274414,
          5.7526140213012695,
          -121.42726135253906,
          191.8756561279297,
          12.5879487991333,
          -50.62380599975586,
          95.17681884765625,
          75.48348236083984,
          38.82974624633789,
          26.13298797607422,
          -48.48615646362305,
          -47.27313232421875,
          -80.02890014648438,
          65.95933532714844,
          -0.883305013179779,
          29.514802932739258,
          48.8330192565918,
          7.554653167724609,
          -131.29994201660156,
          99.21353149414062,
          146.90528869628906,
          65.2884292602539,
          22.267820358276367,
          120.73778533935547,
          -13.473926544189453,
          134.93695068359375,
          -100.46826171875,
          42.5977897644043,
          48.41374969482422,
          -64.5475082397461
         ],
         "y": [
          161.4727020263672,
          79.17874145507812,
          -129.63168334960938,
          14.922789573669434,
          -5.380819797515869,
          79.73119354248047,
          127.58570861816406,
          -30.802400588989258,
          -46.74676513671875,
          -66.33119201660156,
          -80.53892517089844,
          5.371193885803223,
          38.9656867980957,
          101.90769958496094,
          -132.59347534179688,
          66.0329818725586,
          57.99081039428711,
          -99.351806640625,
          -79.78287506103516,
          108.95869445800781,
          -74.47016143798828,
          -48.77128982543945,
          2.2354111671447754,
          -94.42533874511719,
          72.12853240966797,
          -88.04492950439453,
          165.31932067871094,
          -22.4177303314209,
          -29.605947494506836,
          70.40631866455078,
          -109.76914978027344,
          -94.51610565185547,
          141.08273315429688,
          243.9872589111328,
          24.899444580078125,
          78.20069122314453,
          118.25068664550781,
          -2.4044508934020996,
          -82.88042449951172,
          40.65946960449219,
          -171.02113342285156,
          34.433963775634766,
          38.026485443115234,
          79.8896713256836,
          19.623994827270508,
          -42.72833251953125,
          44.03635025024414,
          -1.121546983718872,
          26.80038833618164,
          32.018314361572266,
          -16.984888076782227,
          89.90514373779297,
          31.933025360107422,
          -13.3978910446167,
          119.66395568847656,
          -50.44355392456055,
          78.73361206054688,
          -166.90357971191406,
          38.06172180175781,
          -123.25840759277344,
          62.03312683105469,
          -59.2823486328125,
          54.68423080444336,
          31.60491371154785,
          -100.08988952636719,
          -2.961402416229248,
          -152.3872528076172,
          0.24947747588157654,
          74.41725158691406,
          108.32868194580078,
          6.8384480476379395,
          -85.03054809570312,
          36.38923263549805,
          -92.58253479003906,
          15.784533500671387,
          -11.291543960571289,
          -5.432843208312988,
          -59.148033142089844,
          -15.54748249053955,
          6.125599384307861,
          82.77845764160156,
          66.19740295410156,
          -118.6407470703125,
          -58.83696746826172,
          -67.79559326171875,
          -132.36195373535156,
          41.500125885009766,
          116.99730682373047,
          8.880492210388184,
          96.9918212890625,
          31.161026000976562,
          -44.72914505004883,
          43.515342712402344,
          99.56412506103516,
          38.8692741394043,
          -37.53592300415039,
          38.461795806884766,
          0.627907395362854,
          -22.838029861450195,
          -91.40851593017578,
          -133.99002075195312,
          -28.23031234741211,
          -56.98030090332031,
          -105.98348236083984,
          94.72013092041016,
          84.707763671875,
          -8.712936401367188,
          -120.23544311523438,
          -93.67332458496094,
          -139.5608367919922,
          -9.698360443115234,
          46.404930114746094,
          68.47150421142578,
          132.50320434570312,
          62.43524932861328,
          92.12755584716797,
          20.370059967041016,
          -1.6384093761444092,
          49.955482482910156,
          -25.352279663085938,
          93.81237030029297,
          -67.60633087158203,
          -55.058372497558594,
          9.098546981811523,
          142.02085876464844,
          39.12166213989258,
          -28.892601013183594,
          -0.12937481701374054,
          108.17554473876953,
          -51.460243225097656,
          -38.6098518371582,
          80.2405776977539,
          -22.997060775756836,
          1.4144269227981567,
          -20.99091911315918,
          5.26635217666626,
          -166.56004333496094,
          101.8607406616211,
          -78.4485092163086,
          -119.38792419433594,
          -7.24267578125,
          -177.84100341796875,
          9.46420669555664,
          -9.213373184204102,
          55.634212493896484,
          126.058837890625,
          -43.03329849243164,
          111.8799057006836,
          117.83428192138672,
          -73.40642547607422,
          26.701744079589844,
          -67.46056365966797,
          165.55563354492188,
          -51.55119705200195,
          66.25775909423828,
          -139.6851043701172,
          -70.92831420898438,
          -84.13525390625,
          178.89254760742188,
          -92.90621948242188,
          40.213661193847656,
          122.70455932617188,
          -22.27011489868164,
          -165.28396606445312,
          -50.51047897338867,
          -129.54547119140625,
          94.80061340332031,
          75.60194396972656,
          -65.56723022460938,
          -95.21601867675781,
          50.21620559692383,
          -27.99100112915039,
          -35.64256286621094,
          -22.79183006286621,
          115.79481506347656,
          16.11445426940918,
          43.81365203857422,
          0.8249790668487549,
          -36.476898193359375,
          -77.66605377197266,
          74.46684265136719,
          -51.43874740600586,
          29.294979095458984,
          -25.26027488708496,
          -92.07832336425781,
          38.12800979614258,
          118.14674377441406,
          -57.14168167114258,
          -132.7272186279297,
          120.61275482177734,
          29.380617141723633,
          -2.948481798171997,
          170.04296875,
          51.91172790527344,
          149.16746520996094,
          -105.17865753173828,
          126.54693603515625,
          114.94133758544922,
          75.01587677001953,
          -118.02777862548828,
          52.02260208129883,
          -122.50694274902344,
          49.72216796875,
          -153.84812927246094,
          -29.85758399963379,
          -21.53455352783203,
          -75.61627960205078,
          -48.32936096191406,
          130.48829650878906,
          165.37387084960938,
          78.78205108642578,
          168.0333251953125
         ],
         "z": [
          -81.04450225830078,
          23.356037139892578,
          -53.4935302734375,
          150.4423370361328,
          2.9443247318267822,
          61.94749450683594,
          31.271913528442383,
          -170.50970458984375,
          -1.9981446266174316,
          110.76556396484375,
          1.9073054790496826,
          85.63919067382812,
          -22.889957427978516,
          -98.90190887451172,
          16.291038513183594,
          -162.74786376953125,
          -4.511011600494385,
          68.80868530273438,
          135.15371704101562,
          -79.14434814453125,
          5.726076126098633,
          4.877325057983398,
          110.16393280029297,
          -90.52073669433594,
          106.0904769897461,
          -44.622989654541016,
          -95.80731964111328,
          86.0079574584961,
          157.6229248046875,
          -112.83533477783203,
          -137.21644592285156,
          53.33380889892578,
          -5.889792442321777,
          48.40676498413086,
          -108.02591705322266,
          -55.32708740234375,
          -32.40113067626953,
          -81.80902099609375,
          -94.92432403564453,
          2.0209295749664307,
          -28.039127349853516,
          -104.61319732666016,
          -88.82225036621094,
          -5.031476020812988,
          -123.61272430419922,
          -84.33202362060547,
          21.621070861816406,
          54.35641860961914,
          -100.45316314697266,
          135.52296447753906,
          -41.54022979736328,
          106.99425506591797,
          17.109546661376953,
          -126.61131286621094,
          14.120203018188477,
          130.973876953125,
          84.98308563232422,
          -76.38381958007812,
          47.522823333740234,
          2.3003344535827637,
          163.48219299316406,
          82.1270523071289,
          -25.662124633789062,
          -152.47482299804688,
          92.2861557006836,
          66.74211120605469,
          74.25454711914062,
          -22.943410873413086,
          -113.42166900634766,
          65.86612701416016,
          -74.19054412841797,
          -34.8366584777832,
          -43.631595611572266,
          17.303735733032227,
          -139.51248168945312,
          -67.56251525878906,
          129.93043518066406,
          -58.3519401550293,
          -17.98794937133789,
          -52.8140754699707,
          13.939961433410645,
          28.330169677734375,
          100.4670181274414,
          -14.844745635986328,
          -117.57310485839844,
          -24.402124404907227,
          7.202182769775391,
          117.52084350585938,
          -6.683166027069092,
          21.81031608581543,
          -174.9874725341797,
          -98.20181274414062,
          73.3255386352539,
          110.21347045898438,
          114.16943359375,
          63.11370086669922,
          -146.81683349609375,
          68.43350982666016,
          112.69114685058594,
          45.178932189941406,
          5.741867542266846,
          -45.203739166259766,
          81.17719268798828,
          130.32415771484375,
          -159.58383178710938,
          -24.39958953857422,
          16.83091163635254,
          33.85060501098633,
          151.63092041015625,
          -120.17135620117188,
          10.514294624328613,
          101.99833679199219,
          -138.69496154785156,
          87.93297576904297,
          60.15576934814453,
          132.00344848632812,
          -244.2014617919922,
          -60.084346771240234,
          29.600814819335938,
          71.47139739990234,
          -24.754365921020508,
          167.88919067382812,
          -130.95819091796875,
          -48.547603607177734,
          -6.550328731536865,
          83.41694641113281,
          139.67611694335938,
          16.295997619628906,
          -121.68852233886719,
          30.02786636352539,
          -29.72710418701172,
          136.32464599609375,
          26.01596450805664,
          -163.1889190673828,
          -114.68341827392578,
          -14.437735557556152,
          20.40471839904785,
          -50.722110748291016,
          34.672916412353516,
          60.086788177490234,
          -167.7818145751953,
          -22.03452491760254,
          88.48448181152344,
          -35.743289947509766,
          -86.6952896118164,
          -128.7641143798828,
          -19.091798782348633,
          95.2870101928711,
          13.148911476135254,
          -82.58612060546875,
          -55.16135025024414,
          60.326881408691406,
          69.75926208496094,
          -39.45418167114258,
          -37.12242126464844,
          -105.88407897949219,
          95.17070007324219,
          -57.06910705566406,
          13.047369956970215,
          43.47670364379883,
          -49.76792907714844,
          1.51138174533844,
          30.659717559814453,
          56.97548294067383,
          35.851966857910156,
          -42.977169036865234,
          -55.18289566040039,
          -157.87477111816406,
          -46.71597671508789,
          -109.10678100585938,
          -74.47286224365234,
          -159.28587341308594,
          -156.71945190429688,
          -117.9605712890625,
          137.1334991455078,
          44.13235855102539,
          -69.66531372070312,
          68.31403350830078,
          -69.80585479736328,
          -23.89410972595215,
          -71.72801208496094,
          47.22624588012695,
          -23.961181640625,
          7.263936519622803,
          -8.49897575378418,
          1.306997299194336,
          61.98262405395508,
          101.85199737548828,
          -57.312747955322266,
          -84.64904022216797,
          85.55406951904297,
          159.4777374267578,
          -33.3410758972168,
          120.15028381347656,
          -62.435237884521484,
          -15.37535572052002,
          -18.913190841674805,
          -55.731327056884766,
          -13.819657325744629,
          -18.555313110351562,
          41.935691833496094,
          81.57169342041016,
          -71.14925384521484,
          51.43153762817383,
          -99.2481689453125,
          58.323509216308594,
          -6.192943096160889,
          -190.7170867919922,
          -76.0604248046875,
          -10.256908416748047,
          55.0506591796875,
          27.028789520263672
         ]
        }
       ],
       "layout": {
        "margin": {
         "b": 0,
         "l": 0,
         "r": 0,
         "t": 80
        },
        "template": {
         "data": {
          "bar": [
           {
            "error_x": {
             "color": "#2a3f5f"
            },
            "error_y": {
             "color": "#2a3f5f"
            },
            "marker": {
             "line": {
              "color": "#E5ECF6",
              "width": 0.5
             },
             "pattern": {
              "fillmode": "overlay",
              "size": 10,
              "solidity": 0.2
             }
            },
            "type": "bar"
           }
          ],
          "barpolar": [
           {
            "marker": {
             "line": {
              "color": "#E5ECF6",
              "width": 0.5
             },
             "pattern": {
              "fillmode": "overlay",
              "size": 10,
              "solidity": 0.2
             }
            },
            "type": "barpolar"
           }
          ],
          "carpet": [
           {
            "aaxis": {
             "endlinecolor": "#2a3f5f",
             "gridcolor": "white",
             "linecolor": "white",
             "minorgridcolor": "white",
             "startlinecolor": "#2a3f5f"
            },
            "baxis": {
             "endlinecolor": "#2a3f5f",
             "gridcolor": "white",
             "linecolor": "white",
             "minorgridcolor": "white",
             "startlinecolor": "#2a3f5f"
            },
            "type": "carpet"
           }
          ],
          "choropleth": [
           {
            "colorbar": {
             "outlinewidth": 0,
             "ticks": ""
            },
            "type": "choropleth"
           }
          ],
          "contour": [
           {
            "colorbar": {
             "outlinewidth": 0,
             "ticks": ""
            },
            "colorscale": [
             [
              0,
              "#0d0887"
             ],
             [
              0.1111111111111111,
              "#46039f"
             ],
             [
              0.2222222222222222,
              "#7201a8"
             ],
             [
              0.3333333333333333,
              "#9c179e"
             ],
             [
              0.4444444444444444,
              "#bd3786"
             ],
             [
              0.5555555555555556,
              "#d8576b"
             ],
             [
              0.6666666666666666,
              "#ed7953"
             ],
             [
              0.7777777777777778,
              "#fb9f3a"
             ],
             [
              0.8888888888888888,
              "#fdca26"
             ],
             [
              1,
              "#f0f921"
             ]
            ],
            "type": "contour"
           }
          ],
          "contourcarpet": [
           {
            "colorbar": {
             "outlinewidth": 0,
             "ticks": ""
            },
            "type": "contourcarpet"
           }
          ],
          "heatmap": [
           {
            "colorbar": {
             "outlinewidth": 0,
             "ticks": ""
            },
            "colorscale": [
             [
              0,
              "#0d0887"
             ],
             [
              0.1111111111111111,
              "#46039f"
             ],
             [
              0.2222222222222222,
              "#7201a8"
             ],
             [
              0.3333333333333333,
              "#9c179e"
             ],
             [
              0.4444444444444444,
              "#bd3786"
             ],
             [
              0.5555555555555556,
              "#d8576b"
             ],
             [
              0.6666666666666666,
              "#ed7953"
             ],
             [
              0.7777777777777778,
              "#fb9f3a"
             ],
             [
              0.8888888888888888,
              "#fdca26"
             ],
             [
              1,
              "#f0f921"
             ]
            ],
            "type": "heatmap"
           }
          ],
          "heatmapgl": [
           {
            "colorbar": {
             "outlinewidth": 0,
             "ticks": ""
            },
            "colorscale": [
             [
              0,
              "#0d0887"
             ],
             [
              0.1111111111111111,
              "#46039f"
             ],
             [
              0.2222222222222222,
              "#7201a8"
             ],
             [
              0.3333333333333333,
              "#9c179e"
             ],
             [
              0.4444444444444444,
              "#bd3786"
             ],
             [
              0.5555555555555556,
              "#d8576b"
             ],
             [
              0.6666666666666666,
              "#ed7953"
             ],
             [
              0.7777777777777778,
              "#fb9f3a"
             ],
             [
              0.8888888888888888,
              "#fdca26"
             ],
             [
              1,
              "#f0f921"
             ]
            ],
            "type": "heatmapgl"
           }
          ],
          "histogram": [
           {
            "marker": {
             "pattern": {
              "fillmode": "overlay",
              "size": 10,
              "solidity": 0.2
             }
            },
            "type": "histogram"
           }
          ],
          "histogram2d": [
           {
            "colorbar": {
             "outlinewidth": 0,
             "ticks": ""
            },
            "colorscale": [
             [
              0,
              "#0d0887"
             ],
             [
              0.1111111111111111,
              "#46039f"
             ],
             [
              0.2222222222222222,
              "#7201a8"
             ],
             [
              0.3333333333333333,
              "#9c179e"
             ],
             [
              0.4444444444444444,
              "#bd3786"
             ],
             [
              0.5555555555555556,
              "#d8576b"
             ],
             [
              0.6666666666666666,
              "#ed7953"
             ],
             [
              0.7777777777777778,
              "#fb9f3a"
             ],
             [
              0.8888888888888888,
              "#fdca26"
             ],
             [
              1,
              "#f0f921"
             ]
            ],
            "type": "histogram2d"
           }
          ],
          "histogram2dcontour": [
           {
            "colorbar": {
             "outlinewidth": 0,
             "ticks": ""
            },
            "colorscale": [
             [
              0,
              "#0d0887"
             ],
             [
              0.1111111111111111,
              "#46039f"
             ],
             [
              0.2222222222222222,
              "#7201a8"
             ],
             [
              0.3333333333333333,
              "#9c179e"
             ],
             [
              0.4444444444444444,
              "#bd3786"
             ],
             [
              0.5555555555555556,
              "#d8576b"
             ],
             [
              0.6666666666666666,
              "#ed7953"
             ],
             [
              0.7777777777777778,
              "#fb9f3a"
             ],
             [
              0.8888888888888888,
              "#fdca26"
             ],
             [
              1,
              "#f0f921"
             ]
            ],
            "type": "histogram2dcontour"
           }
          ],
          "mesh3d": [
           {
            "colorbar": {
             "outlinewidth": 0,
             "ticks": ""
            },
            "type": "mesh3d"
           }
          ],
          "parcoords": [
           {
            "line": {
             "colorbar": {
              "outlinewidth": 0,
              "ticks": ""
             }
            },
            "type": "parcoords"
           }
          ],
          "pie": [
           {
            "automargin": true,
            "type": "pie"
           }
          ],
          "scatter": [
           {
            "fillpattern": {
             "fillmode": "overlay",
             "size": 10,
             "solidity": 0.2
            },
            "type": "scatter"
           }
          ],
          "scatter3d": [
           {
            "line": {
             "colorbar": {
              "outlinewidth": 0,
              "ticks": ""
             }
            },
            "marker": {
             "colorbar": {
              "outlinewidth": 0,
              "ticks": ""
             }
            },
            "type": "scatter3d"
           }
          ],
          "scattercarpet": [
           {
            "marker": {
             "colorbar": {
              "outlinewidth": 0,
              "ticks": ""
             }
            },
            "type": "scattercarpet"
           }
          ],
          "scattergeo": [
           {
            "marker": {
             "colorbar": {
              "outlinewidth": 0,
              "ticks": ""
             }
            },
            "type": "scattergeo"
           }
          ],
          "scattergl": [
           {
            "marker": {
             "colorbar": {
              "outlinewidth": 0,
              "ticks": ""
             }
            },
            "type": "scattergl"
           }
          ],
          "scattermapbox": [
           {
            "marker": {
             "colorbar": {
              "outlinewidth": 0,
              "ticks": ""
             }
            },
            "type": "scattermapbox"
           }
          ],
          "scatterpolar": [
           {
            "marker": {
             "colorbar": {
              "outlinewidth": 0,
              "ticks": ""
             }
            },
            "type": "scatterpolar"
           }
          ],
          "scatterpolargl": [
           {
            "marker": {
             "colorbar": {
              "outlinewidth": 0,
              "ticks": ""
             }
            },
            "type": "scatterpolargl"
           }
          ],
          "scatterternary": [
           {
            "marker": {
             "colorbar": {
              "outlinewidth": 0,
              "ticks": ""
             }
            },
            "type": "scatterternary"
           }
          ],
          "surface": [
           {
            "colorbar": {
             "outlinewidth": 0,
             "ticks": ""
            },
            "colorscale": [
             [
              0,
              "#0d0887"
             ],
             [
              0.1111111111111111,
              "#46039f"
             ],
             [
              0.2222222222222222,
              "#7201a8"
             ],
             [
              0.3333333333333333,
              "#9c179e"
             ],
             [
              0.4444444444444444,
              "#bd3786"
             ],
             [
              0.5555555555555556,
              "#d8576b"
             ],
             [
              0.6666666666666666,
              "#ed7953"
             ],
             [
              0.7777777777777778,
              "#fb9f3a"
             ],
             [
              0.8888888888888888,
              "#fdca26"
             ],
             [
              1,
              "#f0f921"
             ]
            ],
            "type": "surface"
           }
          ],
          "table": [
           {
            "cells": {
             "fill": {
              "color": "#EBF0F8"
             },
             "line": {
              "color": "white"
             }
            },
            "header": {
             "fill": {
              "color": "#C8D4E3"
             },
             "line": {
              "color": "white"
             }
            },
            "type": "table"
           }
          ]
         },
         "layout": {
          "annotationdefaults": {
           "arrowcolor": "#2a3f5f",
           "arrowhead": 0,
           "arrowwidth": 1
          },
          "autotypenumbers": "strict",
          "coloraxis": {
           "colorbar": {
            "outlinewidth": 0,
            "ticks": ""
           }
          },
          "colorscale": {
           "diverging": [
            [
             0,
             "#8e0152"
            ],
            [
             0.1,
             "#c51b7d"
            ],
            [
             0.2,
             "#de77ae"
            ],
            [
             0.3,
             "#f1b6da"
            ],
            [
             0.4,
             "#fde0ef"
            ],
            [
             0.5,
             "#f7f7f7"
            ],
            [
             0.6,
             "#e6f5d0"
            ],
            [
             0.7,
             "#b8e186"
            ],
            [
             0.8,
             "#7fbc41"
            ],
            [
             0.9,
             "#4d9221"
            ],
            [
             1,
             "#276419"
            ]
           ],
           "sequential": [
            [
             0,
             "#0d0887"
            ],
            [
             0.1111111111111111,
             "#46039f"
            ],
            [
             0.2222222222222222,
             "#7201a8"
            ],
            [
             0.3333333333333333,
             "#9c179e"
            ],
            [
             0.4444444444444444,
             "#bd3786"
            ],
            [
             0.5555555555555556,
             "#d8576b"
            ],
            [
             0.6666666666666666,
             "#ed7953"
            ],
            [
             0.7777777777777778,
             "#fb9f3a"
            ],
            [
             0.8888888888888888,
             "#fdca26"
            ],
            [
             1,
             "#f0f921"
            ]
           ],
           "sequentialminus": [
            [
             0,
             "#0d0887"
            ],
            [
             0.1111111111111111,
             "#46039f"
            ],
            [
             0.2222222222222222,
             "#7201a8"
            ],
            [
             0.3333333333333333,
             "#9c179e"
            ],
            [
             0.4444444444444444,
             "#bd3786"
            ],
            [
             0.5555555555555556,
             "#d8576b"
            ],
            [
             0.6666666666666666,
             "#ed7953"
            ],
            [
             0.7777777777777778,
             "#fb9f3a"
            ],
            [
             0.8888888888888888,
             "#fdca26"
            ],
            [
             1,
             "#f0f921"
            ]
           ]
          },
          "colorway": [
           "#636efa",
           "#EF553B",
           "#00cc96",
           "#ab63fa",
           "#FFA15A",
           "#19d3f3",
           "#FF6692",
           "#B6E880",
           "#FF97FF",
           "#FECB52"
          ],
          "font": {
           "color": "#2a3f5f"
          },
          "geo": {
           "bgcolor": "white",
           "lakecolor": "white",
           "landcolor": "#E5ECF6",
           "showlakes": true,
           "showland": true,
           "subunitcolor": "white"
          },
          "hoverlabel": {
           "align": "left"
          },
          "hovermode": "closest",
          "mapbox": {
           "style": "light"
          },
          "paper_bgcolor": "white",
          "plot_bgcolor": "#E5ECF6",
          "polar": {
           "angularaxis": {
            "gridcolor": "white",
            "linecolor": "white",
            "ticks": ""
           },
           "bgcolor": "#E5ECF6",
           "radialaxis": {
            "gridcolor": "white",
            "linecolor": "white",
            "ticks": ""
           }
          },
          "scene": {
           "xaxis": {
            "backgroundcolor": "#E5ECF6",
            "gridcolor": "white",
            "gridwidth": 2,
            "linecolor": "white",
            "showbackground": true,
            "ticks": "",
            "zerolinecolor": "white"
           },
           "yaxis": {
            "backgroundcolor": "#E5ECF6",
            "gridcolor": "white",
            "gridwidth": 2,
            "linecolor": "white",
            "showbackground": true,
            "ticks": "",
            "zerolinecolor": "white"
           },
           "zaxis": {
            "backgroundcolor": "#E5ECF6",
            "gridcolor": "white",
            "gridwidth": 2,
            "linecolor": "white",
            "showbackground": true,
            "ticks": "",
            "zerolinecolor": "white"
           }
          },
          "shapedefaults": {
           "line": {
            "color": "#2a3f5f"
           }
          },
          "ternary": {
           "aaxis": {
            "gridcolor": "white",
            "linecolor": "white",
            "ticks": ""
           },
           "baxis": {
            "gridcolor": "white",
            "linecolor": "white",
            "ticks": ""
           },
           "bgcolor": "#E5ECF6",
           "caxis": {
            "gridcolor": "white",
            "linecolor": "white",
            "ticks": ""
           }
          },
          "title": {
           "x": 0.05
          },
          "xaxis": {
           "automargin": true,
           "gridcolor": "white",
           "linecolor": "white",
           "ticks": "",
           "title": {
            "standoff": 15
           },
           "zerolinecolor": "white",
           "zerolinewidth": 2
          },
          "yaxis": {
           "automargin": true,
           "gridcolor": "white",
           "linecolor": "white",
           "ticks": "",
           "title": {
            "standoff": 15
           },
           "zerolinecolor": "white",
           "zerolinewidth": 2
          }
         }
        },
        "title": {
         "text": "Visualized Area of Improvement for Popular Restaurants in New York City using t-SNE"
        }
       }
      },
      "text/html": [
       "<div>                            <div id=\"bcd5a11f-6ad8-4e38-9ba9-0a07a81d02d2\" class=\"plotly-graph-div\" style=\"height:525px; width:100%;\"></div>            <script type=\"text/javascript\">                require([\"plotly\"], function(Plotly) {                    window.PLOTLYENV=window.PLOTLYENV || {};                                    if (document.getElementById(\"bcd5a11f-6ad8-4e38-9ba9-0a07a81d02d2\")) {                    Plotly.newPlot(                        \"bcd5a11f-6ad8-4e38-9ba9-0a07a81d02d2\",                        [{\"hoverinfo\":\"text\",\"marker\":{\"color\":[5,5,8,9,2,3,3,7,2,9,9,8,7,2,9,2,5,7,9,3,2,9,6,7,2,5,8,2,7,6,3,9,3,9,3,8,8,7,9,2,8,8,8,3,1,1,5,9,8,2,8,3,1,6,8,2,8,9,8,7,3,1,7,2,9,7,9,3,7,3,8,9,8,3,6,1,8,1,5,2,8,8,3,5,9,8,2,3,5,8,3,8,8,8,3,7,3,7,2,9,7,1,9,2,9,2,9,9,8,1,7,3,7,3,8,3,8,1,5,2,8,9,2,8,8,5,2,5,7,2,5,3,2,7,7,8,9,7,9,9,6,3,8,2,7,2,8,7,7,2,8,3,7,9,2,9,2,7,8,9,1,8,9,9,2,5,7,3,8,7,8,9,7,6,3,2,8,9,9,5,7,2,8,5,7,9,8,2,9,8,2,9,9,3,9,9,7,8,8,9,2,2,2,9,2,2,7,6,9,7,8,3],\"colorscale\":[[0.0,\"red\"],[0.1111111111111111,\"blue\"],[0.2222222222222222,\"green\"],[0.3333333333333333,\"yellow\"],[0.4444444444444444,\"orange\"],[0.5555555555555556,\"purple\"],[0.6666666666666666,\"pink\"],[0.7777777777777778,\"brown\"],[0.8888888888888888,\"gray\"],[1.0,\"cyan\"]],\"opacity\":0.8,\"size\":6},\"mode\":\"markers\",\"text\":[\"Foxface Natural : No areas for improvement.\",\"The Golden Swan : No areas for improvement.\",\"Barbalu - Brooklyn : Service and Flavor\",\"Number One Caviar Boutique : Inconsistent service and high prices.\",\"Don Angie : Long wait times and small portions.\",\"Mollusca : Service and Ambiance.\",\"Sixty Three Clinton : Service and Ambiance.\",\"NAKAJI : High prices, lack of seasoning\",\"The Sunken Harbor Club : Long wait times and small portions.\",\"Rosella : Inconsistent service and high prices.\",\"Kono : Inconsistent service and high prices.\",\"Sushi Ikumi : Service and Flavor\",\"Shinzo Omakase : High prices, lack of seasoning\",\"Ito : Long wait times and small portions.\",\"Taikun Sushi NYC : Inconsistent service and high prices.\",\"Stafili Wine Cafe : Long wait times and small portions.\",\"HAGS : No areas for improvement.\",\"Accidental Bar : High prices, lack of seasoning\",\"Sushi Lin Soho : Inconsistent service and high prices.\",\"Russ & Daughters Cafe : Service and Ambiance.\",\"The Coop at Double Chicken Please : Long wait times and small portions.\",\"Malaparte : Inconsistent service and high prices.\",\"Oiji Mi : Portion size and price.\",\"Golden Diner : High prices, lack of seasoning\",\"La Compagnie des Vins Surnaturels : Long wait times and small portions.\",\"Kings Co Imperial - Lower East Side : No areas for improvement.\",\"Overstory : Service and Flavor\",\"The Up & Up : Long wait times and small portions.\",\"Claud : High prices, lack of seasoning\",\"Torrisi Bar & Restaurant : Portion size and price.\",\"Shinn East : Service and Ambiance.\",\"Houseman : Inconsistent service and high prices.\",\"The Chef\\u2019s Counter at Manhatta : Service and Ambiance.\",\"Lord's : Inconsistent service and high prices.\",\"l'abeille : Service and Ambiance.\",\"SAGA : Service and Flavor\",\"Bar Six : Service and Flavor\",\"C as in Charlie : High prices, lack of seasoning\",\"Farra : Inconsistent service and high prices.\",\"L'Appart : Long wait times and small portions.\",\"Potluck Club : Service and Flavor\",\"Balvanera : Service and Flavor\",\"Sant Ambroeus - Brookfield Place : Service and Flavor\",\"L'accolade : Service and Ambiance.\",\"Shabu Tatsu : Poor service, rushed service\",\"Luthun : Poor service, rushed service\",\"The Little Shop : No areas for improvement.\",\"8282 : Inconsistent service and high prices.\",\"Torien : Service and Flavor\",\"Matsunori : Long wait times and small portions.\",\"Chito Gvrito : Service and Flavor\",\"Thirteen Water : Service and Ambiance.\",\"CICCIO Bar & Alimentari : Poor service, rushed service\",\"Saint Julivert Fisherie : Portion size and price.\",\"ARIARI : Service and Flavor\",\"Martiny's : Long wait times and small portions.\",\"Ama Raw Bar - East Village : Service and Flavor\",\"Omakase Room by Mitsu : Inconsistent service and high prices.\",\"Ama Raw Bar - West Village : Service and Flavor\",\"HIBINO - Brooklyn : High prices, lack of seasoning\",\"Via Della Pace : Service and Ambiance.\",\"Terroir : Poor service, rushed service\",\"St. Jardim : High prices, lack of seasoning\",\"Felice on Hudson : Long wait times and small portions.\",\"Leitao : Inconsistent service and high prices.\",\"Parcelle : High prices, lack of seasoning\",\"Holywater : Inconsistent service and high prices.\",\"Wicked Jane : Service and Ambiance.\",\"TLK - by Tigerlily Kitchen : High prices, lack of seasoning\",\"Sushi Lab - East Village : Service and Ambiance.\",\"Marylou : Service and Flavor\",\"Bar Lula : Inconsistent service and high prices.\",\"The Wesley : Service and Flavor\",\"Pips : Service and Ambiance.\",\"Nabila's : Portion size and price.\",\"Sushi Teru Omakase : Poor service, rushed service\",\"al Badawi : Service and Flavor\",\"The Wayland : Poor service, rushed service\",\"Essex Pearl : No areas for improvement.\",\"Motorino : Long wait times and small portions.\",\"Almar : Service and Flavor\",\"Inatteso Pizzabar : Service and Flavor\",\"Sushi by M - 4th St : Service and Ambiance.\",\"Brindle Room : No areas for improvement.\",\"Marc Forgione : Inconsistent service and high prices.\",\"Manero's Bar & Restaurant : Service and Flavor\",\"Omakase Sushi Fan : Long wait times and small portions.\",\"Rabbit : Service and Ambiance.\",\"Osteria Carlina Tribeca : No areas for improvement.\",\"SPUNTO NYCThinCrust Pizza : Service and Flavor\",\"Bisou : Service and Ambiance.\",\"Ella Funt : Service and Flavor\",\"BRADO NYCThinCrust Pizza : Service and Flavor\",\"Bandone : Service and Flavor\",\"Rai Rai Ken \\u002f Ban Rai : Service and Ambiance.\",\"J\\u014dji : High prices, lack of seasoning\",\"Legacy Records Special Events : Service and Ambiance.\",\"Glin Thai Bistro : High prices, lack of seasoning\",\"Wanpaku\\u002f Hidden Pearl : Long wait times and small portions.\",\"Keg and Lantern Brewery - Red Hook : Inconsistent service and high prices.\",\"The Four Horsemen : High prices, lack of seasoning\",\"Otis : Poor service, rushed service\",\"Ras Plant Based : Inconsistent service and high prices.\",\"The Polo Bar : Long wait times and small portions.\",\"Sushi Lin : Inconsistent service and high prices.\",\"Pomp & Circumstance : Long wait times and small portions.\",\"Runner Up : Inconsistent service and high prices.\",\"Omakase by korami : Inconsistent service and high prices.\",\"OKONOMI\\u002fYUJI Ramen : Service and Flavor\",\"Sundays Well : Poor service, rushed service\",\"Santa Fe BK : High prices, lack of seasoning\",\"Panchitas Place : Service and Ambiance.\",\"Aromi : High prices, lack of seasoning\",\"Salinas : Service and Ambiance.\",\"Public Display of Affection (PDA) : Service and Flavor\",\"HOUSE Brooklyn : Service and Ambiance.\",\"Ace's Pizza : Service and Flavor\",\"Lulu & Po : Poor service, rushed service\",\"Sucker Punch : No areas for improvement.\",\"390 Social : Long wait times and small portions.\",\"Bangkok Degree : Service and Flavor\",\"The Moore\\u002fMoore Wine : Inconsistent service and high prices.\",\"Ploo : Long wait times and small portions.\",\"Lilia : Service and Flavor\",\"Le Bernardin : Service and Flavor\",\"Keens Steakhouse : No areas for improvement.\",\"Miss Ada : Long wait times and small portions.\",\"Sushi Seki Chelsea : No areas for improvement.\",\"Shukette : High prices, lack of seasoning\",\"Le Crocodile : Long wait times and small portions.\",\"Kings Co Imperial - Williamsburg : No areas for improvement.\",\"Red Hook Tavern : Service and Ambiance.\",\"Evelina : Long wait times and small portions.\",\"Roman's : High prices, lack of seasoning\",\"Kochi : High prices, lack of seasoning\",\"Oxalis : Service and Flavor\",\"Laser Wolf Brooklyn : Inconsistent service and high prices.\",\"LaRina Pastificio & Vino : High prices, lack of seasoning\",\"Trattoria Trecolori : Inconsistent service and high prices.\",\"Traif : Inconsistent service and high prices.\",\"Haenyeo : Portion size and price.\",\"Sofreh : Service and Ambiance.\",\"Pasta Louise : Service and Flavor\",\"JUA : Long wait times and small portions.\",\"The Modern : High prices, lack of seasoning\",\"Tonchin New York : Long wait times and small portions.\",\"ViceVersa : Service and Flavor\",\"Monkey Bar : High prices, lack of seasoning\",\"Francie : High prices, lack of seasoning\",\"Buttermilk Channel : Long wait times and small portions.\",\"Roberta's : Service and Flavor\",\"Hart\\u2019s : Service and Ambiance.\",\"Colonia Verde : High prices, lack of seasoning\",\"Nura : Inconsistent service and high prices.\",\"LaLou : Long wait times and small portions.\",\"Hatsuhana Sushi Restaurant : Inconsistent service and high prices.\",\"Nami Nori Williamsburg : Long wait times and small portions.\",\"Leland Eating and Drinking House : High prices, lack of seasoning\",\"MONTESACRO : Service and Flavor\",\"West Bank Cafe : Inconsistent service and high prices.\",\"Place des F\\u00eates : Poor service, rushed service\",\"Etcetera Etcetera : Service and Flavor\",\"Bar B\\u00eate : Inconsistent service and high prices.\",\"Mari : Inconsistent service and high prices.\",\"Sweetwater Restaurant : Long wait times and small portions.\",\"Maison Premiere : No areas for improvement.\",\"Nonna Dora's : High prices, lack of seasoning\",\"Yakitori Torishin : Service and Ambiance.\",\"Madre : Service and Flavor\",\"Leo : High prices, lack of seasoning\",\"Olea : Service and Flavor\",\"The Marshal : Inconsistent service and high prices.\",\"Michael's Restaurant : High prices, lack of seasoning\",\"Taverna Di Bacco : Portion size and price.\",\"Blue Haven-West Village : Service and Ambiance.\",\"Della's : Long wait times and small portions.\",\"Esora Omakase : Service and Flavor\",\"Sushi Mumi : Inconsistent service and high prices.\",\"Arthur's Tavern : Inconsistent service and high prices.\",\"Seppe Pizza Bar : No areas for improvement.\",\"Han Dynasty - East Village : High prices, lack of seasoning\",\"Morgenstern's Finest Ice Cream : Long wait times and small portions.\",\"Top Thai Vintage : Service and Flavor\",\"Junsui : No areas for improvement.\",\"Kintsugi Omakase : High prices, lack of seasoning\",\"Pastis : Inconsistent service and high prices.\",\"Loring Place : Service and Flavor\",\"Rubirosa : Long wait times and small portions.\",\"Carbone : Inconsistent service and high prices.\",\"I Sodi : Service and Flavor\",\"L'Artusi : Long wait times and small portions.\",\"Raoul's : Inconsistent service and high prices.\",\"Sushi Nakazawa NY : Inconsistent service and high prices.\",\"Minetta Tavern : Service and Ambiance.\",\"Raku Soho : Inconsistent service and high prices.\",\"Cervo\\u2019s : Inconsistent service and high prices.\",\"Jeffrey's Grocery : High prices, lack of seasoning\",\"Dirt Candy : Service and Flavor\",\"Hanoi House : Service and Flavor\",\"Colonie : Inconsistent service and high prices.\",\"Fairfax : Long wait times and small portions.\",\"The Dead Rabbit Pub : Long wait times and small portions.\",\"Dame : Long wait times and small portions.\",\"Dear Irving Gramercy : Inconsistent service and high prices.\",\"Popina NYC : Long wait times and small portions.\",\"The Nines : Long wait times and small portions.\",\"MOKYO : High prices, lack of seasoning\",\"La Vara : Portion size and price.\",\"Noreetuh : Inconsistent service and high prices.\",\"Flex Mussels- WV : High prices, lack of seasoning\",\"Cafe Spaghetti : Service and Flavor\",\"da Toscano : Service and Ambiance.\"],\"x\":[-11.942015647888184,-10.991048812866211,29.861509323120117,-41.22684097290039,50.2684326171875,-67.92604064941406,-86.84332275390625,-1.7725619077682495,66.14574432373047,117.80941009521484,-57.58475875854492,87.99357604980469,-135.13230895996094,-19.98444366455078,-40.768524169921875,44.89794158935547,0.5193734765052795,-53.70383071899414,-94.83306121826172,136.05459594726562,33.042869567871094,-107.4654312133789,-2.499178171157837,-54.96214294433594,54.826778411865234,152.91539001464844,50.48329162597656,43.97393035888672,-62.20404052734375,28.25335121154785,1.8783665895462036,-9.81523323059082,-122.46131896972656,-143.87106323242188,-70.93496704101562,15.441107749938965,64.36021423339844,-26.723337173461914,25.890478134155273,135.1559600830078,-73.78270721435547,88.71658325195312,-118.3174819946289,-167.99087524414062,139.46017456054688,-52.716217041015625,-21.79470443725586,10.409467697143555,50.48259353637695,71.65813446044922,176.2153778076172,-123.47679138183594,-95.95763397216797,-25.6320858001709,132.93626403808594,-11.200366020202637,-15.864269256591797,-13.294998168945312,-64.57131958007812,-97.99762725830078,-7.093298435211182,-103.10340118408203,-58.00459671020508,94.23920440673828,36.25712585449219,171.6451873779297,5.251598358154297,-93.28482055664062,-91.35475158691406,-126.59628295898438,19.12674903869629,-74.65996551513672,-15.440919876098633,139.71621704101562,13.693948745727539,-75.4513931274414,115.98594665527344,-116.34245300292969,-16.562543869018555,132.4735870361328,-64.76719665527344,136.59716796875,-55.859214782714844,149.08096313476562,-19.291921615600586,-150.6366729736328,81.4212875366211,24.29991340637207,-45.836788177490234,84.78316497802734,-20.96139907836914,-145.17575073242188,-19.82732391357422,103.15729522705078,-135.8646240234375,-149.85287475585938,-44.52199935913086,-170.20191955566406,-84.69664001464844,-157.0685577392578,104.05928802490234,17.83346176147461,3.4114255905151367,-7.977046966552734,-97.81050872802734,-110.06189727783203,-123.8962631225586,21.41461181640625,61.75353240966797,-56.13170623779297,160.3918914794922,-82.72378540039062,-1.116165041923523,-64.07768249511719,91.64411926269531,16.077730178833008,-229.73040771484375,-130.07261657714844,14.613747596740723,-27.774473190307617,158.82476806640625,-10.965324401855469,37.69264221191406,-180.9009246826172,93.61663055419922,134.81240844726562,74.06143951416016,-18.510892868041992,82.25944519042969,99.50985717773438,-52.85759353637695,-85.40139770507812,70.36577606201172,-83.1214370727539,-101.71792602539062,101.47003173828125,8.821585655212402,-28.412729263305664,-87.41112518310547,-108.58447265625,59.58513259887695,51.13827896118164,-44.86629104614258,61.59978485107422,-36.43079376220703,1.4341188669204712,-163.10336303710938,73.97805786132812,28.435728073120117,71.10446166992188,85.06171417236328,159.705810546875,-11.648119926452637,77.96599578857422,106.88276672363281,47.823974609375,60.694820404052734,-19.281925201416016,6.774651050567627,72.20755767822266,-79.38541412353516,-30.097274780273438,-76.2306137084961,-54.365867614746094,-33.83796310424805,-41.80355453491211,-63.144309997558594,-43.35491943359375,24.192668914794922,-102.5002212524414,0.9098770618438721,-139.60714721679688,-62.423362731933594,75.49422454833984,-38.76361846923828,59.712345123291016,33.47212219238281,-108.82093048095703,101.84071350097656,119.8380355834961,73.96746063232422,34.247955322265625,38.47482681274414,5.7526140213012695,-121.42726135253906,191.8756561279297,12.5879487991333,-50.62380599975586,95.17681884765625,75.48348236083984,38.82974624633789,26.13298797607422,-48.48615646362305,-47.27313232421875,-80.02890014648438,65.95933532714844,-0.883305013179779,29.514802932739258,48.8330192565918,7.554653167724609,-131.29994201660156,99.21353149414062,146.90528869628906,65.2884292602539,22.267820358276367,120.73778533935547,-13.473926544189453,134.93695068359375,-100.46826171875,42.5977897644043,48.41374969482422,-64.5475082397461],\"y\":[161.4727020263672,79.17874145507812,-129.63168334960938,14.922789573669434,-5.380819797515869,79.73119354248047,127.58570861816406,-30.802400588989258,-46.74676513671875,-66.33119201660156,-80.53892517089844,5.371193885803223,38.9656867980957,101.90769958496094,-132.59347534179688,66.0329818725586,57.99081039428711,-99.351806640625,-79.78287506103516,108.95869445800781,-74.47016143798828,-48.77128982543945,2.2354111671447754,-94.42533874511719,72.12853240966797,-88.04492950439453,165.31932067871094,-22.4177303314209,-29.605947494506836,70.40631866455078,-109.76914978027344,-94.51610565185547,141.08273315429688,243.9872589111328,24.899444580078125,78.20069122314453,118.25068664550781,-2.4044508934020996,-82.88042449951172,40.65946960449219,-171.02113342285156,34.433963775634766,38.026485443115234,79.8896713256836,19.623994827270508,-42.72833251953125,44.03635025024414,-1.121546983718872,26.80038833618164,32.018314361572266,-16.984888076782227,89.90514373779297,31.933025360107422,-13.3978910446167,119.66395568847656,-50.44355392456055,78.73361206054688,-166.90357971191406,38.06172180175781,-123.25840759277344,62.03312683105469,-59.2823486328125,54.68423080444336,31.60491371154785,-100.08988952636719,-2.961402416229248,-152.3872528076172,0.24947747588157654,74.41725158691406,108.32868194580078,6.8384480476379395,-85.03054809570312,36.38923263549805,-92.58253479003906,15.784533500671387,-11.291543960571289,-5.432843208312988,-59.148033142089844,-15.54748249053955,6.125599384307861,82.77845764160156,66.19740295410156,-118.6407470703125,-58.83696746826172,-67.79559326171875,-132.36195373535156,41.500125885009766,116.99730682373047,8.880492210388184,96.9918212890625,31.161026000976562,-44.72914505004883,43.515342712402344,99.56412506103516,38.8692741394043,-37.53592300415039,38.461795806884766,0.627907395362854,-22.838029861450195,-91.40851593017578,-133.99002075195312,-28.23031234741211,-56.98030090332031,-105.98348236083984,94.72013092041016,84.707763671875,-8.712936401367188,-120.23544311523438,-93.67332458496094,-139.5608367919922,-9.698360443115234,46.404930114746094,68.47150421142578,132.50320434570312,62.43524932861328,92.12755584716797,20.370059967041016,-1.6384093761444092,49.955482482910156,-25.352279663085938,93.81237030029297,-67.60633087158203,-55.058372497558594,9.098546981811523,142.02085876464844,39.12166213989258,-28.892601013183594,-0.12937481701374054,108.17554473876953,-51.460243225097656,-38.6098518371582,80.2405776977539,-22.997060775756836,1.4144269227981567,-20.99091911315918,5.26635217666626,-166.56004333496094,101.8607406616211,-78.4485092163086,-119.38792419433594,-7.24267578125,-177.84100341796875,9.46420669555664,-9.213373184204102,55.634212493896484,126.058837890625,-43.03329849243164,111.8799057006836,117.83428192138672,-73.40642547607422,26.701744079589844,-67.46056365966797,165.55563354492188,-51.55119705200195,66.25775909423828,-139.6851043701172,-70.92831420898438,-84.13525390625,178.89254760742188,-92.90621948242188,40.213661193847656,122.70455932617188,-22.27011489868164,-165.28396606445312,-50.51047897338867,-129.54547119140625,94.80061340332031,75.60194396972656,-65.56723022460938,-95.21601867675781,50.21620559692383,-27.99100112915039,-35.64256286621094,-22.79183006286621,115.79481506347656,16.11445426940918,43.81365203857422,0.8249790668487549,-36.476898193359375,-77.66605377197266,74.46684265136719,-51.43874740600586,29.294979095458984,-25.26027488708496,-92.07832336425781,38.12800979614258,118.14674377441406,-57.14168167114258,-132.7272186279297,120.61275482177734,29.380617141723633,-2.948481798171997,170.04296875,51.91172790527344,149.16746520996094,-105.17865753173828,126.54693603515625,114.94133758544922,75.01587677001953,-118.02777862548828,52.02260208129883,-122.50694274902344,49.72216796875,-153.84812927246094,-29.85758399963379,-21.53455352783203,-75.61627960205078,-48.32936096191406,130.48829650878906,165.37387084960938,78.78205108642578,168.0333251953125],\"z\":[-81.04450225830078,23.356037139892578,-53.4935302734375,150.4423370361328,2.9443247318267822,61.94749450683594,31.271913528442383,-170.50970458984375,-1.9981446266174316,110.76556396484375,1.9073054790496826,85.63919067382812,-22.889957427978516,-98.90190887451172,16.291038513183594,-162.74786376953125,-4.511011600494385,68.80868530273438,135.15371704101562,-79.14434814453125,5.726076126098633,4.877325057983398,110.16393280029297,-90.52073669433594,106.0904769897461,-44.622989654541016,-95.80731964111328,86.0079574584961,157.6229248046875,-112.83533477783203,-137.21644592285156,53.33380889892578,-5.889792442321777,48.40676498413086,-108.02591705322266,-55.32708740234375,-32.40113067626953,-81.80902099609375,-94.92432403564453,2.0209295749664307,-28.039127349853516,-104.61319732666016,-88.82225036621094,-5.031476020812988,-123.61272430419922,-84.33202362060547,21.621070861816406,54.35641860961914,-100.45316314697266,135.52296447753906,-41.54022979736328,106.99425506591797,17.109546661376953,-126.61131286621094,14.120203018188477,130.973876953125,84.98308563232422,-76.38381958007812,47.522823333740234,2.3003344535827637,163.48219299316406,82.1270523071289,-25.662124633789062,-152.47482299804688,92.2861557006836,66.74211120605469,74.25454711914062,-22.943410873413086,-113.42166900634766,65.86612701416016,-74.19054412841797,-34.8366584777832,-43.631595611572266,17.303735733032227,-139.51248168945312,-67.56251525878906,129.93043518066406,-58.3519401550293,-17.98794937133789,-52.8140754699707,13.939961433410645,28.330169677734375,100.4670181274414,-14.844745635986328,-117.57310485839844,-24.402124404907227,7.202182769775391,117.52084350585938,-6.683166027069092,21.81031608581543,-174.9874725341797,-98.20181274414062,73.3255386352539,110.21347045898438,114.16943359375,63.11370086669922,-146.81683349609375,68.43350982666016,112.69114685058594,45.178932189941406,5.741867542266846,-45.203739166259766,81.17719268798828,130.32415771484375,-159.58383178710938,-24.39958953857422,16.83091163635254,33.85060501098633,151.63092041015625,-120.17135620117188,10.514294624328613,101.99833679199219,-138.69496154785156,87.93297576904297,60.15576934814453,132.00344848632812,-244.2014617919922,-60.084346771240234,29.600814819335938,71.47139739990234,-24.754365921020508,167.88919067382812,-130.95819091796875,-48.547603607177734,-6.550328731536865,83.41694641113281,139.67611694335938,16.295997619628906,-121.68852233886719,30.02786636352539,-29.72710418701172,136.32464599609375,26.01596450805664,-163.1889190673828,-114.68341827392578,-14.437735557556152,20.40471839904785,-50.722110748291016,34.672916412353516,60.086788177490234,-167.7818145751953,-22.03452491760254,88.48448181152344,-35.743289947509766,-86.6952896118164,-128.7641143798828,-19.091798782348633,95.2870101928711,13.148911476135254,-82.58612060546875,-55.16135025024414,60.326881408691406,69.75926208496094,-39.45418167114258,-37.12242126464844,-105.88407897949219,95.17070007324219,-57.06910705566406,13.047369956970215,43.47670364379883,-49.76792907714844,1.51138174533844,30.659717559814453,56.97548294067383,35.851966857910156,-42.977169036865234,-55.18289566040039,-157.87477111816406,-46.71597671508789,-109.10678100585938,-74.47286224365234,-159.28587341308594,-156.71945190429688,-117.9605712890625,137.1334991455078,44.13235855102539,-69.66531372070312,68.31403350830078,-69.80585479736328,-23.89410972595215,-71.72801208496094,47.22624588012695,-23.961181640625,7.263936519622803,-8.49897575378418,1.306997299194336,61.98262405395508,101.85199737548828,-57.312747955322266,-84.64904022216797,85.55406951904297,159.4777374267578,-33.3410758972168,120.15028381347656,-62.435237884521484,-15.37535572052002,-18.913190841674805,-55.731327056884766,-13.819657325744629,-18.555313110351562,41.935691833496094,81.57169342041016,-71.14925384521484,51.43153762817383,-99.2481689453125,58.323509216308594,-6.192943096160889,-190.7170867919922,-76.0604248046875,-10.256908416748047,55.0506591796875,27.028789520263672],\"type\":\"scatter3d\"}],                        {\"template\":{\"data\":{\"histogram2dcontour\":[{\"type\":\"histogram2dcontour\",\"colorbar\":{\"outlinewidth\":0,\"ticks\":\"\"},\"colorscale\":[[0.0,\"#0d0887\"],[0.1111111111111111,\"#46039f\"],[0.2222222222222222,\"#7201a8\"],[0.3333333333333333,\"#9c179e\"],[0.4444444444444444,\"#bd3786\"],[0.5555555555555556,\"#d8576b\"],[0.6666666666666666,\"#ed7953\"],[0.7777777777777778,\"#fb9f3a\"],[0.8888888888888888,\"#fdca26\"],[1.0,\"#f0f921\"]]}],\"choropleth\":[{\"type\":\"choropleth\",\"colorbar\":{\"outlinewidth\":0,\"ticks\":\"\"}}],\"histogram2d\":[{\"type\":\"histogram2d\",\"colorbar\":{\"outlinewidth\":0,\"ticks\":\"\"},\"colorscale\":[[0.0,\"#0d0887\"],[0.1111111111111111,\"#46039f\"],[0.2222222222222222,\"#7201a8\"],[0.3333333333333333,\"#9c179e\"],[0.4444444444444444,\"#bd3786\"],[0.5555555555555556,\"#d8576b\"],[0.6666666666666666,\"#ed7953\"],[0.7777777777777778,\"#fb9f3a\"],[0.8888888888888888,\"#fdca26\"],[1.0,\"#f0f921\"]]}],\"heatmap\":[{\"type\":\"heatmap\",\"colorbar\":{\"outlinewidth\":0,\"ticks\":\"\"},\"colorscale\":[[0.0,\"#0d0887\"],[0.1111111111111111,\"#46039f\"],[0.2222222222222222,\"#7201a8\"],[0.3333333333333333,\"#9c179e\"],[0.4444444444444444,\"#bd3786\"],[0.5555555555555556,\"#d8576b\"],[0.6666666666666666,\"#ed7953\"],[0.7777777777777778,\"#fb9f3a\"],[0.8888888888888888,\"#fdca26\"],[1.0,\"#f0f921\"]]}],\"heatmapgl\":[{\"type\":\"heatmapgl\",\"colorbar\":{\"outlinewidth\":0,\"ticks\":\"\"},\"colorscale\":[[0.0,\"#0d0887\"],[0.1111111111111111,\"#46039f\"],[0.2222222222222222,\"#7201a8\"],[0.3333333333333333,\"#9c179e\"],[0.4444444444444444,\"#bd3786\"],[0.5555555555555556,\"#d8576b\"],[0.6666666666666666,\"#ed7953\"],[0.7777777777777778,\"#fb9f3a\"],[0.8888888888888888,\"#fdca26\"],[1.0,\"#f0f921\"]]}],\"contourcarpet\":[{\"type\":\"contourcarpet\",\"colorbar\":{\"outlinewidth\":0,\"ticks\":\"\"}}],\"contour\":[{\"type\":\"contour\",\"colorbar\":{\"outlinewidth\":0,\"ticks\":\"\"},\"colorscale\":[[0.0,\"#0d0887\"],[0.1111111111111111,\"#46039f\"],[0.2222222222222222,\"#7201a8\"],[0.3333333333333333,\"#9c179e\"],[0.4444444444444444,\"#bd3786\"],[0.5555555555555556,\"#d8576b\"],[0.6666666666666666,\"#ed7953\"],[0.7777777777777778,\"#fb9f3a\"],[0.8888888888888888,\"#fdca26\"],[1.0,\"#f0f921\"]]}],\"surface\":[{\"type\":\"surface\",\"colorbar\":{\"outlinewidth\":0,\"ticks\":\"\"},\"colorscale\":[[0.0,\"#0d0887\"],[0.1111111111111111,\"#46039f\"],[0.2222222222222222,\"#7201a8\"],[0.3333333333333333,\"#9c179e\"],[0.4444444444444444,\"#bd3786\"],[0.5555555555555556,\"#d8576b\"],[0.6666666666666666,\"#ed7953\"],[0.7777777777777778,\"#fb9f3a\"],[0.8888888888888888,\"#fdca26\"],[1.0,\"#f0f921\"]]}],\"mesh3d\":[{\"type\":\"mesh3d\",\"colorbar\":{\"outlinewidth\":0,\"ticks\":\"\"}}],\"scatter\":[{\"fillpattern\":{\"fillmode\":\"overlay\",\"size\":10,\"solidity\":0.2},\"type\":\"scatter\"}],\"parcoords\":[{\"type\":\"parcoords\",\"line\":{\"colorbar\":{\"outlinewidth\":0,\"ticks\":\"\"}}}],\"scatterpolargl\":[{\"type\":\"scatterpolargl\",\"marker\":{\"colorbar\":{\"outlinewidth\":0,\"ticks\":\"\"}}}],\"bar\":[{\"error_x\":{\"color\":\"#2a3f5f\"},\"error_y\":{\"color\":\"#2a3f5f\"},\"marker\":{\"line\":{\"color\":\"#E5ECF6\",\"width\":0.5},\"pattern\":{\"fillmode\":\"overlay\",\"size\":10,\"solidity\":0.2}},\"type\":\"bar\"}],\"scattergeo\":[{\"type\":\"scattergeo\",\"marker\":{\"colorbar\":{\"outlinewidth\":0,\"ticks\":\"\"}}}],\"scatterpolar\":[{\"type\":\"scatterpolar\",\"marker\":{\"colorbar\":{\"outlinewidth\":0,\"ticks\":\"\"}}}],\"histogram\":[{\"marker\":{\"pattern\":{\"fillmode\":\"overlay\",\"size\":10,\"solidity\":0.2}},\"type\":\"histogram\"}],\"scattergl\":[{\"type\":\"scattergl\",\"marker\":{\"colorbar\":{\"outlinewidth\":0,\"ticks\":\"\"}}}],\"scatter3d\":[{\"type\":\"scatter3d\",\"line\":{\"colorbar\":{\"outlinewidth\":0,\"ticks\":\"\"}},\"marker\":{\"colorbar\":{\"outlinewidth\":0,\"ticks\":\"\"}}}],\"scattermapbox\":[{\"type\":\"scattermapbox\",\"marker\":{\"colorbar\":{\"outlinewidth\":0,\"ticks\":\"\"}}}],\"scatterternary\":[{\"type\":\"scatterternary\",\"marker\":{\"colorbar\":{\"outlinewidth\":0,\"ticks\":\"\"}}}],\"scattercarpet\":[{\"type\":\"scattercarpet\",\"marker\":{\"colorbar\":{\"outlinewidth\":0,\"ticks\":\"\"}}}],\"carpet\":[{\"aaxis\":{\"endlinecolor\":\"#2a3f5f\",\"gridcolor\":\"white\",\"linecolor\":\"white\",\"minorgridcolor\":\"white\",\"startlinecolor\":\"#2a3f5f\"},\"baxis\":{\"endlinecolor\":\"#2a3f5f\",\"gridcolor\":\"white\",\"linecolor\":\"white\",\"minorgridcolor\":\"white\",\"startlinecolor\":\"#2a3f5f\"},\"type\":\"carpet\"}],\"table\":[{\"cells\":{\"fill\":{\"color\":\"#EBF0F8\"},\"line\":{\"color\":\"white\"}},\"header\":{\"fill\":{\"color\":\"#C8D4E3\"},\"line\":{\"color\":\"white\"}},\"type\":\"table\"}],\"barpolar\":[{\"marker\":{\"line\":{\"color\":\"#E5ECF6\",\"width\":0.5},\"pattern\":{\"fillmode\":\"overlay\",\"size\":10,\"solidity\":0.2}},\"type\":\"barpolar\"}],\"pie\":[{\"automargin\":true,\"type\":\"pie\"}]},\"layout\":{\"autotypenumbers\":\"strict\",\"colorway\":[\"#636efa\",\"#EF553B\",\"#00cc96\",\"#ab63fa\",\"#FFA15A\",\"#19d3f3\",\"#FF6692\",\"#B6E880\",\"#FF97FF\",\"#FECB52\"],\"font\":{\"color\":\"#2a3f5f\"},\"hovermode\":\"closest\",\"hoverlabel\":{\"align\":\"left\"},\"paper_bgcolor\":\"white\",\"plot_bgcolor\":\"#E5ECF6\",\"polar\":{\"bgcolor\":\"#E5ECF6\",\"angularaxis\":{\"gridcolor\":\"white\",\"linecolor\":\"white\",\"ticks\":\"\"},\"radialaxis\":{\"gridcolor\":\"white\",\"linecolor\":\"white\",\"ticks\":\"\"}},\"ternary\":{\"bgcolor\":\"#E5ECF6\",\"aaxis\":{\"gridcolor\":\"white\",\"linecolor\":\"white\",\"ticks\":\"\"},\"baxis\":{\"gridcolor\":\"white\",\"linecolor\":\"white\",\"ticks\":\"\"},\"caxis\":{\"gridcolor\":\"white\",\"linecolor\":\"white\",\"ticks\":\"\"}},\"coloraxis\":{\"colorbar\":{\"outlinewidth\":0,\"ticks\":\"\"}},\"colorscale\":{\"sequential\":[[0.0,\"#0d0887\"],[0.1111111111111111,\"#46039f\"],[0.2222222222222222,\"#7201a8\"],[0.3333333333333333,\"#9c179e\"],[0.4444444444444444,\"#bd3786\"],[0.5555555555555556,\"#d8576b\"],[0.6666666666666666,\"#ed7953\"],[0.7777777777777778,\"#fb9f3a\"],[0.8888888888888888,\"#fdca26\"],[1.0,\"#f0f921\"]],\"sequentialminus\":[[0.0,\"#0d0887\"],[0.1111111111111111,\"#46039f\"],[0.2222222222222222,\"#7201a8\"],[0.3333333333333333,\"#9c179e\"],[0.4444444444444444,\"#bd3786\"],[0.5555555555555556,\"#d8576b\"],[0.6666666666666666,\"#ed7953\"],[0.7777777777777778,\"#fb9f3a\"],[0.8888888888888888,\"#fdca26\"],[1.0,\"#f0f921\"]],\"diverging\":[[0,\"#8e0152\"],[0.1,\"#c51b7d\"],[0.2,\"#de77ae\"],[0.3,\"#f1b6da\"],[0.4,\"#fde0ef\"],[0.5,\"#f7f7f7\"],[0.6,\"#e6f5d0\"],[0.7,\"#b8e186\"],[0.8,\"#7fbc41\"],[0.9,\"#4d9221\"],[1,\"#276419\"]]},\"xaxis\":{\"gridcolor\":\"white\",\"linecolor\":\"white\",\"ticks\":\"\",\"title\":{\"standoff\":15},\"zerolinecolor\":\"white\",\"automargin\":true,\"zerolinewidth\":2},\"yaxis\":{\"gridcolor\":\"white\",\"linecolor\":\"white\",\"ticks\":\"\",\"title\":{\"standoff\":15},\"zerolinecolor\":\"white\",\"automargin\":true,\"zerolinewidth\":2},\"scene\":{\"xaxis\":{\"backgroundcolor\":\"#E5ECF6\",\"gridcolor\":\"white\",\"linecolor\":\"white\",\"showbackground\":true,\"ticks\":\"\",\"zerolinecolor\":\"white\",\"gridwidth\":2},\"yaxis\":{\"backgroundcolor\":\"#E5ECF6\",\"gridcolor\":\"white\",\"linecolor\":\"white\",\"showbackground\":true,\"ticks\":\"\",\"zerolinecolor\":\"white\",\"gridwidth\":2},\"zaxis\":{\"backgroundcolor\":\"#E5ECF6\",\"gridcolor\":\"white\",\"linecolor\":\"white\",\"showbackground\":true,\"ticks\":\"\",\"zerolinecolor\":\"white\",\"gridwidth\":2}},\"shapedefaults\":{\"line\":{\"color\":\"#2a3f5f\"}},\"annotationdefaults\":{\"arrowcolor\":\"#2a3f5f\",\"arrowhead\":0,\"arrowwidth\":1},\"geo\":{\"bgcolor\":\"white\",\"landcolor\":\"#E5ECF6\",\"subunitcolor\":\"white\",\"showland\":true,\"showlakes\":true,\"lakecolor\":\"white\"},\"title\":{\"x\":0.05},\"mapbox\":{\"style\":\"light\"}}},\"margin\":{\"l\":0,\"r\":0,\"b\":0,\"t\":80},\"title\":{\"text\":\"Visualized Area of Improvement for Popular Restaurants in New York City using t-SNE\"}},                        {\"responsive\": true}                    ).then(function(){\n",
       "                            \n",
       "var gd = document.getElementById('bcd5a11f-6ad8-4e38-9ba9-0a07a81d02d2');\n",
       "var x = new MutationObserver(function (mutations, observer) {{\n",
       "        var display = window.getComputedStyle(gd).display;\n",
       "        if (!display || display === 'none') {{\n",
       "            console.log([gd, 'removed!']);\n",
       "            Plotly.purge(gd);\n",
       "            observer.disconnect();\n",
       "        }}\n",
       "}});\n",
       "\n",
       "// Listen for the removal of the full notebook cells\n",
       "var notebookContainer = gd.closest('#notebook-container');\n",
       "if (notebookContainer) {{\n",
       "    x.observe(notebookContainer, {childList: true});\n",
       "}}\n",
       "\n",
       "// Listen for the clearing of the current output cell\n",
       "var outputEl = gd.closest('.output');\n",
       "if (outputEl) {{\n",
       "    x.observe(outputEl, {childList: true});\n",
       "}}\n",
       "\n",
       "                        })                };                });            </script>        </div>"
      ]
     },
     "metadata": {},
     "output_type": "display_data"
    }
   ],
   "source": [
    "tsne = TSNE(n_components=3, perplexity=30, random_state=32, init='random', learning_rate=200)\n",
    "vis_dims = tsne.fit_transform(matrix)\n",
    "\n",
    "x = [x for x, y, z in vis_dims]\n",
    "y = [y for x, y, z in vis_dims]\n",
    "z = [z for x, y, z in vis_dims]\n",
    "\n",
    "color_indices = result_df.adjusted_AI_Cluster.values\n",
    "colors = [\"red\", \"blue\", \"green\", \"yellow\", \"orange\", \"purple\", \"pink\", \"brown\", \"gray\", \"cyan\"]\n",
    "\n",
    "fig = go.Figure(data=[go.Scatter3d(\n",
    "    x=x,\n",
    "    y=y,\n",
    "    z=z,\n",
    "    mode='markers',\n",
    "    marker=dict(\n",
    "        size=6,\n",
    "        color=color_indices,                # set color to an array/list of desired values\n",
    "        colorscale=colors,   # choose a colorscale\n",
    "        opacity=0.8\n",
    "    ),\n",
    "    text= result_df[\"Name\"] + ' : ' + result_df[\"Area_for_Improvement_Keywords\"],  # this line sets the hover text\n",
    "    hoverinfo='text'  # this line ensures that only the text appears on hover\n",
    ")])\n",
    "\n",
    "fig.update_layout(\n",
    "    title=\"Visualized Area of Improvement for Popular Restaurants in New York City using t-SNE\",\n",
    "    margin=dict(l=0, r=0, b=0, t=80)\n",
    ")\n",
    "\n",
    "fig.show()\n"
   ]
  },
  {
   "cell_type": "code",
   "execution_count": 46,
   "id": "8a728262",
   "metadata": {},
   "outputs": [
    {
     "data": {
      "text/html": [
       "<div>\n",
       "<style scoped>\n",
       "    .dataframe tbody tr th:only-of-type {\n",
       "        vertical-align: middle;\n",
       "    }\n",
       "\n",
       "    .dataframe tbody tr th {\n",
       "        vertical-align: top;\n",
       "    }\n",
       "\n",
       "    .dataframe thead th {\n",
       "        text-align: right;\n",
       "    }\n",
       "</style>\n",
       "<table border=\"1\" class=\"dataframe\">\n",
       "  <thead>\n",
       "    <tr style=\"text-align: right;\">\n",
       "      <th></th>\n",
       "      <th>Area for Imporvment</th>\n",
       "      <th># of Restaurants</th>\n",
       "    </tr>\n",
       "  </thead>\n",
       "  <tbody>\n",
       "    <tr>\n",
       "      <th>0</th>\n",
       "      <td>Service and Flavor</td>\n",
       "      <td>44</td>\n",
       "    </tr>\n",
       "    <tr>\n",
       "      <th>1</th>\n",
       "      <td>Inconsistent service and high prices.</td>\n",
       "      <td>41</td>\n",
       "    </tr>\n",
       "    <tr>\n",
       "      <th>2</th>\n",
       "      <td>Long wait times and small portions.</td>\n",
       "      <td>36</td>\n",
       "    </tr>\n",
       "    <tr>\n",
       "      <th>3</th>\n",
       "      <td>High prices, lack of seasoning</td>\n",
       "      <td>32</td>\n",
       "    </tr>\n",
       "    <tr>\n",
       "      <th>4</th>\n",
       "      <td>Service and Ambiance.</td>\n",
       "      <td>27</td>\n",
       "    </tr>\n",
       "    <tr>\n",
       "      <th>5</th>\n",
       "      <td>No areas for improvement.</td>\n",
       "      <td>15</td>\n",
       "    </tr>\n",
       "    <tr>\n",
       "      <th>6</th>\n",
       "      <td>Poor service, rushed service</td>\n",
       "      <td>10</td>\n",
       "    </tr>\n",
       "    <tr>\n",
       "      <th>7</th>\n",
       "      <td>Portion size and price.</td>\n",
       "      <td>7</td>\n",
       "    </tr>\n",
       "  </tbody>\n",
       "</table>\n",
       "</div>"
      ],
      "text/plain": [
       "                     Area for Imporvment  # of Restaurants\n",
       "0                     Service and Flavor                44\n",
       "1  Inconsistent service and high prices.                41\n",
       "2    Long wait times and small portions.                36\n",
       "3         High prices, lack of seasoning                32\n",
       "4                  Service and Ambiance.                27\n",
       "5              No areas for improvement.                15\n",
       "6           Poor service, rushed service                10\n",
       "7                Portion size and price.                 7"
      ]
     },
     "execution_count": 46,
     "metadata": {},
     "output_type": "execute_result"
    }
   ],
   "source": [
    "# cluster_summary = result_df['adjusted_AI_Cluster'].value_counts().reset_index()\n",
    "cluster_summary = (result_df[[\"Area_for_Improvement_Keywords\",\"Name\" ]]\n",
    "                   .groupby([\"Area_for_Improvement_Keywords\" ])\n",
    "                   .count()\n",
    "                   .sort_values(\"Name\", ascending = False)\n",
    "                   .reset_index()\n",
    "                  )\n",
    "\n",
    "cluster_summary.columns = [\"Area for Imporvment\",\"# of Restaurants\"]\n",
    "cluster_summary"
   ]
  },
  {
   "cell_type": "markdown",
   "id": "3b1b03d5",
   "metadata": {},
   "source": [
    "# Find the most Similar  Restaurant"
   ]
  },
  {
   "cell_type": "code",
   "execution_count": 47,
   "id": "4e3b8b4a",
   "metadata": {},
   "outputs": [],
   "source": [
    "def find_closest_restaurant(Name, embedding_type,df):\n",
    "\n",
    "    type_column_dict = {\"Overall\" :\"Overall Summary of the Restaurant\" , \n",
    "                        \"Dish\" : \"Specialty Dishes\", \n",
    "                        \"Strength\" : \"Strengths of the Restaurant\",\n",
    "                        \"Shortcoming\" : \"Areas for Improvement\"}\n",
    "    \n",
    "    embedding_column_dict = {\"Overall\" :\"OS_embedding\" , \n",
    "                        \"Dish\" : \"SD_embedding\", \n",
    "                        \"Strength\" : \"ST_embedding\",\n",
    "                        \"Shortcoming\" : \"AI_embedding\"}\n",
    "    \n",
    "    embeding_column = embedding_column_dict[embedding_type]\n",
    "    text_column = type_column_dict[embedding_type]\n",
    "    \n",
    "\n",
    "    values = df.loc[df['Name'] == Name, embeding_column].values\n",
    "\n",
    "    if values.size == 0:\n",
    "        raise ValueError(f\"No rows found with Name {Name}\")\n",
    "\n",
    "    res_embedding =  values[0]\n",
    "    \n",
    "    tmp_df = df[df[\"Name\"] != Name]\n",
    "    tmp_df = tmp_df[tmp_df[text_column]!= \"Not Available\" ]\n",
    "    \n",
    "    \n",
    "    vec = np.array(res_embedding)\n",
    "    list_vec = np.vstack(tmp_df[embeding_column].values)\n",
    "    \n",
    "    # Calculate the Euclidean distance between vec and each vector in list_vec\n",
    "    distances = np.linalg.norm(list_vec - vec, axis=1)\n",
    "    \n",
    "    # Get the index of the smallest distance\n",
    "    index = np.argmin(distances)\n",
    "    \n",
    "    # Return the closest merchant name with the category and \n",
    "    text = df[\"Name\"].iloc[index] + \"(\" + df[\"category\"].iloc[index] + \")\\n\" + df[text_column].iloc[index]\n",
    "\n",
    "    return text\n",
    "\n"
   ]
  },
  {
   "cell_type": "code",
   "execution_count": 48,
   "id": "9f1ab5ac",
   "metadata": {},
   "outputs": [
    {
     "name": "stdout",
     "output_type": "stream",
     "text": [
      "Salinas(Spanish)\n",
      "Salinas is a Spanish fine dining restaurant with a beautiful ambiance and excellent service. The restaurant specializes in a variety of dishes, including rice paella, squid ink croquets, and steak. The seafood rice, smoked salt cod on toast, bravas with caviar, beetroot with anchovies, and Basque cheesecake are also highly recommended. The restaurant has knowledgeable staff and great bartenders who make amazing cocktails. Some customers have mentioned issues with plating and wobbly tables, but overall, Salinas is a great place for a special occasion or a nice evening out.\n"
     ]
    }
   ],
   "source": [
    "result = find_closest_restaurant('Don Angie', \"Overall\",result_df)\n",
    "print(result)"
   ]
  },
  {
   "cell_type": "code",
   "execution_count": 49,
   "id": "a72b511c",
   "metadata": {},
   "outputs": [
    {
     "name": "stdout",
     "output_type": "stream",
     "text": [
      "Blue Haven-West Village(American)\n",
      "General Tso Cauliflower, wings, and chicken tenders\n"
     ]
    }
   ],
   "source": [
    "result2 = find_closest_restaurant('Don Angie', \"Dish\",result_df)\n",
    "print(result2)"
   ]
  },
  {
   "cell_type": "code",
   "execution_count": 50,
   "id": "967b1c2e",
   "metadata": {},
   "outputs": [
    {
     "name": "stdout",
     "output_type": "stream",
     "text": [
      "Ploo(Mexican)\n",
      "High-quality ingredients, flavorful and inventive dishes, attentive and friendly staff, welcoming and modern atmosphere\n"
     ]
    }
   ],
   "source": [
    "result3 = find_closest_restaurant('Don Angie',\"Strength\",result_df)\n",
    "print(result3)"
   ]
  },
  {
   "cell_type": "code",
   "execution_count": 51,
   "id": "1a3611ec",
   "metadata": {},
   "outputs": [
    {
     "name": "stdout",
     "output_type": "stream",
     "text": [
      "Sushi Seki Chelsea(Sushi)\n",
      "None mentioned in the reviews\n"
     ]
    }
   ],
   "source": [
    "result4 = find_closest_restaurant('Don Angie',\"Shortcoming\" ,result_df)\n",
    "print(result4)"
   ]
  }
 ],
 "metadata": {
  "kernelspec": {
   "display_name": "Python 3 (ipykernel)",
   "language": "python",
   "name": "python3"
  },
  "language_info": {
   "codemirror_mode": {
    "name": "ipython",
    "version": 3
   },
   "file_extension": ".py",
   "mimetype": "text/x-python",
   "name": "python",
   "nbconvert_exporter": "python",
   "pygments_lexer": "ipython3",
   "version": "3.7.10"
  }
 },
 "nbformat": 4,
 "nbformat_minor": 5
}
